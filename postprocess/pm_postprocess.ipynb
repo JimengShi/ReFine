{
 "cells": [
  {
   "cell_type": "markdown",
   "id": "6189ef88",
   "metadata": {},
   "source": [
    "## Import packages"
   ]
  },
  {
   "cell_type": "code",
   "execution_count": 1,
   "id": "a01a1167",
   "metadata": {},
   "outputs": [],
   "source": [
    "import os\n",
    "import sys\n",
    "\n",
    "module_path = os.path.abspath(os.path.join('..'))\n",
    "\n",
    "if module_path not in sys.path:\n",
    "    sys.path.append(module_path)"
   ]
  },
  {
   "cell_type": "code",
   "execution_count": 2,
   "id": "3f47fa9d",
   "metadata": {},
   "outputs": [
    {
     "name": "stderr",
     "output_type": "stream",
     "text": [
      "2024-02-03 15:03:12.584480: I tensorflow/stream_executor/platform/default/dso_loader.cc:49] Successfully opened dynamic library libcudart.so.10.1\n"
     ]
    }
   ],
   "source": [
    "import pandas as pd\n",
    "import numpy as np\n",
    "import matplotlib.pyplot as plt\n",
    "from sklearn.preprocessing import MinMaxScaler\n",
    "from helper import series_to_supervised\n",
    "from tensorflow.keras.models import load_model\n",
    "from preprocess import water_postprocess\n",
    "from scipy.stats import mannwhitneyu, wilcoxon, ttest_rel\n",
    "from sklearn.metrics import mean_squared_error as mse\n",
    "from sklearn.metrics import mean_absolute_error as mae\n",
    "from performance import metrics_s1_t1"
   ]
  },
  {
   "cell_type": "code",
   "execution_count": 3,
   "id": "0092be29",
   "metadata": {},
   "outputs": [],
   "source": [
    "import os\n",
    "os.environ[\"CUDA_VISIBLE_DEVICES\"] = \"7\""
   ]
  },
  {
   "cell_type": "markdown",
   "id": "62b6b865",
   "metadata": {},
   "source": [
    "## Preprocess data"
   ]
  },
  {
   "cell_type": "code",
   "execution_count": 4,
   "id": "c1e14ca0",
   "metadata": {},
   "outputs": [
    {
     "data": {
      "text/html": [
       "<div>\n",
       "<style scoped>\n",
       "    .dataframe tbody tr th:only-of-type {\n",
       "        vertical-align: middle;\n",
       "    }\n",
       "\n",
       "    .dataframe tbody tr th {\n",
       "        vertical-align: top;\n",
       "    }\n",
       "\n",
       "    .dataframe thead th {\n",
       "        text-align: right;\n",
       "    }\n",
       "</style>\n",
       "<table border=\"1\" class=\"dataframe\">\n",
       "  <thead>\n",
       "    <tr style=\"text-align: right;\">\n",
       "      <th></th>\n",
       "      <th>pollution</th>\n",
       "      <th>dew</th>\n",
       "      <th>temp</th>\n",
       "      <th>press</th>\n",
       "      <th>wnd_spd</th>\n",
       "      <th>snow</th>\n",
       "      <th>rain</th>\n",
       "      <th>NE</th>\n",
       "      <th>NW</th>\n",
       "      <th>SE</th>\n",
       "      <th>cv</th>\n",
       "    </tr>\n",
       "    <tr>\n",
       "      <th>date</th>\n",
       "      <th></th>\n",
       "      <th></th>\n",
       "      <th></th>\n",
       "      <th></th>\n",
       "      <th></th>\n",
       "      <th></th>\n",
       "      <th></th>\n",
       "      <th></th>\n",
       "      <th></th>\n",
       "      <th></th>\n",
       "      <th></th>\n",
       "    </tr>\n",
       "  </thead>\n",
       "  <tbody>\n",
       "    <tr>\n",
       "      <th>2010-01-02 00:00:00</th>\n",
       "      <td>129.0</td>\n",
       "      <td>-16</td>\n",
       "      <td>-4.0</td>\n",
       "      <td>1020.0</td>\n",
       "      <td>1.79</td>\n",
       "      <td>0</td>\n",
       "      <td>0</td>\n",
       "      <td>0</td>\n",
       "      <td>0</td>\n",
       "      <td>1</td>\n",
       "      <td>0</td>\n",
       "    </tr>\n",
       "    <tr>\n",
       "      <th>2010-01-02 01:00:00</th>\n",
       "      <td>148.0</td>\n",
       "      <td>-15</td>\n",
       "      <td>-4.0</td>\n",
       "      <td>1020.0</td>\n",
       "      <td>2.68</td>\n",
       "      <td>0</td>\n",
       "      <td>0</td>\n",
       "      <td>0</td>\n",
       "      <td>0</td>\n",
       "      <td>1</td>\n",
       "      <td>0</td>\n",
       "    </tr>\n",
       "    <tr>\n",
       "      <th>2010-01-02 02:00:00</th>\n",
       "      <td>159.0</td>\n",
       "      <td>-11</td>\n",
       "      <td>-5.0</td>\n",
       "      <td>1021.0</td>\n",
       "      <td>3.57</td>\n",
       "      <td>0</td>\n",
       "      <td>0</td>\n",
       "      <td>0</td>\n",
       "      <td>0</td>\n",
       "      <td>1</td>\n",
       "      <td>0</td>\n",
       "    </tr>\n",
       "    <tr>\n",
       "      <th>2010-01-02 03:00:00</th>\n",
       "      <td>181.0</td>\n",
       "      <td>-7</td>\n",
       "      <td>-5.0</td>\n",
       "      <td>1022.0</td>\n",
       "      <td>5.36</td>\n",
       "      <td>1</td>\n",
       "      <td>0</td>\n",
       "      <td>0</td>\n",
       "      <td>0</td>\n",
       "      <td>1</td>\n",
       "      <td>0</td>\n",
       "    </tr>\n",
       "    <tr>\n",
       "      <th>2010-01-02 04:00:00</th>\n",
       "      <td>138.0</td>\n",
       "      <td>-7</td>\n",
       "      <td>-5.0</td>\n",
       "      <td>1022.0</td>\n",
       "      <td>6.25</td>\n",
       "      <td>2</td>\n",
       "      <td>0</td>\n",
       "      <td>0</td>\n",
       "      <td>0</td>\n",
       "      <td>1</td>\n",
       "      <td>0</td>\n",
       "    </tr>\n",
       "  </tbody>\n",
       "</table>\n",
       "</div>"
      ],
      "text/plain": [
       "                     pollution  dew  temp   press  wnd_spd  snow  rain  NE  \\\n",
       "date                                                                         \n",
       "2010-01-02 00:00:00      129.0  -16  -4.0  1020.0     1.79     0     0   0   \n",
       "2010-01-02 01:00:00      148.0  -15  -4.0  1020.0     2.68     0     0   0   \n",
       "2010-01-02 02:00:00      159.0  -11  -5.0  1021.0     3.57     0     0   0   \n",
       "2010-01-02 03:00:00      181.0   -7  -5.0  1022.0     5.36     1     0   0   \n",
       "2010-01-02 04:00:00      138.0   -7  -5.0  1022.0     6.25     2     0   0   \n",
       "\n",
       "                     NW  SE  cv  \n",
       "date                             \n",
       "2010-01-02 00:00:00   0   1   0  \n",
       "2010-01-02 01:00:00   0   1   0  \n",
       "2010-01-02 02:00:00   0   1   0  \n",
       "2010-01-02 03:00:00   0   1   0  \n",
       "2010-01-02 04:00:00   0   1   0  "
      ]
     },
     "execution_count": 4,
     "metadata": {},
     "output_type": "execute_result"
    }
   ],
   "source": [
    "# https://keras.io/examples/timeseries/timeseries_weather_forecasting/#climate-data-timeseries\n",
    "data = pd.read_csv(\"../data/pollution.csv\", index_col=0)\n",
    "data.fillna(0, inplace=True)\n",
    "data.head()"
   ]
  },
  {
   "cell_type": "code",
   "execution_count": 5,
   "id": "b444521c",
   "metadata": {},
   "outputs": [
    {
     "name": "stdout",
     "output_type": "stream",
     "text": [
      "reframed.shape: (43717, 924)\n"
     ]
    }
   ],
   "source": [
    "values = data.values\n",
    "\n",
    "# specify the number of lag hours\n",
    "n_hours = 24*3\n",
    "n_features = data.shape[-1]\n",
    "k = 12\n",
    "split1 = 0.7\n",
    "split2 = 0.85\n",
    "\n",
    "# frame as supervised learning\n",
    "reframed = series_to_supervised(values, n_hours, k)\n",
    "print(\"reframed.shape:\", reframed.shape)"
   ]
  },
  {
   "cell_type": "code",
   "execution_count": 6,
   "id": "85e89a86",
   "metadata": {},
   "outputs": [
    {
     "name": "stdout",
     "output_type": "stream",
     "text": [
      "train_X.shape, train_y.shape, val_X.shape, val_y.shape, test_X.shape, test_y.shape (30601, 792) (30601, 12) (6558, 792) (6558, 12) (6558, 792) (6558, 12)\n"
     ]
    }
   ],
   "source": [
    "# split into train and test sets\n",
    "reframed_values = reframed.values\n",
    "n_train_hours = int(len(reframed_values)*split1)\n",
    "n_valid_hours = int(len(reframed_values)*split2)\n",
    "\n",
    "train = reframed_values[:n_train_hours, :]\n",
    "val = reframed_values[n_train_hours:n_valid_hours, :]\n",
    "test = reframed_values[n_valid_hours:, :]\n",
    "\n",
    "\n",
    "# split into input and outputs\n",
    "n_obs = n_hours * n_features\n",
    "feature_idx = 0\n",
    "train_X, train_y = train[:, :n_obs], train[:, [n_obs + feature_idx + n_features * i for i in range(k)]]\n",
    "val_X, val_y = val[:, :n_obs], val[:, [n_obs + feature_idx + n_features * i for i in range(k)]]\n",
    "test_X, test_y = test[:, :n_obs], test[:, [n_obs + feature_idx + n_features * i for i in range(k)]]\n",
    "\n",
    "\n",
    "print(\"train_X.shape, train_y.shape, val_X.shape, val_y.shape, test_X.shape, test_y.shape\", \n",
    "      train_X.shape, train_y.shape, val_X.shape, val_y.shape, test_X.shape, test_y.shape\n",
    "     )"
   ]
  },
  {
   "cell_type": "code",
   "execution_count": 7,
   "id": "5e22c696",
   "metadata": {},
   "outputs": [
    {
     "name": "stdout",
     "output_type": "stream",
     "text": [
      "train_X.shape, train_y.shape, val_X.shape, val_y.shape, test_X.shape, test_y.shape (30601, 72, 11) (30601, 12) (6558, 72, 11) (6558, 12) (6558, 72, 11) (6558, 12)\n"
     ]
    }
   ],
   "source": [
    "# normalize features\n",
    "scaler = MinMaxScaler(feature_range=(0, 1))\n",
    "\n",
    "train_X = scaler.fit_transform(train_X)\n",
    "train_y = scaler.fit_transform(train_y)\n",
    "\n",
    "val_X = scaler.fit_transform(val_X)\n",
    "val_y = scaler.fit_transform(val_y)\n",
    "\n",
    "test_X = scaler.fit_transform(test_X)\n",
    "test_y = scaler.fit_transform(test_y)\n",
    "\n",
    "# reshape input to be 3D [samples, timesteps, features]\n",
    "train_X = train_X.reshape((train_X.shape[0], n_hours, n_features))\n",
    "val_X = val_X.reshape((val_X.shape[0], n_hours, n_features))\n",
    "test_X = test_X.reshape((test_X.shape[0], n_hours, n_features))\n",
    "\n",
    "print(\"train_X.shape, train_y.shape, val_X.shape, val_y.shape, test_X.shape, test_y.shape\", \n",
    "      train_X.shape, train_y.shape, val_X.shape, val_y.shape, test_X.shape, test_y.shape\n",
    "     )"
   ]
  },
  {
   "cell_type": "markdown",
   "id": "dcf99ebe",
   "metadata": {},
   "source": [
    "### PM threshold"
   ]
  },
  {
   "cell_type": "code",
   "execution_count": 8,
   "id": "13b57480",
   "metadata": {},
   "outputs": [
    {
     "name": "stdout",
     "output_type": "stream",
     "text": [
      "(30601,)\n",
      "(6558,)\n",
      "(6558,)\n"
     ]
    }
   ],
   "source": [
    "train_X_pm = train_X[:, 0, feature_idx]\n",
    "print(train_X_pm.shape)\n",
    "\n",
    "val_X_pm = val_X[:, 0, feature_idx]\n",
    "print(val_X_pm.shape)\n",
    "\n",
    "test_X_pm = test_X[:, 0, feature_idx]\n",
    "print(test_X_pm.shape)"
   ]
  },
  {
   "cell_type": "code",
   "execution_count": 9,
   "id": "a7a33ce9",
   "metadata": {},
   "outputs": [
    {
     "name": "stdout",
     "output_type": "stream",
     "text": [
      "95th Percentile of Daily Rain: 0.33400402414486924\n"
     ]
    }
   ],
   "source": [
    "percentile = 95\n",
    "\n",
    "merged_array = np.concatenate((train_X_pm, val_X_pm, test_X_pm))\n",
    "\n",
    "percentile_pm = np.percentile(merged_array, percentile)\n",
    "\n",
    "print(\"{}th Percentile of Daily Rain:\".format(percentile), percentile_pm)"
   ]
  },
  {
   "cell_type": "markdown",
   "id": "a0f01f1f",
   "metadata": {},
   "source": [
    "### train_X_filter"
   ]
  },
  {
   "cell_type": "code",
   "execution_count": 10,
   "id": "77eb0645",
   "metadata": {},
   "outputs": [
    {
     "name": "stdout",
     "output_type": "stream",
     "text": [
      "(848, 72, 11)\n",
      "(848, 12)\n"
     ]
    }
   ],
   "source": [
    "train_X_extreme = train_X[train_X_pm > percentile_pm]\n",
    "print(train_X_extreme.shape)\n",
    "\n",
    "train_y_extreme = train_y[train_X_pm > percentile_pm]\n",
    "print(train_y_extreme.shape)"
   ]
  },
  {
   "cell_type": "code",
   "execution_count": 11,
   "id": "66f9063f",
   "metadata": {},
   "outputs": [
    {
     "name": "stdout",
     "output_type": "stream",
     "text": [
      "(29753, 72, 11)\n",
      "(29753, 12)\n"
     ]
    }
   ],
   "source": [
    "train_X_normal = train_X[train_X_pm <= percentile_pm]\n",
    "print(train_X_normal.shape)\n",
    "\n",
    "train_y_normal = train_y[train_X_pm <= percentile_pm]\n",
    "print(train_y_normal.shape)"
   ]
  },
  {
   "cell_type": "markdown",
   "id": "d084558d",
   "metadata": {},
   "source": [
    "### val_X_filter"
   ]
  },
  {
   "cell_type": "code",
   "execution_count": 12,
   "id": "2c8d3e2a",
   "metadata": {},
   "outputs": [
    {
     "name": "stdout",
     "output_type": "stream",
     "text": [
      "(752, 72, 11)\n",
      "(752, 12)\n"
     ]
    }
   ],
   "source": [
    "val_X_extreme = val_X[val_X_pm > percentile_pm]\n",
    "print(val_X_extreme.shape)\n",
    "\n",
    "val_y_extreme = val_y[val_X_pm > percentile_pm]\n",
    "print(val_y_extreme.shape)"
   ]
  },
  {
   "cell_type": "code",
   "execution_count": 13,
   "id": "b1ae307f",
   "metadata": {},
   "outputs": [
    {
     "name": "stdout",
     "output_type": "stream",
     "text": [
      "(5806, 72, 11)\n",
      "(5806, 12)\n"
     ]
    }
   ],
   "source": [
    "val_X_normal = val_X[val_X_pm <= percentile_pm]\n",
    "print(val_X_normal.shape)\n",
    "\n",
    "val_y_normal = val_y[val_X_pm <= percentile_pm]\n",
    "print(val_y_normal.shape)"
   ]
  },
  {
   "cell_type": "markdown",
   "id": "d95737b8",
   "metadata": {},
   "source": [
    "### test_X_filter"
   ]
  },
  {
   "cell_type": "code",
   "execution_count": 14,
   "id": "ae808e74",
   "metadata": {},
   "outputs": [
    {
     "name": "stdout",
     "output_type": "stream",
     "text": [
      "(581, 72, 11)\n",
      "(581, 12)\n"
     ]
    }
   ],
   "source": [
    "test_X_extreme = test_X[test_X_pm > percentile_pm]\n",
    "print(test_X_extreme.shape)\n",
    "\n",
    "test_y_extreme = test_y[test_X_pm > percentile_pm]\n",
    "print(test_y_extreme.shape)"
   ]
  },
  {
   "cell_type": "code",
   "execution_count": 15,
   "id": "80ebaabe",
   "metadata": {},
   "outputs": [
    {
     "name": "stdout",
     "output_type": "stream",
     "text": [
      "(5977, 72, 11)\n",
      "(5977, 12)\n"
     ]
    }
   ],
   "source": [
    "test_X_normal = test_X[test_X_pm <= percentile_pm]\n",
    "print(test_X_normal.shape)\n",
    "\n",
    "test_y_normal = test_y[test_X_pm <= percentile_pm]\n",
    "print(test_y_normal.shape)"
   ]
  },
  {
   "cell_type": "markdown",
   "id": "8003a2dc",
   "metadata": {},
   "source": [
    "## Test model"
   ]
  },
  {
   "cell_type": "code",
   "execution_count": 16,
   "id": "c28f45b8",
   "metadata": {},
   "outputs": [],
   "source": [
    "# ws_threshold = 2.58\n",
    "time_index = 0"
   ]
  },
  {
   "cell_type": "markdown",
   "id": "da5beaa4",
   "metadata": {},
   "source": [
    "#### Extreme"
   ]
  },
  {
   "cell_type": "code",
   "execution_count": 33,
   "id": "65c21ac6",
   "metadata": {
    "scrolled": true
   },
   "outputs": [],
   "source": [
    "# saved_model = load_model('../saved_models_mlp/pm_N.h5') \n",
    "# saved_model = load_model('../saved_models_mlp/pm_E.h5') \n",
    "\n",
    "\n",
    "# saved_model = load_model('../saved_models_mlp/pm_all.h5') \n",
    "# saved_model = load_model('../saved_models_mlp/pm_all_95_ft.h5')\n",
    "\n",
    "\n",
    "# saved_model = load_model('../saved_models_mlp/pm_all_weighted_IPF_95.h5')\n",
    "# saved_model = load_model('../saved_models_mlp/pm_all_weighted_IPF_95_ft.h5')\n",
    "\n",
    "\n",
    "# saved_model = load_model('../saved_models_mlp/pm_all_weighted_EVT_95.h5')\n",
    "# saved_model = load_model('../saved_models_mlp/pm_all_weighted_EVT_95_ft.h5')\n",
    "\n",
    "\n",
    "saved_model = load_model('../saved_models_mlp/pm_all_weighted_META_95.h5')\n",
    "# saved_model = load_model('../saved_models_mlp/pm_all_weighted_META_95_ft.h5')\n",
    "\n",
    "\n",
    "yhat_extreme = saved_model.predict(test_X_extreme)\n",
    "\n",
    "inv_yhat_extreme = scaler.inverse_transform(yhat_extreme)\n",
    "inv_y_extreme = scaler.inverse_transform(test_y_extreme)\n",
    "test_errors_extreme = inv_yhat_extreme - inv_y_extreme\n",
    "\n",
    "# print('MAE = {}'.format(float(\"{:.6f}\".format(mae(inv_y_extreme, inv_yhat_extreme)))))\n",
    "# print('RMSE = {}'.format(float(\"{:.6f}\".format(np.sqrt(mse(inv_y_extreme, inv_yhat_extreme))))))"
   ]
  },
  {
   "cell_type": "code",
   "execution_count": 34,
   "id": "68947f41",
   "metadata": {},
   "outputs": [
    {
     "name": "stdout",
     "output_type": "stream",
     "text": [
      "Peformance when water level is over 2.0 ft \n",
      "\n",
      "------ MAE & RMSE ------\n",
      "MAE = 36.90641\n",
      "RMSE = 56.602341 \n",
      "\n",
      "------ Max Errors (t+1 at S1) ------\n",
      "Max Error of Over Estimation: 130.31353759765625\n",
      "Max Error of Under Estimation: -123.68858337402344\n",
      "Max Abs Error of Under Estimation: 130.31353759765625 \n",
      "\n",
      "------ Time # (t+1 at S1) ------\n",
      "Time# of Over Estimation: 308\n",
      "Time# of Under Estimation: 273 \n",
      "\n",
      "------ Area (t+1 at S1) ------\n",
      "Area of Over Estimation: 5037.882924079895\n",
      "Area of Under Estimation: -4345.403095543385\n"
     ]
    }
   ],
   "source": [
    "metrics_s1_t1(inv_y_extreme.min(), time_index, inv_y_extreme, inv_yhat_extreme, test_errors_extreme)"
   ]
  },
  {
   "cell_type": "markdown",
   "id": "934cc45f",
   "metadata": {},
   "source": [
    "#### Normal & Extreme hen water level is over threshold 2.58 feet (95 percentile)"
   ]
  },
  {
   "cell_type": "code",
   "execution_count": 23,
   "id": "4301bd5b",
   "metadata": {},
   "outputs": [
    {
     "name": "stdout",
     "output_type": "stream",
     "text": [
      "Peformance when water level is over 0.0 ft \n",
      "\n",
      "------ MAE & RMSE ------\n",
      "MAE = 32.433259\n",
      "RMSE = 49.427912 \n",
      "\n",
      "------ Max Errors (t+1 at S1) ------\n",
      "Max Error of Over Estimation: 170.5828399658203\n",
      "Max Error of Under Estimation: -508.7136459350586\n",
      "Max Abs Error of Under Estimation: 508.7136459350586 \n",
      "\n",
      "------ Time # (t+1 at S1) ------\n",
      "Time# of Over Estimation: 3136\n",
      "Time# of Under Estimation: 3334 \n",
      "\n",
      "------ Area (t+1 at S1) ------\n",
      "Area of Over Estimation: 41364.09931087494\n",
      "Area of Under Estimation: -55552.61905416846\n"
     ]
    }
   ],
   "source": [
    "# saved_model = load_model('../saved_models_mlp/pm_all.h5') \n",
    "# saved_model = load_model('../saved_models_mlp/pm_all_95_ft.h5')\n",
    "\n",
    "\n",
    "# saved_model = load_model('../saved_models_mlp/pm_all_weighted_IPF_95.h5')\n",
    "# saved_model = load_model('../saved_models_mlp/pm_all_weighted_IPF_95_ft.h5')\n",
    "\n",
    "\n",
    "# saved_model = load_model('../saved_models_mlp/pm_all_weighted_EVT_95.h5')\n",
    "# saved_model = load_model('../saved_models_mlp/pm_all_weighted_EVT_95_ft.h5')\n",
    "\n",
    "\n",
    "saved_model = load_model('../saved_models_mlp/pm_all_weighted_META_95.h5')\n",
    "# saved_model = load_model('../saved_models_mlp/pm_all_weighted_META_95_ft.h5')\n",
    "\n",
    "\n",
    "yhat = saved_model.predict(test_X)\n",
    "\n",
    "\n",
    "inv_yhat = scaler.inverse_transform(yhat)\n",
    "inv_y = scaler.inverse_transform(test_y)\n",
    "test_errors = inv_yhat - inv_y\n",
    "\n",
    "metrics_s1_t1(inv_y.min(), time_index, inv_y, inv_yhat, test_errors)"
   ]
  },
  {
   "cell_type": "markdown",
   "id": "8199d731",
   "metadata": {},
   "source": [
    "#### hyperparameter - frozen layers"
   ]
  },
  {
   "cell_type": "code",
   "execution_count": 23,
   "id": "c60c3dba",
   "metadata": {
    "scrolled": true
   },
   "outputs": [
    {
     "name": "stdout",
     "output_type": "stream",
     "text": [
      "layer: 1\n",
      "MAE = 37.315949\n",
      "RMSE = 56.256228\n",
      "-------------------------\n",
      "layer: 5\n",
      "MAE = 35.6374\n",
      "RMSE = 54.496486\n",
      "-------------------------\n",
      "layer: 9\n",
      "MAE = 35.942333\n",
      "RMSE = 54.47041\n",
      "-------------------------\n",
      "layer: 13\n",
      "MAE = 35.315476\n",
      "RMSE = 53.917494\n",
      "-------------------------\n",
      "layer: 17\n",
      "MAE = 35.263393\n",
      "RMSE = 53.878661\n",
      "-------------------------\n"
     ]
    }
   ],
   "source": [
    "layers = [1, 5, 9, 13, 17]\n",
    "for layer in layers:\n",
    "    print('layer: {}'.format(layer))\n",
    "    saved_model = load_model('../saved_models_hyper/pm_all_weighted_META_ft_{}.h5'.format(layer))\n",
    "\n",
    "    yhat_extreme = saved_model.predict(test_X_extreme)\n",
    "\n",
    "    inv_yhat_extreme = scaler.inverse_transform(yhat_extreme)\n",
    "    inv_y_extreme = scaler.inverse_transform(test_y_extreme)\n",
    "    test_errors_extreme = inv_yhat_extreme - inv_y_extreme\n",
    "\n",
    "    print('MAE = {}'.format(float(\"{:.6f}\".format(mae(inv_y_extreme, inv_yhat_extreme)))))\n",
    "    print('RMSE = {}'.format(float(\"{:.6f}\".format(np.sqrt(mse(inv_y_extreme, inv_yhat_extreme))))))\n",
    "    print('-------------------------')"
   ]
  },
  {
   "cell_type": "markdown",
   "id": "6b86082d",
   "metadata": {},
   "source": [
    "### p-values"
   ]
  },
  {
   "cell_type": "code",
   "execution_count": 18,
   "id": "8082f9cb",
   "metadata": {},
   "outputs": [
    {
     "data": {
      "text/plain": [
       "(581, 12)"
      ]
     },
     "execution_count": 18,
     "metadata": {},
     "output_type": "execute_result"
    }
   ],
   "source": [
    "saved_model = load_model('../saved_models_mlp/pm_all.h5') \n",
    "\n",
    "yhat_extreme = saved_model.predict(test_X_extreme)\n",
    "inv_yhat_extreme = scaler.inverse_transform(yhat_extreme)\n",
    "inv_y_extreme = scaler.inverse_transform(test_y_extreme)\n",
    "test_errors_extreme_ori = inv_yhat_extreme - inv_y_extreme\n",
    "test_errors_extreme_ori.shape"
   ]
  },
  {
   "cell_type": "code",
   "execution_count": 19,
   "id": "c3b5f6e7",
   "metadata": {},
   "outputs": [],
   "source": [
    "saved_model = load_model('../saved_models_mlp/pm_all_weighted_META_95.h5')\n",
    "\n",
    "yhat_extreme = saved_model.predict(test_X_extreme)\n",
    "inv_yhat_extreme = scaler.inverse_transform(yhat_extreme)\n",
    "inv_y_extreme = scaler.inverse_transform(test_y_extreme)\n",
    "test_errors_extreme_re_meta = inv_yhat_extreme - inv_y_extreme"
   ]
  },
  {
   "cell_type": "code",
   "execution_count": 23,
   "id": "6ad5b6cc",
   "metadata": {},
   "outputs": [
    {
     "name": "stdout",
     "output_type": "stream",
     "text": [
      "p_value_mann: 1.3371e-02\n",
      "p_value_wilcoxon: 7.1949e-06\n",
      "p_value_ttest: 1.2713e-04\n"
     ]
    }
   ],
   "source": [
    "t_index = 5\n",
    "\n",
    "# ========= Mann-Whitney U test =========\n",
    "stat_mann, p_value_mann = mannwhitneyu(test_errors_extreme_ori[:,t_index], test_errors_extreme_re_meta[:,t_index], alternative='two-sided')\n",
    "print(f\"p_value_mann: {p_value_mann:.4e}\")\n",
    "\n",
    "\n",
    "# ========= wilcoxon U test =========\n",
    "stat_wilcoxon, p_value_wilcoxon = wilcoxon(test_errors_extreme_ori[:, t_index], test_errors_extreme_re_meta[:, t_index])\n",
    "print(f\"p_value_wilcoxon: {p_value_wilcoxon:.4e}\")\n",
    "\n",
    "\n",
    "# ========= t-test =========\n",
    "t_statistic, p_value = ttest_rel(test_errors_extreme_ori[:,t_index], test_errors_extreme_re_meta[:,t_index])\n",
    "print(f\"p_value_ttest: {p_value:.4e}\")"
   ]
  },
  {
   "cell_type": "code",
   "execution_count": null,
   "id": "49668bbd",
   "metadata": {},
   "outputs": [],
   "source": []
  },
  {
   "cell_type": "code",
   "execution_count": null,
   "id": "18d49367",
   "metadata": {},
   "outputs": [],
   "source": []
  }
 ],
 "metadata": {
  "kernelspec": {
   "display_name": "Python 3 (ipykernel)",
   "language": "python",
   "name": "python3"
  },
  "language_info": {
   "codemirror_mode": {
    "name": "ipython",
    "version": 3
   },
   "file_extension": ".py",
   "mimetype": "text/x-python",
   "name": "python",
   "nbconvert_exporter": "python",
   "pygments_lexer": "ipython3",
   "version": "3.8.16"
  }
 },
 "nbformat": 4,
 "nbformat_minor": 5
}
