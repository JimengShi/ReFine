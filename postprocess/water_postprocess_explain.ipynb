{
 "cells": [
  {
   "cell_type": "markdown",
   "id": "6189ef88",
   "metadata": {},
   "source": [
    "## Import packages"
   ]
  },
  {
   "cell_type": "code",
   "execution_count": 1,
   "id": "a01a1167",
   "metadata": {},
   "outputs": [],
   "source": [
    "import os\n",
    "import sys\n",
    "\n",
    "module_path = os.path.abspath(os.path.join('..'))\n",
    "\n",
    "if module_path not in sys.path:\n",
    "    sys.path.append(module_path)"
   ]
  },
  {
   "cell_type": "code",
   "execution_count": 262,
   "id": "3f47fa9d",
   "metadata": {},
   "outputs": [],
   "source": [
    "import pandas as pd\n",
    "import numpy as np\n",
    "import matplotlib.pyplot as plt\n",
    "from sklearn.metrics import mean_squared_error as mse\n",
    "from sklearn.metrics import mean_absolute_error as mae\n",
    "from sklearn.manifold import TSNE\n",
    "import tensorflow as tf\n",
    "import seaborn as sns\n",
    "from tensorflow.keras.models import load_model\n",
    "from preprocess import water_postprocess\n",
    "from scipy import stats\n",
    "from scipy.stats import mannwhitneyu, wilcoxon, ttest_rel\n",
    "from performance import metrics_s1_t1\n",
    "\n",
    "import matplotlib.pyplot as plt\n",
    "import numpy as np\n",
    "import pandas as pd\n",
    "from matplotlib.colors import Normalize\n",
    "from matplotlib.cm import ScalarMappable"
   ]
  },
  {
   "cell_type": "code",
   "execution_count": 3,
   "id": "0092be29",
   "metadata": {},
   "outputs": [],
   "source": [
    "import os\n",
    "os.environ[\"CUDA_VISIBLE_DEVICES\"] = \"7\""
   ]
  },
  {
   "cell_type": "markdown",
   "id": "62b6b865",
   "metadata": {},
   "source": [
    "## Preprocess data"
   ]
  },
  {
   "cell_type": "code",
   "execution_count": 4,
   "id": "c1e14ca0",
   "metadata": {},
   "outputs": [],
   "source": [
    "# ====== preprocessing parameters ======\n",
    "n_hours = 72\n",
    "k = 24 \n",
    "masked_value = 1e-10\n",
    "split_1 = 0.7\n",
    "split_2 = 0.85"
   ]
  },
  {
   "cell_type": "code",
   "execution_count": 5,
   "id": "b444521c",
   "metadata": {},
   "outputs": [
    {
     "name": "stdout",
     "output_type": "stream",
     "text": [
      "Index(['MEAN_RAIN', 'WS_S4', 'GATE_S25A', 'GATE_S25B', 'GATE_S25B2',\n",
      "       'GATE_S26_1', 'GATE_S26_2', 'PUMP_S25B', 'PUMP_S26', 'HWS_S25A',\n",
      "       'HWS_S25B', 'HWS_S26', 'WS_S1', 'TWS_S25A', 'TWS_S25B', 'TWS_S26'],\n",
      "      dtype='object')\n"
     ]
    }
   ],
   "source": [
    "train_X_mask, val_X_mask, test_X_mask, \\\n",
    "train_ws_y, val_ws_y, test_ws_y, \\\n",
    "scaler, ws_scaler = water_postprocess(n_hours, k, masked_value, split_1, split_2)"
   ]
  },
  {
   "cell_type": "code",
   "execution_count": 6,
   "id": "85e89a86",
   "metadata": {},
   "outputs": [
    {
     "name": "stdout",
     "output_type": "stream",
     "text": [
      "(67435, 96, 16) (14451, 96, 16) (14451, 96, 16) (67435, 96) (14451, 96) (14451, 96)\n"
     ]
    }
   ],
   "source": [
    "print(train_X_mask.shape, val_X_mask.shape, test_X_mask.shape, train_ws_y.shape, val_ws_y.shape, test_ws_y.shape)"
   ]
  },
  {
   "cell_type": "markdown",
   "id": "dcf99ebe",
   "metadata": {},
   "source": [
    "### Rain threshold"
   ]
  },
  {
   "cell_type": "code",
   "execution_count": 7,
   "id": "13b57480",
   "metadata": {},
   "outputs": [
    {
     "name": "stdout",
     "output_type": "stream",
     "text": [
      "(67435,)\n",
      "(14451,)\n",
      "(14451,)\n"
     ]
    }
   ],
   "source": [
    "# train_X_mask_rain_acc = np.sum(train_X_mask[:, -24:, 0], axis=1)\n",
    "# print(train_X_mask_rain_acc.shape)\n",
    "\n",
    "# test_X_mask_rain_acc = np.sum(test_X_mask[:, -24:, 0], axis=1)\n",
    "# print(test_X_mask_rain_acc.shape)\n",
    "\n",
    "train_X_mask_rain_acc = train_X_mask[:, 0, 0]\n",
    "print(train_X_mask_rain_acc.shape)\n",
    "\n",
    "val_X_mask_rain_acc = val_X_mask[:, 0, 0]\n",
    "print(val_X_mask_rain_acc.shape)\n",
    "\n",
    "test_X_mask_rain_acc = test_X_mask[:, 0, 0]\n",
    "print(test_X_mask_rain_acc.shape)"
   ]
  },
  {
   "cell_type": "code",
   "execution_count": 8,
   "id": "a7a33ce9",
   "metadata": {},
   "outputs": [
    {
     "name": "stdout",
     "output_type": "stream",
     "text": [
      "95th Percentile of Daily Rain: 0.010711610503493287\n"
     ]
    }
   ],
   "source": [
    "percentile = 95\n",
    "\n",
    "merged_array = np.concatenate((train_X_mask_rain_acc, val_X_mask_rain_acc, test_X_mask_rain_acc))\n",
    "\n",
    "percentile_rain = np.percentile(merged_array, percentile)\n",
    "\n",
    "print(\"{}th Percentile of Daily Rain:\".format(percentile), percentile_rain)"
   ]
  },
  {
   "cell_type": "markdown",
   "id": "a0f01f1f",
   "metadata": {},
   "source": [
    "### train_X_mask_filter"
   ]
  },
  {
   "cell_type": "code",
   "execution_count": 9,
   "id": "77eb0645",
   "metadata": {},
   "outputs": [
    {
     "name": "stdout",
     "output_type": "stream",
     "text": [
      "(3251, 96, 16)\n",
      "(3251, 96)\n"
     ]
    }
   ],
   "source": [
    "train_X_mask_extreme = train_X_mask[train_X_mask_rain_acc > percentile_rain]\n",
    "print(train_X_mask_extreme.shape)\n",
    "\n",
    "train_ws_y_extreme = train_ws_y[train_X_mask_rain_acc > percentile_rain]\n",
    "print(train_ws_y_extreme.shape)"
   ]
  },
  {
   "cell_type": "code",
   "execution_count": 10,
   "id": "66f9063f",
   "metadata": {},
   "outputs": [
    {
     "name": "stdout",
     "output_type": "stream",
     "text": [
      "(64184, 96, 16)\n",
      "(64184, 96)\n"
     ]
    }
   ],
   "source": [
    "train_X_mask_normal = train_X_mask[train_X_mask_rain_acc <= percentile_rain]\n",
    "print(train_X_mask_normal.shape)\n",
    "\n",
    "train_ws_y_normal = train_ws_y[train_X_mask_rain_acc <= percentile_rain]\n",
    "print(train_ws_y_normal.shape)"
   ]
  },
  {
   "cell_type": "markdown",
   "id": "8d659e18",
   "metadata": {},
   "source": [
    "### val_X_mask_filter"
   ]
  },
  {
   "cell_type": "code",
   "execution_count": 11,
   "id": "e6ff7ce7",
   "metadata": {},
   "outputs": [
    {
     "name": "stdout",
     "output_type": "stream",
     "text": [
      "(536, 96, 16)\n",
      "(536, 96)\n"
     ]
    }
   ],
   "source": [
    "val_X_mask_extreme = val_X_mask[val_X_mask_rain_acc > percentile_rain]\n",
    "print(val_X_mask_extreme.shape)\n",
    "\n",
    "val_ws_y_extreme = val_ws_y[val_X_mask_rain_acc > percentile_rain]\n",
    "print(val_ws_y_extreme.shape)"
   ]
  },
  {
   "cell_type": "code",
   "execution_count": 12,
   "id": "e0eed2d8",
   "metadata": {},
   "outputs": [
    {
     "name": "stdout",
     "output_type": "stream",
     "text": [
      "(13915, 96, 16)\n",
      "(13915, 96)\n"
     ]
    }
   ],
   "source": [
    "val_X_mask_normal = val_X_mask[val_X_mask_rain_acc <= percentile_rain]\n",
    "print(val_X_mask_normal.shape)\n",
    "\n",
    "val_ws_y_normal = val_ws_y[val_X_mask_rain_acc <= percentile_rain]\n",
    "print(val_ws_y_normal.shape)"
   ]
  },
  {
   "cell_type": "markdown",
   "id": "d95737b8",
   "metadata": {},
   "source": [
    "### test_X_mask_filter"
   ]
  },
  {
   "cell_type": "code",
   "execution_count": 13,
   "id": "ae808e74",
   "metadata": {},
   "outputs": [
    {
     "name": "stdout",
     "output_type": "stream",
     "text": [
      "(1030, 96, 16)\n",
      "(1030, 96)\n"
     ]
    }
   ],
   "source": [
    "test_X_mask_extreme = test_X_mask[test_X_mask_rain_acc > percentile_rain]\n",
    "print(test_X_mask_extreme.shape)\n",
    "\n",
    "test_ws_y_extreme = test_ws_y[test_X_mask_rain_acc > percentile_rain]\n",
    "print(test_ws_y_extreme.shape)"
   ]
  },
  {
   "cell_type": "code",
   "execution_count": 14,
   "id": "80ebaabe",
   "metadata": {},
   "outputs": [
    {
     "name": "stdout",
     "output_type": "stream",
     "text": [
      "(13421, 96, 16)\n",
      "(13421, 96)\n"
     ]
    }
   ],
   "source": [
    "test_X_mask_normal = test_X_mask[test_X_mask_rain_acc <= percentile_rain]\n",
    "print(test_X_mask_normal.shape)\n",
    "\n",
    "test_ws_y_normal = test_ws_y[test_X_mask_rain_acc <= percentile_rain]\n",
    "print(test_ws_y_normal.shape)"
   ]
  },
  {
   "cell_type": "markdown",
   "id": "8003a2dc",
   "metadata": {},
   "source": [
    "## Test model"
   ]
  },
  {
   "cell_type": "code",
   "execution_count": 15,
   "id": "c28f45b8",
   "metadata": {},
   "outputs": [],
   "source": [
    "# ws_threshold = 2.58\n",
    "time_index = 0"
   ]
  },
  {
   "cell_type": "markdown",
   "id": "da5beaa4",
   "metadata": {},
   "source": [
    "#### Extreme"
   ]
  },
  {
   "cell_type": "code",
   "execution_count": 256,
   "id": "b5503da3",
   "metadata": {
    "scrolled": false
   },
   "outputs": [
    {
     "name": "stdout",
     "output_type": "stream",
     "text": [
      "Peformance when water level is over -0.8199999928474426 ft \n",
      "\n",
      "------ MAE & RMSE ------\n",
      "MAE = 0.191218\n",
      "RMSE = 0.259336 \n",
      "\n",
      "------ Max Errors (t+1 at S1) ------\n",
      "Max Error of Over Estimation: 0.7057215\n",
      "Max Error of Under Estimation: -0.66416955\n",
      "Max Abs Error of Under Estimation: 0.7057215 \n",
      "\n",
      "------ Time # (t+1 at S1) ------\n",
      "Time# of Over Estimation: 712\n",
      "Time# of Under Estimation: 318 \n",
      "\n",
      "------ Area (t+1 at S1) ------\n",
      "Area of Over Estimation: 134.725479722023\n",
      "Area of Under Estimation: -47.07193026505411\n"
     ]
    }
   ],
   "source": [
    "saved_model = load_model('../saved_models_mlp/water_N_95.h5') \n",
    "# saved_model = load_model('../saved_models_mlp/water_E_95.h5') \n",
    "\n",
    "\n",
    "# saved_model = load_model('../saved_models_mlp/water_all_95.h5') \n",
    "# saved_model = load_model('../saved_models_mlp/water_all_95_ft.h5')\n",
    "\n",
    "# saved_model = load_model('../saved_models_mlp/water_all_weighted_IPF_95.h5')\n",
    "# saved_model = load_model('../saved_models_mlp/water_all_weighted_IPF_95_ft.h5')\n",
    "\n",
    "# saved_model = load_model('../saved_models_mlp/water_all_weighted_EVT_95.h5')\n",
    "# saved_model = load_model('../saved_models_mlp/water_all_weighted_EVT_95_ft.h5')\n",
    "\n",
    "# saved_model = load_model('../saved_models_mlp/water_all_weighted_META_95.h5')\n",
    "# saved_model = load_model('../saved_models_mlp/water_all_weighted_META_95_ft.h5')\n",
    "\n",
    "yhat_extreme = saved_model.predict(test_X_mask_extreme)\n",
    "inv_yhat_extreme = ws_scaler.inverse_transform(yhat_extreme)\n",
    "inv_y_extreme = ws_scaler.inverse_transform(test_ws_y_extreme)\n",
    "test_errors_extreme = inv_yhat_extreme - inv_y_extreme\n",
    "\n",
    "metrics_s1_t1(inv_y_extreme.min(), time_index, inv_y_extreme, inv_yhat_extreme, test_errors_extreme)"
   ]
  },
  {
   "cell_type": "code",
   "execution_count": 263,
   "id": "62da5058",
   "metadata": {},
   "outputs": [],
   "source": [
    "import tensorflow as tf\n",
    "import numpy as np\n",
    "\n",
    "def my_integrated_gradients(model, input_data_list, baseline_data_list, num_steps=50):\n",
    "    # Convert input and baseline data to tensors\n",
    "    input_tensors = [tf.convert_to_tensor(data, dtype=tf.float32) for data in input_data_list]\n",
    "    baseline_tensors = [tf.convert_to_tensor(data, dtype=tf.float32) for data in baseline_data_list]\n",
    "    \n",
    "    # Convert input and baseline tensors to NumPy arrays\n",
    "    input_tensors = np.array(input_tensors)\n",
    "    baseline_tensors = np.array(baseline_tensors)\n",
    "    \n",
    "    # Calculate the difference between input and baseline\n",
    "    input_diff = input_tensors - baseline_tensors\n",
    "\n",
    "    # Initialize an array to store the integrated gradients\n",
    "    integrated_gradients = np.zeros_like(input_tensors)\n",
    "    \n",
    "    # Compute integrated gradients for each step\n",
    "    for step in range(num_steps):\n",
    "        # Interpolate between baseline and input\n",
    "        interpolated_input = baseline_tensors + (input_diff * step / num_steps)\n",
    "        \n",
    "        # Convert interpolated_input to TensorFlow tensor\n",
    "        interpolated_input = tf.convert_to_tensor(interpolated_input, dtype=tf.float32)\n",
    "        \n",
    "        # Compute gradients at the interpolated input\n",
    "        with tf.GradientTape() as tape:\n",
    "            tape.watch(interpolated_input)\n",
    "            interpolated_predictions = model(interpolated_input)\n",
    "            \n",
    "        interpolated_gradients = tape.gradient(interpolated_predictions, interpolated_input)\n",
    "        \n",
    "        # Accumulate the gradients to compute integrated gradients\n",
    "        integrated_gradients += interpolated_gradients / num_steps\n",
    "    \n",
    "    # Average the accumulated gradients and multiply by input difference\n",
    "    integrated_gradients *= input_diff / num_steps\n",
    "\n",
    "    # Return the computed integrated gradients\n",
    "    return integrated_gradients\n"
   ]
  },
  {
   "cell_type": "code",
   "execution_count": 264,
   "id": "bdc0228a",
   "metadata": {},
   "outputs": [
    {
     "data": {
      "text/plain": [
       "(1030, 96, 16)"
      ]
     },
     "execution_count": 264,
     "metadata": {},
     "output_type": "execute_result"
    }
   ],
   "source": [
    "test_X_mask_extreme.shape"
   ]
  },
  {
   "cell_type": "code",
   "execution_count": 296,
   "id": "03a392fc",
   "metadata": {
    "scrolled": false
   },
   "outputs": [
    {
     "data": {
      "image/png": "[encoded data removed]",
      "text/plain": [
       "<Figure size 1152x72 with 2 Axes>"
      ]
     },
     "metadata": {
      "needs_background": "light"
     },
     "output_type": "display_data"
    },
    {
     "data": {
      "image/png": "[encoded data removed]",
      "text/plain": [
       "<Figure size 1152x72 with 2 Axes>"
      ]
     },
     "metadata": {
      "needs_background": "light"
     },
     "output_type": "display_data"
    }
   ],
   "source": [
    "demo = 160  # 470\n",
    "\n",
    "input_data = test_X_mask_extreme[demo:demo+1, :, :]\n",
    "baseline_data = np.zeros((1, 96, 16), dtype=np.float32) \n",
    "\n",
    "# paths = ['water_N_95.h5', 'water_E_95.h5', 'water_all_95.h5', 'water_all_weighted_META_95_ft.h5']\n",
    "paths = ['water_all_95.h5', 'water_all_weighted_META_95_ft.h5']\n",
    "models = ['Unweighted_Both', 'Reweighting_META_Finetune']\n",
    "\n",
    "for i in range(len(paths)):\n",
    "    saved_model = load_model('../saved_models_mlp/' + paths[i]) \n",
    "\n",
    "    # Compute integrated gradients\n",
    "    attributions = my_integrated_gradients(saved_model, input_data, baseline_data)\n",
    "\n",
    "    attributions_array = attributions.numpy()\n",
    "    attributions_matrix = attributions_array.reshape((96, 16))\n",
    "    \n",
    "    \n",
    "    # Create a DataFrame for easier handling\n",
    "    df = pd.DataFrame({'TimeSeries': input_data[0, :, 0], 'Contributions': attributions_matrix[:, 0]})\n",
    "\n",
    "    # Normalize the contributions to its range for color mapping\n",
    "    norm = Normalize(vmin=df['Contributions'].min(), vmax=df['Contributions'].max())\n",
    "\n",
    "    # Create a colormap\n",
    "    cmap = plt.get_cmap('Greens') # 'viridis', 'plasma', 'inferno', 'magma', 'cividis', 'Greens'\n",
    "\n",
    "    fig, ax = plt.subplots(figsize=(16, 1))\n",
    "\n",
    "    # Time series line plot\n",
    "    ax.plot(df.index, df['TimeSeries'], color='black', lw=3)\n",
    "\n",
    "    # Create a heatmap effect by coloring the background according to the contribution values\n",
    "    for idx in range(len(df['Contributions'])):\n",
    "        plt.axvspan(df.index[idx], \n",
    "                    df.index[idx+1] if idx+1 < len(df.index) else df.index[idx], \n",
    "                    color=cmap(norm(df['Contributions'].iloc[idx])), \n",
    "                    alpha=0.5\n",
    "                   )\n",
    "\n",
    "    # Create a colorbar to show the mapping from contribution value to color\n",
    "    sm = ScalarMappable(cmap=cmap, norm=norm)\n",
    "    sm.set_array([])\n",
    "    cbar = plt.colorbar(sm, ax=ax)\n",
    "\n",
    "    #cbar.set_label('Contribution', fontsize=16) \n",
    "    cbar.ax.tick_params(labelsize=20) \n",
    "    \n",
    "    # Increase xticks fontsize and set custom tick locations and labels\n",
    "    custom_xticks = [0, 12, 24, 36, 48, 60, 72, 84]\n",
    "    plt.xticks(custom_xticks, custom_xticks)   # Set custom tick locations and labels, adjust fontsize as needed\n",
    "\n",
    "    plt.xticks(fontsize=25)  \n",
    "    plt.yticks(fontsize=25)\n",
    "    plt.title('{}'.format(models[i]), fontsize=25)\n",
    "    plt.show()\n",
    "    plt.close()"
   ]
  },
  {
   "cell_type": "code",
   "execution_count": 266,
   "id": "b64e5f99",
   "metadata": {},
   "outputs": [],
   "source": []
  },
  {
   "cell_type": "code",
   "execution_count": null,
   "id": "df87c684",
   "metadata": {},
   "outputs": [],
   "source": []
  },
  {
   "cell_type": "code",
   "execution_count": null,
   "id": "08d1d44e",
   "metadata": {},
   "outputs": [],
   "source": []
  }
 ],
 "metadata": {
  "kernelspec": {
   "display_name": "Python 3 (ipykernel)",
   "language": "python",
   "name": "python3"
  },
  "language_info": {
   "codemirror_mode": {
    "name": "ipython",
    "version": 3
   },
   "file_extension": ".py",
   "mimetype": "text/x-python",
   "name": "python",
   "nbconvert_exporter": "python",
   "pygments_lexer": "ipython3",
   "version": "3.8.16"
  }
 },
 "nbformat": 4,
 "nbformat_minor": 5
}
