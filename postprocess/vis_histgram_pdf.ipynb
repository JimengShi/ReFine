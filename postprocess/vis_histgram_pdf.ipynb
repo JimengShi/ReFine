{
 "cells": [
  {
   "cell_type": "markdown",
   "id": "6189ef88",
   "metadata": {},
   "source": [
    "## Import packages"
   ]
  },
  {
   "cell_type": "code",
   "execution_count": 1,
   "id": "a01a1167",
   "metadata": {},
   "outputs": [],
   "source": [
    "import os\n",
    "import sys\n",
    "\n",
    "module_path = os.path.abspath(os.path.join('..'))\n",
    "\n",
    "if module_path not in sys.path:\n",
    "    sys.path.append(module_path)"
   ]
  },
  {
   "cell_type": "code",
   "execution_count": 2,
   "id": "3f47fa9d",
   "metadata": {},
   "outputs": [
    {
     "name": "stderr",
     "output_type": "stream",
     "text": [
      "2024-02-06 14:53:54.666595: I tensorflow/stream_executor/platform/default/dso_loader.cc:49] Successfully opened dynamic library libcudart.so.10.1\n"
     ]
    }
   ],
   "source": [
    "import pandas as pd\n",
    "import numpy as np\n",
    "import matplotlib.pyplot as plt\n",
    "from sklearn.metrics import mean_squared_error as mse\n",
    "from sklearn.metrics import mean_absolute_error as mae\n",
    "from sklearn.preprocessing import MinMaxScaler\n",
    "from sklearn.manifold import TSNE\n",
    "from tensorflow.keras.models import load_model\n",
    "from preprocess import water_postprocess, water_process_no_norm\n",
    "from scipy import stats\n",
    "from scipy.stats import mannwhitneyu, wilcoxon, ttest_rel\n",
    "from scipy.stats import gaussian_kde\n",
    "from performance import metrics_s1_t1\n",
    "from helper import series_to_supervised"
   ]
  },
  {
   "cell_type": "code",
   "execution_count": 3,
   "id": "0092be29",
   "metadata": {},
   "outputs": [],
   "source": [
    "# import os\n",
    "# os.environ[\"CUDA_VISIBLE_DEVICES\"] = \"7\""
   ]
  },
  {
   "cell_type": "markdown",
   "id": "62b6b865",
   "metadata": {},
   "source": [
    "## Water level"
   ]
  },
  {
   "cell_type": "code",
   "execution_count": 120,
   "id": "c1e14ca0",
   "metadata": {},
   "outputs": [],
   "source": [
    "# ====== preprocessing parameters ======\n",
    "n_hours = 72\n",
    "k = 24 \n",
    "masked_value = 1e-10\n",
    "split_1 = 0.7\n",
    "split_2 = 0.85"
   ]
  },
  {
   "cell_type": "code",
   "execution_count": 223,
   "id": "b444521c",
   "metadata": {
    "scrolled": true
   },
   "outputs": [
    {
     "name": "stdout",
     "output_type": "stream",
     "text": [
      "Index(['WS_S1', 'WS_S4', 'FLOW_S25A', 'GATE_S25A', 'HWS_S25A', 'TWS_S25A',\n",
      "       'FLOW_S25B', 'GATE_S25B', 'GATE_S25B2', 'HWS_S25B', 'TWS_S25B',\n",
      "       'PUMP_S25B', 'FLOW_S26', 'GATE_S26_1', 'GATE_S26_2', 'HWS_S26',\n",
      "       'TWS_S26', 'PUMP_S26', 'MEAN_RAIN'],\n",
      "      dtype='object')\n",
      "(67444, 84, 16) (14452, 84, 16) (28905, 84, 16) (67444, 48) (14452, 48) (28905, 48)\n"
     ]
    }
   ],
   "source": [
    "train_X_mask, val_X_mask, test_X_mask, \\\n",
    "train_ws_y, val_ws_y, test_ws_y = water_process_no_norm(n_hours, k, masked_value, split_1, split_2)\n",
    "\n",
    "print(train_X_mask.shape, val_X_mask.shape, test_X_mask.shape, train_ws_y.shape, val_ws_y.shape, test_ws_y.shape)"
   ]
  },
  {
   "cell_type": "markdown",
   "id": "dcf99ebe",
   "metadata": {},
   "source": [
    "### Rain threshold"
   ]
  },
  {
   "cell_type": "code",
   "execution_count": 330,
   "id": "13b57480",
   "metadata": {},
   "outputs": [
    {
     "name": "stdout",
     "output_type": "stream",
     "text": [
      "(67444,)\n",
      "(14452,)\n",
      "(28905,)\n"
     ]
    }
   ],
   "source": [
    "# train_X_mask_rain_acc = np.sum(train_X_mask[:, -24:, 0], axis=1)\n",
    "# print(train_X_mask_rain_acc.shape)\n",
    "\n",
    "# test_X_mask_rain_acc = np.sum(test_X_mask[:, -24:, 0], axis=1)\n",
    "# print(test_X_mask_rain_acc.shape)\n",
    "\n",
    "train_X_mask_rain_acc = train_X_mask[:, 0, 0]\n",
    "print(train_X_mask_rain_acc.shape)\n",
    "\n",
    "val_X_mask_rain_acc = val_X_mask[:, 0, 0]\n",
    "print(val_X_mask_rain_acc.shape)\n",
    "\n",
    "test_X_mask_rain_acc = test_X_mask[:, 0, 0]\n",
    "print(test_X_mask_rain_acc.shape)"
   ]
  },
  {
   "cell_type": "code",
   "execution_count": 331,
   "id": "a7a33ce9",
   "metadata": {},
   "outputs": [
    {
     "name": "stdout",
     "output_type": "stream",
     "text": [
      "95th Percentile of Daily Rain: 0.004999999888241291\n"
     ]
    }
   ],
   "source": [
    "percentile = 95\n",
    "\n",
    "merged_array = np.concatenate((train_X_mask_rain_acc, val_X_mask_rain_acc, test_X_mask_rain_acc))\n",
    "\n",
    "percentile_rain = np.percentile(merged_array, percentile)\n",
    "\n",
    "print(\"{}th Percentile of Daily Rain:\".format(percentile), percentile_rain)"
   ]
  },
  {
   "cell_type": "markdown",
   "id": "a0f01f1f",
   "metadata": {},
   "source": [
    "### train_X_mask_filter"
   ]
  },
  {
   "cell_type": "code",
   "execution_count": 332,
   "id": "77eb0645",
   "metadata": {},
   "outputs": [
    {
     "name": "stdout",
     "output_type": "stream",
     "text": [
      "(3356, 84, 16)\n",
      "(3356, 48)\n",
      "(64088, 84, 16)\n",
      "(64088, 48)\n"
     ]
    }
   ],
   "source": [
    "train_X_mask_extreme = train_X_mask[train_X_mask_rain_acc > percentile_rain]\n",
    "print(train_X_mask_extreme.shape)\n",
    "\n",
    "train_ws_y_extreme = train_ws_y[train_X_mask_rain_acc > percentile_rain]\n",
    "print(train_ws_y_extreme.shape)\n",
    "\n",
    "\n",
    "\n",
    "train_X_mask_normal = train_X_mask[train_X_mask_rain_acc <= percentile_rain]\n",
    "print(train_X_mask_normal.shape)\n",
    "\n",
    "train_ws_y_normal = train_ws_y[train_X_mask_rain_acc <= percentile_rain]\n",
    "print(train_ws_y_normal.shape)"
   ]
  },
  {
   "cell_type": "code",
   "execution_count": 333,
   "id": "e57d21ab",
   "metadata": {},
   "outputs": [
    {
     "name": "stdout",
     "output_type": "stream",
     "text": [
      "(67444, 84, 16) (67444, 48)\n"
     ]
    }
   ],
   "source": [
    "train_X = np.concatenate([train_X_mask_extreme, train_X_mask_normal])\n",
    "train_y = np.concatenate([train_ws_y_extreme, train_ws_y_normal])\n",
    "print(train_X.shape, train_y.shape)"
   ]
  },
  {
   "cell_type": "markdown",
   "id": "8d659e18",
   "metadata": {},
   "source": [
    "### val_X_mask_filter"
   ]
  },
  {
   "cell_type": "code",
   "execution_count": 334,
   "id": "e6ff7ce7",
   "metadata": {},
   "outputs": [
    {
     "name": "stdout",
     "output_type": "stream",
     "text": [
      "(554, 84, 16)\n",
      "(554, 48)\n",
      "(13898, 84, 16)\n",
      "(13898, 48)\n"
     ]
    }
   ],
   "source": [
    "val_X_mask_extreme = val_X_mask[val_X_mask_rain_acc > percentile_rain]\n",
    "print(val_X_mask_extreme.shape)\n",
    "\n",
    "val_ws_y_extreme = val_ws_y[val_X_mask_rain_acc > percentile_rain]\n",
    "print(val_ws_y_extreme.shape)\n",
    "\n",
    "\n",
    "val_X_mask_normal = val_X_mask[val_X_mask_rain_acc <= percentile_rain]\n",
    "print(val_X_mask_normal.shape)\n",
    "\n",
    "val_ws_y_normal = val_ws_y[val_X_mask_rain_acc <= percentile_rain]\n",
    "print(val_ws_y_normal.shape)"
   ]
  },
  {
   "cell_type": "markdown",
   "id": "d95737b8",
   "metadata": {},
   "source": [
    "### test_X_mask_filter"
   ]
  },
  {
   "cell_type": "code",
   "execution_count": 335,
   "id": "ae808e74",
   "metadata": {},
   "outputs": [
    {
     "name": "stdout",
     "output_type": "stream",
     "text": [
      "(1502, 84, 16)\n",
      "(1502, 48)\n",
      "(27403, 84, 16)\n",
      "(27403, 48)\n"
     ]
    }
   ],
   "source": [
    "test_X_mask_extreme = test_X_mask[test_X_mask_rain_acc > percentile_rain]\n",
    "print(test_X_mask_extreme.shape)\n",
    "\n",
    "test_ws_y_extreme = test_ws_y[test_X_mask_rain_acc > percentile_rain]\n",
    "print(test_ws_y_extreme.shape)\n",
    "\n",
    "\n",
    "test_X_mask_normal = test_X_mask[test_X_mask_rain_acc <= percentile_rain]\n",
    "print(test_X_mask_normal.shape)\n",
    "\n",
    "test_ws_y_normal = test_ws_y[test_X_mask_rain_acc <= percentile_rain]\n",
    "print(test_ws_y_normal.shape)"
   ]
  },
  {
   "cell_type": "code",
   "execution_count": 337,
   "id": "f6aa83eb",
   "metadata": {},
   "outputs": [
    {
     "data": {
      "image/png": "[encoded data removed]",
      "text/plain": [
       "<Figure size 432x288 with 1 Axes>"
      ]
     },
     "metadata": {
      "needs_background": "light"
     },
     "output_type": "display_data"
    }
   ],
   "source": [
    "train_rain = train_X[:50000, 0, 0]\n",
    "test_rain_extreme = test_X_mask_extreme[:, 0, 0]\n",
    "\n",
    "# Perform kernel density estimation\n",
    "kde_train_NE = gaussian_kde(train_rain)\n",
    "kde_test_E = gaussian_kde(test_rain_extreme)\n",
    "\n",
    "# Create a range of values for the x-axis\n",
    "x = np.linspace(min(train_rain), max(train_rain)-0.4, 1000)\n",
    "# x = np.linspace(min(train_rain), max(train_rain)-0.4, 1000)\n",
    "\n",
    "# Calculate the estimated PDF values for the x-axis range\n",
    "pdf_train_NE = kde_train_NE(x)\n",
    "pdf_test_E = kde_test_E(x)\n",
    "\n",
    "\n",
    "FONTSIZE = 18\n",
    "TICKSIZE = 18\n",
    "LINEWIDTH = 2.7\n",
    "\n",
    "# Plot the estimated PDF\n",
    "# Plot the estimated PDF\n",
    "plt.plot(x, pdf_train_NE, linewidth=LINEWIDTH, color='C1', label='Train (normal+extreme)') \n",
    "plt.plot(x, pdf_test_E,  linewidth=LINEWIDTH, color='C2', label='Test (extreme)')\n",
    "\n",
    "# Fill area under the curve for pdf_train_NE\n",
    "plt.fill_between(x, pdf_train_NE, color='C1', alpha=0.3)\n",
    "plt.fill_between(x, pdf_test_E, color='C2', alpha=0.3)\n",
    "\n",
    "\n",
    "plt.axvline(x=percentile_rain, color='gray', linestyle='--')\n",
    "# plt.title(\"Water Level Dataset\", fontsize=FONTSIZE)\n",
    "plt.xlabel(\"Precipitation\", fontsize=FONTSIZE)\n",
    "# plt.ylabel(\"PDF\", fontsize=FONTSIZE)\n",
    "plt.xticks(fontsize=TICKSIZE)\n",
    "plt.yticks(fontsize=FONTSIZE)\n",
    "plt.legend(fontsize=FONTSIZE-2)\n",
    "plt.savefig('figures/pdf_prep.jpg', bbox_inches='tight', dpi=300)\n",
    "plt.show()"
   ]
  },
  {
   "cell_type": "markdown",
   "id": "c9de65b7",
   "metadata": {},
   "source": [
    "## Price"
   ]
  },
  {
   "cell_type": "code",
   "execution_count": 338,
   "id": "47ba2894",
   "metadata": {},
   "outputs": [
    {
     "name": "stdout",
     "output_type": "stream",
     "text": [
      "95th Percentile of Daily Rain: 79.18\n",
      "train_X_extreme, train_X_normal (1004, 72, 26) (23482, 72, 26)\n"
     ]
    }
   ],
   "source": [
    "dataset = pd.read_csv('../data/energy_weather.csv', index_col=0)\n",
    "dataset.fillna(0, inplace=True)\n",
    "data = dataset\n",
    "# data\n",
    "\n",
    "\n",
    "values = data.values\n",
    "n_hours = 24*3\n",
    "n_features = data.shape[-1]\n",
    "k = 12\n",
    "split1 = 0.7\n",
    "split2 = 0.85\n",
    "\n",
    "# frame as supervised learning\n",
    "reframed = series_to_supervised(values, n_hours, k)\n",
    "\n",
    "# split into train and test sets\n",
    "reframed_values = reframed.values\n",
    "n_train_hours = int(len(reframed_values)*split1)\n",
    "n_valid_hours = int(len(reframed_values)*split2)\n",
    "\n",
    "train = reframed_values[:n_train_hours, :]\n",
    "val = reframed_values[n_train_hours:n_valid_hours, :]\n",
    "test = reframed_values[n_valid_hours:, :]\n",
    "\n",
    "\n",
    "# split into input and outputs\n",
    "n_obs = n_hours * n_features\n",
    "feature_idx = 0\n",
    "train_X, train_y = train[:, :n_obs], train[:, [n_obs + feature_idx + n_features * i for i in range(k)]]\n",
    "val_X, val_y = val[:, :n_obs], val[:, [n_obs + feature_idx + n_features * i for i in range(k)]]\n",
    "test_X, test_y = test[:, :n_obs], test[:, [n_obs + feature_idx + n_features * i for i in range(k)]]\n",
    "\n",
    "\n",
    "# normalize features\n",
    "# scaler = MinMaxScaler(feature_range=(0, 1))\n",
    "\n",
    "# train_X = scaler.fit_transform(train_X)\n",
    "# train_y = scaler.fit_transform(train_y)\n",
    "\n",
    "# val_X = scaler.fit_transform(val_X)\n",
    "# val_y = scaler.fit_transform(val_y)\n",
    "\n",
    "# test_X = scaler.fit_transform(test_X)\n",
    "# test_y = scaler.fit_transform(test_y)\n",
    "\n",
    "# reshape input to be 3D [samples, timesteps, features]\n",
    "train_X = train_X.reshape((train_X.shape[0], n_hours, n_features))\n",
    "val_X = val_X.reshape((val_X.shape[0], n_hours, n_features))\n",
    "test_X = test_X.reshape((test_X.shape[0], n_hours, n_features))\n",
    "\n",
    "\n",
    "train_X_pm = train_X[:, 0, feature_idx]\n",
    "val_X_pm = val_X[:, 0, feature_idx]\n",
    "test_X_pm = test_X[:, 0, feature_idx]\n",
    "\n",
    "\n",
    "percentile = 95\n",
    "merged_array = np.concatenate((train_X_pm, val_X_pm, test_X_pm))\n",
    "percentile_pm = np.percentile(merged_array, percentile)\n",
    "print(\"{}th Percentile of Daily Rain:\".format(percentile), percentile_pm)\n",
    "\n",
    "\n",
    "train_X_extreme = train_X[train_X_pm > percentile_pm]\n",
    "train_y_extreme = train_y[train_X_pm > percentile_pm]\n",
    "\n",
    "train_X_normal = train_X[train_X_pm <= percentile_pm]\n",
    "train_y_normal = train_y[train_X_pm <= percentile_pm]\n",
    "\n",
    "print(\"train_X_extreme, train_X_normal\", train_X_extreme.shape, train_X_normal.shape)\n",
    "\n",
    "test_X_extreme = test_X[test_X_pm > percentile_pm]\n",
    "test_y_extreme = test_y[test_X_pm > percentile_pm]\n",
    "\n",
    "test_X_normal = test_X[test_X_pm <= percentile_pm]\n",
    "test_y_normal = test_y[test_X_pm <= percentile_pm]"
   ]
  },
  {
   "cell_type": "code",
   "execution_count": 339,
   "id": "94f6e167",
   "metadata": {},
   "outputs": [
    {
     "data": {
      "image/png": "[encoded data removed]",
      "text/plain": [
       "<Figure size 432x288 with 1 Axes>"
      ]
     },
     "metadata": {
      "needs_background": "light"
     },
     "output_type": "display_data"
    }
   ],
   "source": [
    "train_rain = train_X_pm\n",
    "test_rain_extreme = test_X_extreme[:, 0, feature_idx]\n",
    "\n",
    "# Perform kernel density estimation\n",
    "kde_train_NE = gaussian_kde(train_rain)\n",
    "kde_test_E = gaussian_kde(test_rain_extreme)\n",
    "\n",
    "# Create a range of values for the x-axis\n",
    "x = np.linspace(min(train_rain), max(train_rain), 1000)\n",
    "\n",
    "# Calculate the estimated PDF values for the x-axis range\n",
    "pdf_train_NE = kde_train_NE(x)\n",
    "pdf_test_E = kde_test_E(x)\n",
    "\n",
    "\n",
    "FONTSIZE = 18\n",
    "TICKSIZE = 18\n",
    "LINEWIDTH = 2.7\n",
    "\n",
    "# Plot the estimated PDF\n",
    "# Plot the estimated PDF\n",
    "plt.plot(x, pdf_train_NE, linewidth=LINEWIDTH, color='C1', label='Train (normal+extreme)') \n",
    "plt.plot(x, pdf_test_E,  linewidth=LINEWIDTH, color='C2', label='Test (extreme)')\n",
    "\n",
    "# Fill area under the curve for pdf_train_NE\n",
    "plt.fill_between(x, pdf_train_NE, color='C1', alpha=0.3)\n",
    "plt.fill_between(x, pdf_test_E, color='C2', alpha=0.3)\n",
    "\n",
    "\n",
    "plt.axvline(x=percentile_pm, color='gray', linestyle='--')\n",
    "# plt.title(\"Price\", fontsize=FONTSIZE)\n",
    "plt.xlabel(\"Price\", fontsize=FONTSIZE)\n",
    "# plt.ylabel(\"PDF\", fontsize=FONTSIZE)\n",
    "plt.xticks(fontsize=TICKSIZE)\n",
    "plt.yticks(fontsize=FONTSIZE)\n",
    "plt.ylim(0, 0.25)\n",
    "plt.legend(fontsize=FONTSIZE-2, loc='upper left')\n",
    "plt.savefig('figures/pdf_price.jpg', bbox_inches='tight', dpi=300)\n",
    "plt.show()"
   ]
  },
  {
   "cell_type": "markdown",
   "id": "a0c52204",
   "metadata": {},
   "source": [
    "## Electricity load"
   ]
  },
  {
   "cell_type": "code",
   "execution_count": 9,
   "id": "03a392fc",
   "metadata": {},
   "outputs": [
    {
     "name": "stdout",
     "output_type": "stream",
     "text": [
      "95th Percentile of Daily Rain: 36091.049999999996\n",
      "train_X_extreme, train_X_normal (1097, 72, 26) (23389, 72, 26)\n"
     ]
    }
   ],
   "source": [
    "dataset = pd.read_csv('../data/energy_weather.csv', index_col=0)\n",
    "dataset.fillna(0, inplace=True)\n",
    "data = dataset\n",
    "# data\n",
    "\n",
    "\n",
    "values = data.values\n",
    "n_hours = 24*3\n",
    "n_features = data.shape[-1]\n",
    "k = 12\n",
    "split1 = 0.7\n",
    "split2 = 0.85\n",
    "\n",
    "# frame as supervised learning\n",
    "reframed = series_to_supervised(values, n_hours, k)\n",
    "\n",
    "# split into train and test sets\n",
    "reframed_values = reframed.values\n",
    "n_train_hours = int(len(reframed_values)*split1)\n",
    "n_valid_hours = int(len(reframed_values)*split2)\n",
    "\n",
    "train = reframed_values[:n_train_hours, :]\n",
    "val = reframed_values[n_train_hours:n_valid_hours, :]\n",
    "test = reframed_values[n_valid_hours:, :]\n",
    "\n",
    "\n",
    "# split into input and outputs\n",
    "n_obs = n_hours * n_features\n",
    "feature_idx = 4\n",
    "train_X, train_y = train[:, :n_obs], train[:, [n_obs + feature_idx + n_features * i for i in range(k)]]\n",
    "val_X, val_y = val[:, :n_obs], val[:, [n_obs + feature_idx + n_features * i for i in range(k)]]\n",
    "test_X, test_y = test[:, :n_obs], test[:, [n_obs + feature_idx + n_features * i for i in range(k)]]\n",
    "\n",
    "\n",
    "# normalize features\n",
    "# scaler = MinMaxScaler(feature_range=(0, 1))\n",
    "\n",
    "# train_X = scaler.fit_transform(train_X)\n",
    "# train_y = scaler.fit_transform(train_y)\n",
    "\n",
    "# val_X = scaler.fit_transform(val_X)\n",
    "# val_y = scaler.fit_transform(val_y)\n",
    "\n",
    "# test_X = scaler.fit_transform(test_X)\n",
    "# test_y = scaler.fit_transform(test_y)\n",
    "\n",
    "# reshape input to be 3D [samples, timesteps, features]\n",
    "train_X = train_X.reshape((train_X.shape[0], n_hours, n_features))\n",
    "val_X = val_X.reshape((val_X.shape[0], n_hours, n_features))\n",
    "test_X = test_X.reshape((test_X.shape[0], n_hours, n_features))\n",
    "\n",
    "\n",
    "train_X_pm = train_X[:, 0, feature_idx]\n",
    "val_X_pm = val_X[:, 0, feature_idx]\n",
    "test_X_pm = test_X[:, 0, feature_idx]\n",
    "\n",
    "\n",
    "percentile = 95\n",
    "merged_array = np.concatenate((train_X_pm, val_X_pm, test_X_pm))\n",
    "percentile_pm = np.percentile(merged_array, percentile)\n",
    "print(\"{}th Percentile of Daily Rain:\".format(percentile), percentile_pm)\n",
    "\n",
    "\n",
    "train_X_extreme = train_X[train_X_pm > percentile_pm]\n",
    "train_y_extreme = train_y[train_X_pm > percentile_pm]\n",
    "\n",
    "train_X_normal = train_X[train_X_pm <= percentile_pm]\n",
    "train_y_normal = train_y[train_X_pm <= percentile_pm]\n",
    "\n",
    "print(\"train_X_extreme, train_X_normal\", train_X_extreme.shape, train_X_normal.shape)\n",
    "\n",
    "test_X_extreme = test_X[test_X_pm > percentile_pm]\n",
    "test_y_extreme = test_y[test_X_pm > percentile_pm]\n",
    "\n",
    "test_X_normal = test_X[test_X_pm <= percentile_pm]\n",
    "test_y_normal = test_y[test_X_pm <= percentile_pm]"
   ]
  },
  {
   "cell_type": "code",
   "execution_count": 14,
   "id": "93d5086c",
   "metadata": {},
   "outputs": [
    {
     "data": {
      "image/png": "[encoded data removed]",
      "text/plain": [
       "<Figure size 432x288 with 1 Axes>"
      ]
     },
     "metadata": {
      "needs_background": "light"
     },
     "output_type": "display_data"
    }
   ],
   "source": [
    "train_rain = train_X_pm\n",
    "test_rain_extreme = test_X_extreme[:, 0, feature_idx]\n",
    "\n",
    "# Perform kernel density estimation\n",
    "kde_train_NE = gaussian_kde(train_rain)\n",
    "kde_test_E = gaussian_kde(test_rain_extreme)\n",
    "\n",
    "# Create a range of values for the x-axis\n",
    "x = np.linspace(min(train_rain), max(train_rain), 1000)\n",
    "\n",
    "# Calculate the estimated PDF values for the x-axis range\n",
    "pdf_train_NE = kde_train_NE(x)\n",
    "pdf_test_E = kde_test_E(x)\n",
    "\n",
    "FONTSIZE = 18\n",
    "TICKSIZE = 18\n",
    "LINEWIDTH = 2.7\n",
    "\n",
    "# Plot the estimated PDF\n",
    "plt.plot(x, pdf_train_NE, linewidth=LINEWIDTH, color='C1', label='Train (normal+extreme)') \n",
    "plt.plot(x, pdf_test_E,  linewidth=LINEWIDTH, color='C2', label='Test (extreme)')\n",
    "\n",
    "# Fill area under the curve for pdf_train_NE\n",
    "plt.fill_between(x, pdf_train_NE, color='C1', alpha=0.3)\n",
    "plt.fill_between(x, pdf_test_E, color='C2', alpha=0.3)\n",
    "\n",
    "\n",
    "plt.axvline(x=percentile_pm, color='gray', linestyle='--')\n",
    "# plt.title(\"Load\", fontsize=FONTSIZE)\n",
    "plt.xlabel(\"Load\", fontsize=FONTSIZE)\n",
    "# plt.ylabel(\"PDF\", fontsize=FONTSIZE)\n",
    "plt.xticks(fontsize=TICKSIZE)\n",
    "plt.yticks(fontsize=FONTSIZE)\n",
    "plt.ylim(0, 0.0007)\n",
    "plt.legend(fontsize=FONTSIZE-2, loc='upper left')\n",
    "plt.savefig('figures/pdf_load.jpg', bbox_inches='tight', dpi=300)\n",
    "plt.show()"
   ]
  },
  {
   "cell_type": "markdown",
   "id": "1b077147",
   "metadata": {},
   "source": [
    "## Pressure"
   ]
  },
  {
   "cell_type": "code",
   "execution_count": 342,
   "id": "b7709a0e",
   "metadata": {},
   "outputs": [
    {
     "name": "stdout",
     "output_type": "stream",
     "text": [
      "95th Percentile of Daily Rain: 28.341250000000002\n",
      "train_X_extreme, train_X_normal (2297, 72, 14) (46735, 72, 14)\n"
     ]
    }
   ],
   "source": [
    "data = pd.read_csv(\"../data/jena_climate_2009_2016_hourly.csv\", index_col=0)\n",
    "data.fillna(0, inplace=True)\n",
    "\n",
    "\n",
    "values = data.values\n",
    "n_hours = 24*3\n",
    "n_features = data.shape[-1]\n",
    "k = 12\n",
    "split1 = 0.7\n",
    "split2 = 0.85\n",
    "\n",
    "# frame as supervised learning\n",
    "reframed = series_to_supervised(values, n_hours, k)\n",
    "\n",
    "# split into train and test sets\n",
    "reframed_values = reframed.values\n",
    "n_train_hours = int(len(reframed_values)*split1)\n",
    "n_valid_hours = int(len(reframed_values)*split2)\n",
    "\n",
    "train = reframed_values[:n_train_hours, :]\n",
    "val = reframed_values[n_train_hours:n_valid_hours, :]\n",
    "test = reframed_values[n_valid_hours:, :]\n",
    "\n",
    "\n",
    "# split into input and outputs\n",
    "n_obs = n_hours * n_features\n",
    "feature_idx = 5\n",
    "train_X, train_y = train[:, :n_obs], train[:, [n_obs + feature_idx + n_features * i for i in range(k)]]\n",
    "val_X, val_y = val[:, :n_obs], val[:, [n_obs + feature_idx + n_features * i for i in range(k)]]\n",
    "test_X, test_y = test[:, :n_obs], test[:, [n_obs + feature_idx + n_features * i for i in range(k)]]\n",
    "\n",
    "\n",
    "# # normalize features\n",
    "# scaler = MinMaxScaler(feature_range=(0, 1))\n",
    "\n",
    "# train_X = scaler.fit_transform(train_X)\n",
    "# train_y = scaler.fit_transform(train_y)\n",
    "\n",
    "# val_X = scaler.fit_transform(val_X)\n",
    "# val_y = scaler.fit_transform(val_y)\n",
    "\n",
    "# test_X = scaler.fit_transform(test_X)\n",
    "# test_y = scaler.fit_transform(test_y)\n",
    "\n",
    "# reshape input to be 3D [samples, timesteps, features]\n",
    "train_X = train_X.reshape((train_X.shape[0], n_hours, n_features))\n",
    "val_X = val_X.reshape((val_X.shape[0], n_hours, n_features))\n",
    "test_X = test_X.reshape((test_X.shape[0], n_hours, n_features))\n",
    "\n",
    "\n",
    "train_X_pm = train_X[:, 0, feature_idx]\n",
    "val_X_pm = val_X[:, 0, feature_idx]\n",
    "test_X_pm = test_X[:, 0, feature_idx]\n",
    "\n",
    "\n",
    "percentile = 95\n",
    "merged_array = np.concatenate((train_X_pm, val_X_pm, test_X_pm))\n",
    "percentile_pm = np.percentile(merged_array, percentile)\n",
    "print(\"{}th Percentile of Daily Rain:\".format(percentile), percentile_pm)\n",
    "\n",
    "\n",
    "train_X_extreme = train_X[train_X_pm > percentile_pm]\n",
    "train_y_extreme = train_y[train_X_pm > percentile_pm]\n",
    "\n",
    "train_X_normal = train_X[train_X_pm <= percentile_pm]\n",
    "train_y_normal = train_y[train_X_pm <= percentile_pm]\n",
    "\n",
    "\n",
    "print(\"train_X_extreme, train_X_normal\", train_X_extreme.shape, train_X_normal.shape)\n",
    "\n",
    "test_X_extreme = test_X[test_X_pm > percentile_pm]\n",
    "test_y_extreme = test_y[test_X_pm > percentile_pm]\n",
    "\n",
    "test_X_normal = test_X[test_X_pm <= percentile_pm]\n",
    "test_y_normal = test_y[test_X_pm <= percentile_pm]"
   ]
  },
  {
   "cell_type": "code",
   "execution_count": 343,
   "id": "af035dba",
   "metadata": {},
   "outputs": [
    {
     "data": {
      "image/png": "[encoded data removed]",
      "text/plain": [
       "<Figure size 432x288 with 1 Axes>"
      ]
     },
     "metadata": {
      "needs_background": "light"
     },
     "output_type": "display_data"
    }
   ],
   "source": [
    "train_rain = train_X_pm\n",
    "test_rain_extreme = test_X_extreme[:, 0, feature_idx]\n",
    "\n",
    "# Perform kernel density estimation\n",
    "kde_train_NE = gaussian_kde(train_rain)\n",
    "kde_test_E = gaussian_kde(test_rain_extreme)\n",
    "\n",
    "# Create a range of values for the x-axis\n",
    "x = np.linspace(min(train_rain), max(train_rain), 1000)\n",
    "\n",
    "# Calculate the estimated PDF values for the x-axis range\n",
    "pdf_train_NE = kde_train_NE(x)\n",
    "pdf_test_E = kde_test_E(x)\n",
    "\n",
    "\n",
    "FONTSIZE = 18\n",
    "TICKSIZE = 18\n",
    "LINEWIDTH = 2.7\n",
    "\n",
    "# Plot the estimated PDF\n",
    "plt.plot(x, pdf_train_NE, linewidth=LINEWIDTH, color='C1', label='Train (normal+extreme)') \n",
    "plt.plot(x, pdf_test_E,  linewidth=LINEWIDTH, color='C2', label='Test (extreme)')\n",
    "\n",
    "# Fill area under the curve for pdf_train_NE\n",
    "plt.fill_between(x, pdf_train_NE, color='C1', alpha=0.3)\n",
    "plt.fill_between(x, pdf_test_E, color='C2', alpha=0.3)\n",
    "\n",
    "\n",
    "plt.axvline(x=percentile_pm, color='gray', linestyle='--')\n",
    "# plt.title(\"Climate Dataset\", fontsize=FONTSIZE)\n",
    "plt.xlabel(\"Pressure\", fontsize=FONTSIZE)\n",
    "# plt.ylabel(\"PDF\", fontsize=FONTSIZE)\n",
    "plt.xticks(fontsize=TICKSIZE)\n",
    "plt.yticks(fontsize=FONTSIZE)\n",
    "plt.ylim(0, 0.14)\n",
    "plt.legend(fontsize=FONTSIZE-2, loc='upper left')\n",
    "plt.savefig('figures/pdf_pressure.jpg', bbox_inches='tight', dpi=300)\n",
    "plt.show()"
   ]
  },
  {
   "cell_type": "markdown",
   "id": "e73cb02a",
   "metadata": {},
   "source": [
    "## PM25"
   ]
  },
  {
   "cell_type": "code",
   "execution_count": 344,
   "id": "0e336682",
   "metadata": {},
   "outputs": [
    {
     "name": "stdout",
     "output_type": "stream",
     "text": [
      "95th Percentile of Daily Rain: 281.0\n",
      "train_X_extreme, train_X_normal (1499, 72, 11) (29102, 72, 11)\n"
     ]
    }
   ],
   "source": [
    "data = pd.read_csv(\"../data/pollution.csv\", index_col=0)\n",
    "data.fillna(0, inplace=True)\n",
    "\n",
    "values = data.values\n",
    "n_hours = 24*3\n",
    "n_features = data.shape[-1]\n",
    "k = 12\n",
    "split1 = 0.7\n",
    "split2 = 0.85\n",
    "\n",
    "# frame as supervised learning\n",
    "reframed = series_to_supervised(values, n_hours, k)\n",
    "\n",
    "# split into train and test sets\n",
    "reframed_values = reframed.values\n",
    "n_train_hours = int(len(reframed_values)*split1)\n",
    "n_valid_hours = int(len(reframed_values)*split2)\n",
    "\n",
    "train = reframed_values[:n_train_hours, :]\n",
    "val = reframed_values[n_train_hours:n_valid_hours, :]\n",
    "test = reframed_values[n_valid_hours:, :]\n",
    "\n",
    "\n",
    "# split into input and outputs\n",
    "n_obs = n_hours * n_features\n",
    "feature_idx = 0\n",
    "train_X, train_y = train[:, :n_obs], train[:, [n_obs + feature_idx + n_features * i for i in range(k)]]\n",
    "val_X, val_y = val[:, :n_obs], val[:, [n_obs + feature_idx + n_features * i for i in range(k)]]\n",
    "test_X, test_y = test[:, :n_obs], test[:, [n_obs + feature_idx + n_features * i for i in range(k)]]\n",
    "\n",
    "\n",
    "# # normalize features\n",
    "# scaler = MinMaxScaler(feature_range=(0, 1))\n",
    "\n",
    "# train_X = scaler.fit_transform(train_X)\n",
    "# train_y = scaler.fit_transform(train_y)\n",
    "\n",
    "# val_X = scaler.fit_transform(val_X)\n",
    "# val_y = scaler.fit_transform(val_y)\n",
    "\n",
    "# test_X = scaler.fit_transform(test_X)\n",
    "# test_y = scaler.fit_transform(test_y)\n",
    "\n",
    "# reshape input to be 3D [samples, timesteps, features]\n",
    "train_X = train_X.reshape((train_X.shape[0], n_hours, n_features))\n",
    "val_X = val_X.reshape((val_X.shape[0], n_hours, n_features))\n",
    "test_X = test_X.reshape((test_X.shape[0], n_hours, n_features))\n",
    "\n",
    "\n",
    "train_X_pm = train_X[:, 0, feature_idx]\n",
    "val_X_pm = val_X[:, 0, feature_idx]\n",
    "test_X_pm = test_X[:, 0, feature_idx]\n",
    "\n",
    "\n",
    "percentile = 95\n",
    "merged_array = np.concatenate((train_X_pm, val_X_pm, test_X_pm))\n",
    "percentile_pm = np.percentile(merged_array, percentile)\n",
    "print(\"{}th Percentile of Daily Rain:\".format(percentile), percentile_pm)\n",
    "\n",
    "\n",
    "train_X_extreme = train_X[train_X_pm > percentile_pm]\n",
    "train_y_extreme = train_y[train_X_pm > percentile_pm]\n",
    "\n",
    "train_X_normal = train_X[train_X_pm <= percentile_pm]\n",
    "train_y_normal = train_y[train_X_pm <= percentile_pm]\n",
    "\n",
    "\n",
    "print(\"train_X_extreme, train_X_normal\", train_X_extreme.shape, train_X_normal.shape)\n",
    "\n",
    "test_X_extreme = test_X[test_X_pm > percentile_pm]\n",
    "test_y_extreme = test_y[test_X_pm > percentile_pm]\n",
    "\n",
    "test_X_normal = test_X[test_X_pm <= percentile_pm]\n",
    "test_y_normal = test_y[test_X_pm <= percentile_pm]"
   ]
  },
  {
   "cell_type": "code",
   "execution_count": 345,
   "id": "e1b70b7f",
   "metadata": {},
   "outputs": [
    {
     "data": {
      "image/png": "[encoded data removed]",
      "text/plain": [
       "<Figure size 432x288 with 1 Axes>"
      ]
     },
     "metadata": {
      "needs_background": "light"
     },
     "output_type": "display_data"
    }
   ],
   "source": [
    "train_rain = train_X_pm\n",
    "test_rain_extreme = test_X_extreme[:, 0, feature_idx]\n",
    "\n",
    "# Perform kernel density estimation\n",
    "kde_train_NE = gaussian_kde(train_rain)\n",
    "kde_test_E = gaussian_kde(test_rain_extreme)\n",
    "\n",
    "# Create a range of values for the x-axis\n",
    "x = np.linspace(min(train_rain), max(train_rain), 1000)\n",
    "\n",
    "# Calculate the estimated PDF values for the x-axis range\n",
    "pdf_train_NE = kde_train_NE(x)\n",
    "pdf_test_E = kde_test_E(x)\n",
    "\n",
    "\n",
    "FONTSIZE = 18\n",
    "TICKSIZE = 18\n",
    "LINEWIDTH = 2.7\n",
    "\n",
    "# Plot the estimated PDF\n",
    "plt.plot(x, pdf_train_NE, linewidth=LINEWIDTH, color='C1', label='Train (normal+extreme)') \n",
    "plt.plot(x, pdf_test_E,  linewidth=LINEWIDTH, color='C2', label='Test (extreme)')\n",
    "\n",
    "# Fill area under the curve for pdf_train_NE\n",
    "plt.fill_between(x, pdf_train_NE, color='C1', alpha=0.3)\n",
    "plt.fill_between(x, pdf_test_E, color='C2', alpha=0.3)\n",
    "\n",
    "plt.axvline(x=percentile_pm, color='gray', linestyle='--')\n",
    "# plt.title(\"Climate Dataset\", fontsize=FONTSIZE)\n",
    "plt.xlabel(\"PM25\", fontsize=FONTSIZE)\n",
    "# plt.ylabel(\"PDF\", fontsize=FONTSIZE)\n",
    "plt.xticks(fontsize=TICKSIZE)\n",
    "plt.yticks(fontsize=FONTSIZE)\n",
    "plt.ylim(0, 0.012)\n",
    "plt.legend(fontsize=FONTSIZE-2, loc='best')\n",
    "plt.savefig('figures/pdf_pm25.jpg', bbox_inches='tight', dpi=300)\n",
    "plt.show()"
   ]
  },
  {
   "cell_type": "code",
   "execution_count": null,
   "id": "f247ca7f",
   "metadata": {},
   "outputs": [],
   "source": []
  }
 ],
 "metadata": {
  "kernelspec": {
   "display_name": "Python 3 (ipykernel)",
   "language": "python",
   "name": "python3"
  },
  "language_info": {
   "codemirror_mode": {
    "name": "ipython",
    "version": 3
   },
   "file_extension": ".py",
   "mimetype": "text/x-python",
   "name": "python",
   "nbconvert_exporter": "python",
   "pygments_lexer": "ipython3",
   "version": "3.8.16"
  }
 },
 "nbformat": 4,
 "nbformat_minor": 5
}
