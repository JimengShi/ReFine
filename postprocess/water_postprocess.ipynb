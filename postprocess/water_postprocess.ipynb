{
 "cells": [
  {
   "cell_type": "markdown",
   "id": "6189ef88",
   "metadata": {},
   "source": [
    "## Import packages"
   ]
  },
  {
   "cell_type": "code",
   "execution_count": 1,
   "id": "a01a1167",
   "metadata": {},
   "outputs": [],
   "source": [
    "import os\n",
    "import sys\n",
    "\n",
    "module_path = os.path.abspath(os.path.join('..'))\n",
    "\n",
    "if module_path not in sys.path:\n",
    "    sys.path.append(module_path)"
   ]
  },
  {
   "cell_type": "code",
   "execution_count": 2,
   "id": "3f47fa9d",
   "metadata": {},
   "outputs": [
    {
     "name": "stderr",
     "output_type": "stream",
     "text": [
      "2024-02-03 14:40:57.152637: I tensorflow/stream_executor/platform/default/dso_loader.cc:49] Successfully opened dynamic library libcudart.so.10.1\n"
     ]
    }
   ],
   "source": [
    "import pandas as pd\n",
    "import numpy as np\n",
    "import matplotlib.pyplot as plt\n",
    "from sklearn.metrics import mean_squared_error as mse\n",
    "from sklearn.metrics import mean_absolute_error as mae\n",
    "from sklearn.manifold import TSNE\n",
    "from tensorflow.keras.models import load_model\n",
    "from preprocess import water_postprocess\n",
    "from scipy import stats\n",
    "from scipy.stats import mannwhitneyu, wilcoxon, ttest_rel\n",
    "from performance import metrics_s1_t1"
   ]
  },
  {
   "cell_type": "code",
   "execution_count": 3,
   "id": "0092be29",
   "metadata": {},
   "outputs": [],
   "source": [
    "import os\n",
    "os.environ[\"CUDA_VISIBLE_DEVICES\"] = \"7\""
   ]
  },
  {
   "cell_type": "markdown",
   "id": "62b6b865",
   "metadata": {},
   "source": [
    "## Preprocess data"
   ]
  },
  {
   "cell_type": "code",
   "execution_count": 4,
   "id": "c1e14ca0",
   "metadata": {},
   "outputs": [],
   "source": [
    "# ====== preprocessing parameters ======\n",
    "n_hours = 72\n",
    "k = 24 \n",
    "masked_value = 1e-10\n",
    "split_1 = 0.7\n",
    "split_2 = 0.85"
   ]
  },
  {
   "cell_type": "code",
   "execution_count": 5,
   "id": "b444521c",
   "metadata": {},
   "outputs": [
    {
     "name": "stdout",
     "output_type": "stream",
     "text": [
      "Index(['MEAN_RAIN', 'WS_S4', 'GATE_S25A', 'GATE_S25B', 'GATE_S25B2',\n",
      "       'GATE_S26_1', 'GATE_S26_2', 'PUMP_S25B', 'PUMP_S26', 'HWS_S25A',\n",
      "       'HWS_S25B', 'HWS_S26', 'WS_S1', 'TWS_S25A', 'TWS_S25B', 'TWS_S26'],\n",
      "      dtype='object')\n"
     ]
    }
   ],
   "source": [
    "train_X_mask, val_X_mask, test_X_mask, \\\n",
    "train_ws_y, val_ws_y, test_ws_y, \\\n",
    "scaler, ws_scaler = water_postprocess(n_hours, k, masked_value, split_1, split_2)"
   ]
  },
  {
   "cell_type": "code",
   "execution_count": 6,
   "id": "85e89a86",
   "metadata": {},
   "outputs": [
    {
     "name": "stdout",
     "output_type": "stream",
     "text": [
      "(67435, 96, 16) (14451, 96, 16) (14451, 96, 16) (67435, 96) (14451, 96) (14451, 96)\n"
     ]
    }
   ],
   "source": [
    "print(train_X_mask.shape, val_X_mask.shape, test_X_mask.shape, train_ws_y.shape, val_ws_y.shape, test_ws_y.shape)"
   ]
  },
  {
   "cell_type": "markdown",
   "id": "dcf99ebe",
   "metadata": {},
   "source": [
    "### Rain threshold"
   ]
  },
  {
   "cell_type": "code",
   "execution_count": 7,
   "id": "13b57480",
   "metadata": {},
   "outputs": [
    {
     "name": "stdout",
     "output_type": "stream",
     "text": [
      "(67435,)\n",
      "(14451,)\n",
      "(14451,)\n"
     ]
    }
   ],
   "source": [
    "# train_X_mask_rain_acc = np.sum(train_X_mask[:, -24:, 0], axis=1)\n",
    "# print(train_X_mask_rain_acc.shape)\n",
    "\n",
    "# test_X_mask_rain_acc = np.sum(test_X_mask[:, -24:, 0], axis=1)\n",
    "# print(test_X_mask_rain_acc.shape)\n",
    "\n",
    "train_X_mask_rain_acc = train_X_mask[:, 0, 0]\n",
    "print(train_X_mask_rain_acc.shape)\n",
    "\n",
    "val_X_mask_rain_acc = val_X_mask[:, 0, 0]\n",
    "print(val_X_mask_rain_acc.shape)\n",
    "\n",
    "test_X_mask_rain_acc = test_X_mask[:, 0, 0]\n",
    "print(test_X_mask_rain_acc.shape)"
   ]
  },
  {
   "cell_type": "code",
   "execution_count": 8,
   "id": "a7a33ce9",
   "metadata": {},
   "outputs": [
    {
     "name": "stdout",
     "output_type": "stream",
     "text": [
      "95th Percentile of Daily Rain: 0.010711610503493287\n"
     ]
    }
   ],
   "source": [
    "percentile = 95\n",
    "\n",
    "merged_array = np.concatenate((train_X_mask_rain_acc, val_X_mask_rain_acc, test_X_mask_rain_acc))\n",
    "\n",
    "percentile_rain = np.percentile(merged_array, percentile)\n",
    "\n",
    "print(\"{}th Percentile of Daily Rain:\".format(percentile), percentile_rain)"
   ]
  },
  {
   "cell_type": "markdown",
   "id": "a0f01f1f",
   "metadata": {},
   "source": [
    "### train_X_mask_filter"
   ]
  },
  {
   "cell_type": "code",
   "execution_count": 9,
   "id": "77eb0645",
   "metadata": {},
   "outputs": [
    {
     "name": "stdout",
     "output_type": "stream",
     "text": [
      "(3251, 96, 16)\n",
      "(3251, 96)\n"
     ]
    }
   ],
   "source": [
    "train_X_mask_extreme = train_X_mask[train_X_mask_rain_acc > percentile_rain]\n",
    "print(train_X_mask_extreme.shape)\n",
    "\n",
    "train_ws_y_extreme = train_ws_y[train_X_mask_rain_acc > percentile_rain]\n",
    "print(train_ws_y_extreme.shape)"
   ]
  },
  {
   "cell_type": "code",
   "execution_count": 10,
   "id": "66f9063f",
   "metadata": {},
   "outputs": [
    {
     "name": "stdout",
     "output_type": "stream",
     "text": [
      "(64184, 96, 16)\n",
      "(64184, 96)\n"
     ]
    }
   ],
   "source": [
    "train_X_mask_normal = train_X_mask[train_X_mask_rain_acc <= percentile_rain]\n",
    "print(train_X_mask_normal.shape)\n",
    "\n",
    "train_ws_y_normal = train_ws_y[train_X_mask_rain_acc <= percentile_rain]\n",
    "print(train_ws_y_normal.shape)"
   ]
  },
  {
   "cell_type": "markdown",
   "id": "8d659e18",
   "metadata": {},
   "source": [
    "### val_X_mask_filter"
   ]
  },
  {
   "cell_type": "code",
   "execution_count": 11,
   "id": "e6ff7ce7",
   "metadata": {},
   "outputs": [
    {
     "name": "stdout",
     "output_type": "stream",
     "text": [
      "(536, 96, 16)\n",
      "(536, 96)\n"
     ]
    }
   ],
   "source": [
    "val_X_mask_extreme = val_X_mask[val_X_mask_rain_acc > percentile_rain]\n",
    "print(val_X_mask_extreme.shape)\n",
    "\n",
    "val_ws_y_extreme = val_ws_y[val_X_mask_rain_acc > percentile_rain]\n",
    "print(val_ws_y_extreme.shape)"
   ]
  },
  {
   "cell_type": "code",
   "execution_count": 12,
   "id": "e0eed2d8",
   "metadata": {},
   "outputs": [
    {
     "name": "stdout",
     "output_type": "stream",
     "text": [
      "(13915, 96, 16)\n",
      "(13915, 96)\n"
     ]
    }
   ],
   "source": [
    "val_X_mask_normal = val_X_mask[val_X_mask_rain_acc <= percentile_rain]\n",
    "print(val_X_mask_normal.shape)\n",
    "\n",
    "val_ws_y_normal = val_ws_y[val_X_mask_rain_acc <= percentile_rain]\n",
    "print(val_ws_y_normal.shape)"
   ]
  },
  {
   "cell_type": "markdown",
   "id": "d95737b8",
   "metadata": {},
   "source": [
    "### test_X_mask_filter"
   ]
  },
  {
   "cell_type": "code",
   "execution_count": 13,
   "id": "ae808e74",
   "metadata": {},
   "outputs": [
    {
     "name": "stdout",
     "output_type": "stream",
     "text": [
      "(1030, 96, 16)\n",
      "(1030, 96)\n"
     ]
    }
   ],
   "source": [
    "test_X_mask_extreme = test_X_mask[test_X_mask_rain_acc > percentile_rain]\n",
    "print(test_X_mask_extreme.shape)\n",
    "\n",
    "test_ws_y_extreme = test_ws_y[test_X_mask_rain_acc > percentile_rain]\n",
    "print(test_ws_y_extreme.shape)"
   ]
  },
  {
   "cell_type": "code",
   "execution_count": 14,
   "id": "80ebaabe",
   "metadata": {},
   "outputs": [
    {
     "name": "stdout",
     "output_type": "stream",
     "text": [
      "(13421, 96, 16)\n",
      "(13421, 96)\n"
     ]
    }
   ],
   "source": [
    "test_X_mask_normal = test_X_mask[test_X_mask_rain_acc <= percentile_rain]\n",
    "print(test_X_mask_normal.shape)\n",
    "\n",
    "test_ws_y_normal = test_ws_y[test_X_mask_rain_acc <= percentile_rain]\n",
    "print(test_ws_y_normal.shape)"
   ]
  },
  {
   "cell_type": "markdown",
   "id": "8003a2dc",
   "metadata": {},
   "source": [
    "## Test model"
   ]
  },
  {
   "cell_type": "code",
   "execution_count": 15,
   "id": "c28f45b8",
   "metadata": {},
   "outputs": [],
   "source": [
    "# ws_threshold = 2.58\n",
    "time_index = 0"
   ]
  },
  {
   "cell_type": "markdown",
   "id": "da5beaa4",
   "metadata": {},
   "source": [
    "#### Extreme"
   ]
  },
  {
   "cell_type": "code",
   "execution_count": 19,
   "id": "b5503da3",
   "metadata": {
    "scrolled": false
   },
   "outputs": [
    {
     "name": "stdout",
     "output_type": "stream",
     "text": [
      "Peformance when water level is over -0.8199999928474426 ft \n",
      "\n",
      "------ MAE & RMSE ------\n",
      "MAE = 0.161459\n",
      "RMSE = 0.21477 \n",
      "\n",
      "------ Max Errors (t+1 at S1) ------\n",
      "Max Error of Over Estimation: 0.2705958\n",
      "Max Error of Under Estimation: -0.9244937\n",
      "Max Abs Error of Under Estimation: 0.9244937 \n",
      "\n",
      "------ Time # (t+1 at S1) ------\n",
      "Time# of Over Estimation: 44\n",
      "Time# of Under Estimation: 986 \n",
      "\n",
      "------ Area (t+1 at S1) ------\n",
      "Area of Over Estimation: 2.177920534275472\n",
      "Area of Under Estimation: -187.90659834444523\n"
     ]
    }
   ],
   "source": [
    "# saved_model = load_model('../saved_models_mlp/water_N.h5') \n",
    "# saved_model = load_model('../saved_models_mlp/water_E.h5') \n",
    "\n",
    "\n",
    "# saved_model = load_model('../saved_models_mlp/water_all_95.h5') \n",
    "# saved_model = load_model('../saved_models_mlp/water_all_95_ft.h5')\n",
    "\n",
    "# saved_model = load_model('../saved_models_mlp/water_all_weighted_IPF_95.h5')\n",
    "# saved_model = load_model('../saved_models_mlp/water_all_weighted_IPF_95_ft.h5')\n",
    "\n",
    "# saved_model = load_model('../saved_models_mlp/water_all_weighted_EVT_95.h5')\n",
    "# saved_model = load_model('../saved_models_mlp/water_all_weighted_EVT_95_ft.h5')\n",
    "\n",
    "saved_model = load_model('../saved_models_mlp/water_all_weighted_META_95.h5')\n",
    "# saved_model = load_model('../saved_models_mlp/water_all_weighted_META_95_ft.h5')\n",
    "\n",
    "yhat_extreme = saved_model.predict(test_X_mask_extreme)\n",
    "inv_yhat_extreme = ws_scaler.inverse_transform(yhat_extreme)\n",
    "inv_y_extreme = ws_scaler.inverse_transform(test_ws_y_extreme)\n",
    "test_errors_extreme = inv_yhat_extreme - inv_y_extreme\n",
    "\n",
    "metrics_s1_t1(inv_y_extreme.min(), time_index, inv_y_extreme, inv_yhat_extreme, test_errors_extreme)"
   ]
  },
  {
   "cell_type": "markdown",
   "id": "934cc45f",
   "metadata": {},
   "source": [
    "#### Normal & Extreme hen water level is over threshold 2.58 feet (95 percentile)"
   ]
  },
  {
   "cell_type": "code",
   "execution_count": 61,
   "id": "4301bd5b",
   "metadata": {
    "scrolled": true
   },
   "outputs": [
    {
     "name": "stdout",
     "output_type": "stream",
     "text": [
      "Peformance when water level is over -1.25 ft \n",
      "\n",
      "------ MAE & RMSE ------\n",
      "MAE = 0.08949\n",
      "RMSE = 0.122161 \n",
      "\n",
      "------ Max Errors (t+1 at S1) ------\n",
      "Max Error of Over Estimation: 0.5513456\n",
      "Max Error of Under Estimation: -0.7480478\n",
      "Max Abs Error of Under Estimation: 0.7480478 \n",
      "\n",
      "------ Time # (t+1 at S1) ------\n",
      "Time# of Over Estimation: 3036\n",
      "Time# of Under Estimation: 11415 \n",
      "\n",
      "------ Area (t+1 at S1) ------\n",
      "Area of Over Estimation: 162.62288455938688\n",
      "Area of Under Estimation: -926.6571015275549\n"
     ]
    }
   ],
   "source": [
    "# saved_model = load_model('../saved_models_mlp/water_N_E_95.h5') \n",
    "# saved_model = load_model('../saved_models_mlp/water_E_E_95.h5') \n",
    "\n",
    "\n",
    "# saved_model = load_model('../saved_models_mlp/water_all_95.h5') \n",
    "# saved_model = load_model('../saved_models_mlp/water_all_95_ft.h5')\n",
    "\n",
    "# saved_model = load_model('../saved_models_mlp/water_all_weighted_IPF_95.h5')\n",
    "# saved_model = load_model('../saved_models_mlp/water_all_weighted_IPF_95_ft.h5')\n",
    "\n",
    "# saved_model = load_model('../saved_models_mlp/water_all_weighted_EVT_95.h5')\n",
    "# saved_model = load_model('../saved_models_mlp/water_all_weighted_EVT_95_ft.h5')\n",
    "\n",
    "saved_model = load_model('../saved_models_mlp/water_all_weighted_META_95.h5')\n",
    "# saved_model = load_model('../saved_models_mlp/water_all_weighted_META_95_ft.h5')\n",
    "\n",
    "\n",
    "yhat = saved_model.predict(test_X_mask)\n",
    "\n",
    "\n",
    "inv_yhat = ws_scaler.inverse_transform(yhat)\n",
    "inv_y = ws_scaler.inverse_transform(test_ws_y)\n",
    "test_errors = inv_yhat - inv_y\n",
    "metrics_s1_t1(inv_y.min(), time_index, inv_y, inv_yhat, test_errors)"
   ]
  },
  {
   "cell_type": "markdown",
   "id": "6147b20b",
   "metadata": {},
   "source": [
    "#### hyperparameter - frozen layers"
   ]
  },
  {
   "cell_type": "code",
   "execution_count": 83,
   "id": "f138fe41",
   "metadata": {
    "scrolled": false
   },
   "outputs": [
    {
     "name": "stdout",
     "output_type": "stream",
     "text": [
      "layer: 1\n",
      "MAE = 0.096839\n",
      "RMSE = 0.129209\n",
      "-------------------------\n",
      "layer: 5\n",
      "MAE = 0.101532\n",
      "RMSE = 0.143779\n",
      "-------------------------\n",
      "layer: 9\n",
      "MAE = 0.101841\n",
      "RMSE = 0.140407\n",
      "-------------------------\n",
      "layer: 13\n",
      "MAE = 0.103867\n",
      "RMSE = 0.14259\n",
      "-------------------------\n",
      "layer: 17\n",
      "MAE = 0.102034\n",
      "RMSE = 0.140531\n",
      "-------------------------\n"
     ]
    }
   ],
   "source": [
    "layers = [1, 5, 9, 13, 17]\n",
    "\n",
    "for layer in layers:\n",
    "    print('layer: {}'.format(layer))    \n",
    "    saved_model = load_model('../saved_models_hyper/water_all_weighted_META_95_ft_{}.h5'.format(layer))\n",
    "    yhat_extreme = saved_model.predict(test_X_mask_extreme)\n",
    "\n",
    "    inv_yhat_extreme = ws_scaler.inverse_transform(yhat_extreme)\n",
    "    inv_y_extreme = ws_scaler.inverse_transform(test_ws_y_extreme)\n",
    "    test_errors_extreme = inv_yhat_extreme - inv_y_extreme\n",
    "\n",
    "    print('MAE = {}'.format(float(\"{:.6f}\".format(mae(inv_y_extreme, inv_yhat_extreme)))))\n",
    "    print('RMSE = {}'.format(float(\"{:.6f}\".format(np.sqrt(mse(inv_y_extreme, inv_yhat_extreme))))))\n",
    "    print('-------------------------')"
   ]
  },
  {
   "cell_type": "markdown",
   "id": "a26b7f9f",
   "metadata": {},
   "source": [
    "### P-values"
   ]
  },
  {
   "cell_type": "code",
   "execution_count": 182,
   "id": "0fe976fb",
   "metadata": {},
   "outputs": [
    {
     "data": {
      "text/plain": [
       "(1030, 96)"
      ]
     },
     "execution_count": 182,
     "metadata": {},
     "output_type": "execute_result"
    }
   ],
   "source": [
    "saved_model = load_model('../saved_models_mlp/water_all_95.h5') \n",
    "\n",
    "yhat_extreme = saved_model.predict(test_X_mask_extreme)\n",
    "inv_yhat_extreme = ws_scaler.inverse_transform(yhat_extreme)\n",
    "inv_y_extreme = ws_scaler.inverse_transform(test_ws_y_extreme)\n",
    "test_errors_extreme_ori = inv_yhat_extreme - inv_y_extreme\n",
    "test_errors_extreme_ori.shape"
   ]
  },
  {
   "cell_type": "code",
   "execution_count": 183,
   "id": "68493d20",
   "metadata": {},
   "outputs": [],
   "source": [
    "saved_model = load_model('../saved_models_mlp/water_all_weighted_META_95.h5')\n",
    "\n",
    "yhat_extreme = saved_model.predict(test_X_mask_extreme)\n",
    "inv_yhat_extreme = ws_scaler.inverse_transform(yhat_extreme)\n",
    "inv_y_extreme = ws_scaler.inverse_transform(test_ws_y_extreme)\n",
    "test_errors_extreme_re_meta = inv_yhat_extreme - inv_y_extreme"
   ]
  },
  {
   "cell_type": "code",
   "execution_count": 186,
   "id": "56c5690e",
   "metadata": {},
   "outputs": [
    {
     "name": "stdout",
     "output_type": "stream",
     "text": [
      "p_value_mann: 6.8135e-17\n",
      "p_value_wilcoxon: 6.0727e-20\n",
      "p_value_ttest: 1.3289e-24\n"
     ]
    }
   ],
   "source": [
    "t_index = -1\n",
    "\n",
    "# ========= Mann-Whitney U test =========\n",
    "stat_mann, p_value_mann = mannwhitneyu(test_errors_extreme_ori[:,t_index], test_errors_extreme_re_meta[:,t_index], alternative='two-sided')\n",
    "print(f\"p_value_mann: {p_value_mann:.4e}\")\n",
    "\n",
    "\n",
    "# ========= wilcoxon U test =========\n",
    "stat_wilcoxon, p_value_wilcoxon = wilcoxon(test_errors_extreme_ori[:, t_index], test_errors_extreme_re_meta[:, t_index])\n",
    "print(f\"p_value_wilcoxon: {p_value_wilcoxon:.4e}\")\n",
    "\n",
    "\n",
    "# ========= t-test =========\n",
    "t_statistic, p_value = ttest_rel(test_errors_extreme_ori[:,t_index], test_errors_extreme_re_meta[:,t_index])\n",
    "print(f\"p_value_ttest: {p_value:.4e}\")"
   ]
  },
  {
   "cell_type": "code",
   "execution_count": null,
   "id": "07d67856",
   "metadata": {},
   "outputs": [],
   "source": []
  },
  {
   "cell_type": "code",
   "execution_count": null,
   "id": "03a392fc",
   "metadata": {},
   "outputs": [],
   "source": []
  }
 ],
 "metadata": {
  "kernelspec": {
   "display_name": "Python 3 (ipykernel)",
   "language": "python",
   "name": "python3"
  },
  "language_info": {
   "codemirror_mode": {
    "name": "ipython",
    "version": 3
   },
   "file_extension": ".py",
   "mimetype": "text/x-python",
   "name": "python",
   "nbconvert_exporter": "python",
   "pygments_lexer": "ipython3",
   "version": "3.8.16"
  }
 },
 "nbformat": 4,
 "nbformat_minor": 5
}
