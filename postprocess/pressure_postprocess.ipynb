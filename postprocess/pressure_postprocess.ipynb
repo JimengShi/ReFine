{
 "cells": [
  {
   "cell_type": "markdown",
   "id": "6189ef88",
   "metadata": {},
   "source": [
    "## Import packages"
   ]
  },
  {
   "cell_type": "code",
   "execution_count": 1,
   "id": "a01a1167",
   "metadata": {},
   "outputs": [],
   "source": [
    "import os\n",
    "import sys\n",
    "\n",
    "module_path = os.path.abspath(os.path.join('..'))\n",
    "\n",
    "if module_path not in sys.path:\n",
    "    sys.path.append(module_path)"
   ]
  },
  {
   "cell_type": "code",
   "execution_count": 2,
   "id": "3f47fa9d",
   "metadata": {},
   "outputs": [
    {
     "name": "stderr",
     "output_type": "stream",
     "text": [
      "2024-02-03 15:15:43.213301: I tensorflow/stream_executor/platform/default/dso_loader.cc:49] Successfully opened dynamic library libcudart.so.10.1\n"
     ]
    }
   ],
   "source": [
    "import pandas as pd\n",
    "import numpy as np\n",
    "import matplotlib.pyplot as plt\n",
    "from sklearn.preprocessing import MinMaxScaler\n",
    "from helper import series_to_supervised\n",
    "from tensorflow.keras.models import load_model\n",
    "from preprocess import water_postprocess\n",
    "from scipy.stats import mannwhitneyu, wilcoxon, ttest_rel\n",
    "from sklearn.metrics import mean_squared_error as mse\n",
    "from sklearn.metrics import mean_absolute_error as mae\n",
    "from performance import metrics_s1_t1"
   ]
  },
  {
   "cell_type": "code",
   "execution_count": 3,
   "id": "0092be29",
   "metadata": {},
   "outputs": [],
   "source": [
    "import os\n",
    "os.environ[\"CUDA_VISIBLE_DEVICES\"] = \"7\""
   ]
  },
  {
   "cell_type": "markdown",
   "id": "62b6b865",
   "metadata": {},
   "source": [
    "## Preprocess data"
   ]
  },
  {
   "cell_type": "code",
   "execution_count": 4,
   "id": "c1e14ca0",
   "metadata": {},
   "outputs": [
    {
     "data": {
      "text/html": [
       "<div>\n",
       "<style scoped>\n",
       "    .dataframe tbody tr th:only-of-type {\n",
       "        vertical-align: middle;\n",
       "    }\n",
       "\n",
       "    .dataframe tbody tr th {\n",
       "        vertical-align: top;\n",
       "    }\n",
       "\n",
       "    .dataframe thead th {\n",
       "        text-align: right;\n",
       "    }\n",
       "</style>\n",
       "<table border=\"1\" class=\"dataframe\">\n",
       "  <thead>\n",
       "    <tr style=\"text-align: right;\">\n",
       "      <th></th>\n",
       "      <th>p (mbar)</th>\n",
       "      <th>T (degC)</th>\n",
       "      <th>Tpot (K)</th>\n",
       "      <th>Tdew (degC)</th>\n",
       "      <th>rh (%)</th>\n",
       "      <th>VPmax (mbar)</th>\n",
       "      <th>VPact (mbar)</th>\n",
       "      <th>VPdef (mbar)</th>\n",
       "      <th>sh (g/kg)</th>\n",
       "      <th>H2OC (mmol/mol)</th>\n",
       "      <th>rho (g/m**3)</th>\n",
       "      <th>wv (m/s)</th>\n",
       "      <th>max. wv (m/s)</th>\n",
       "      <th>wd (deg)</th>\n",
       "    </tr>\n",
       "    <tr>\n",
       "      <th>Date Time</th>\n",
       "      <th></th>\n",
       "      <th></th>\n",
       "      <th></th>\n",
       "      <th></th>\n",
       "      <th></th>\n",
       "      <th></th>\n",
       "      <th></th>\n",
       "      <th></th>\n",
       "      <th></th>\n",
       "      <th></th>\n",
       "      <th></th>\n",
       "      <th></th>\n",
       "      <th></th>\n",
       "      <th></th>\n",
       "    </tr>\n",
       "  </thead>\n",
       "  <tbody>\n",
       "    <tr>\n",
       "      <th>2009-01-01 00:00:00</th>\n",
       "      <td>996.528000</td>\n",
       "      <td>-8.304000</td>\n",
       "      <td>265.118000</td>\n",
       "      <td>-9.120000</td>\n",
       "      <td>93.780000</td>\n",
       "      <td>3.260000</td>\n",
       "      <td>3.058000</td>\n",
       "      <td>0.202000</td>\n",
       "      <td>1.910000</td>\n",
       "      <td>3.068000</td>\n",
       "      <td>1309.196000</td>\n",
       "      <td>0.520000</td>\n",
       "      <td>1.002000</td>\n",
       "      <td>174.460000</td>\n",
       "    </tr>\n",
       "    <tr>\n",
       "      <th>2009-01-01 01:00:00</th>\n",
       "      <td>996.525000</td>\n",
       "      <td>-8.065000</td>\n",
       "      <td>265.361667</td>\n",
       "      <td>-8.861667</td>\n",
       "      <td>93.933333</td>\n",
       "      <td>3.323333</td>\n",
       "      <td>3.121667</td>\n",
       "      <td>0.201667</td>\n",
       "      <td>1.951667</td>\n",
       "      <td>3.133333</td>\n",
       "      <td>1307.981667</td>\n",
       "      <td>0.316667</td>\n",
       "      <td>0.711667</td>\n",
       "      <td>172.416667</td>\n",
       "    </tr>\n",
       "    <tr>\n",
       "      <th>2009-01-01 02:00:00</th>\n",
       "      <td>996.745000</td>\n",
       "      <td>-8.763333</td>\n",
       "      <td>264.645000</td>\n",
       "      <td>-9.610000</td>\n",
       "      <td>93.533333</td>\n",
       "      <td>3.145000</td>\n",
       "      <td>2.940000</td>\n",
       "      <td>0.201667</td>\n",
       "      <td>1.836667</td>\n",
       "      <td>2.950000</td>\n",
       "      <td>1311.816667</td>\n",
       "      <td>0.248333</td>\n",
       "      <td>0.606667</td>\n",
       "      <td>196.816667</td>\n",
       "    </tr>\n",
       "    <tr>\n",
       "      <th>2009-01-01 03:00:00</th>\n",
       "      <td>996.986667</td>\n",
       "      <td>-8.896667</td>\n",
       "      <td>264.491667</td>\n",
       "      <td>-9.786667</td>\n",
       "      <td>93.200000</td>\n",
       "      <td>3.111667</td>\n",
       "      <td>2.898333</td>\n",
       "      <td>0.210000</td>\n",
       "      <td>1.811667</td>\n",
       "      <td>2.906667</td>\n",
       "      <td>1312.813333</td>\n",
       "      <td>0.176667</td>\n",
       "      <td>0.606667</td>\n",
       "      <td>157.083333</td>\n",
       "    </tr>\n",
       "    <tr>\n",
       "      <th>2009-01-01 04:00:00</th>\n",
       "      <td>997.158333</td>\n",
       "      <td>-9.348333</td>\n",
       "      <td>264.026667</td>\n",
       "      <td>-10.345000</td>\n",
       "      <td>92.383333</td>\n",
       "      <td>3.001667</td>\n",
       "      <td>2.775000</td>\n",
       "      <td>0.231667</td>\n",
       "      <td>1.733333</td>\n",
       "      <td>2.780000</td>\n",
       "      <td>1315.355000</td>\n",
       "      <td>0.290000</td>\n",
       "      <td>0.670000</td>\n",
       "      <td>150.093333</td>\n",
       "    </tr>\n",
       "  </tbody>\n",
       "</table>\n",
       "</div>"
      ],
      "text/plain": [
       "                       p (mbar)  T (degC)    Tpot (K)  Tdew (degC)     rh (%)  \\\n",
       "Date Time                                                                       \n",
       "2009-01-01 00:00:00  996.528000 -8.304000  265.118000    -9.120000  93.780000   \n",
       "2009-01-01 01:00:00  996.525000 -8.065000  265.361667    -8.861667  93.933333   \n",
       "2009-01-01 02:00:00  996.745000 -8.763333  264.645000    -9.610000  93.533333   \n",
       "2009-01-01 03:00:00  996.986667 -8.896667  264.491667    -9.786667  93.200000   \n",
       "2009-01-01 04:00:00  997.158333 -9.348333  264.026667   -10.345000  92.383333   \n",
       "\n",
       "                     VPmax (mbar)  VPact (mbar)  VPdef (mbar)  sh (g/kg)  \\\n",
       "Date Time                                                                  \n",
       "2009-01-01 00:00:00      3.260000      3.058000      0.202000   1.910000   \n",
       "2009-01-01 01:00:00      3.323333      3.121667      0.201667   1.951667   \n",
       "2009-01-01 02:00:00      3.145000      2.940000      0.201667   1.836667   \n",
       "2009-01-01 03:00:00      3.111667      2.898333      0.210000   1.811667   \n",
       "2009-01-01 04:00:00      3.001667      2.775000      0.231667   1.733333   \n",
       "\n",
       "                     H2OC (mmol/mol)  rho (g/m**3)  wv (m/s)  max. wv (m/s)  \\\n",
       "Date Time                                                                     \n",
       "2009-01-01 00:00:00         3.068000   1309.196000  0.520000       1.002000   \n",
       "2009-01-01 01:00:00         3.133333   1307.981667  0.316667       0.711667   \n",
       "2009-01-01 02:00:00         2.950000   1311.816667  0.248333       0.606667   \n",
       "2009-01-01 03:00:00         2.906667   1312.813333  0.176667       0.606667   \n",
       "2009-01-01 04:00:00         2.780000   1315.355000  0.290000       0.670000   \n",
       "\n",
       "                       wd (deg)  \n",
       "Date Time                        \n",
       "2009-01-01 00:00:00  174.460000  \n",
       "2009-01-01 01:00:00  172.416667  \n",
       "2009-01-01 02:00:00  196.816667  \n",
       "2009-01-01 03:00:00  157.083333  \n",
       "2009-01-01 04:00:00  150.093333  "
      ]
     },
     "execution_count": 4,
     "metadata": {},
     "output_type": "execute_result"
    }
   ],
   "source": [
    "# https://keras.io/examples/timeseries/timeseries_weather_forecasting/#climate-data-timeseries\n",
    "data = pd.read_csv(\"../data/jena_climate_2009_2016_hourly.csv\", index_col=0)\n",
    "data.fillna(0, inplace=True)\n",
    "data.head()"
   ]
  },
  {
   "cell_type": "code",
   "execution_count": 5,
   "id": "b444521c",
   "metadata": {},
   "outputs": [
    {
     "name": "stdout",
     "output_type": "stream",
     "text": [
      "reframed.shape: (70046, 1176)\n"
     ]
    }
   ],
   "source": [
    "values = data.values\n",
    "\n",
    "# specify the number of lag hours\n",
    "n_hours = 24*3\n",
    "n_features = data.shape[-1]\n",
    "k = 12\n",
    "split1 = 0.7\n",
    "split2 = 0.85\n",
    "\n",
    "# frame as supervised learning\n",
    "reframed = series_to_supervised(values, n_hours, k)\n",
    "print(\"reframed.shape:\", reframed.shape)"
   ]
  },
  {
   "cell_type": "code",
   "execution_count": 6,
   "id": "85e89a86",
   "metadata": {},
   "outputs": [
    {
     "name": "stdout",
     "output_type": "stream",
     "text": [
      "train_X.shape, train_y.shape, val_X.shape, val_y.shape, test_X.shape, test_y.shape (49032, 1008) (49032, 12) (10507, 1008) (10507, 12) (10507, 1008) (10507, 12)\n"
     ]
    }
   ],
   "source": [
    "# split into train and test sets\n",
    "reframed_values = reframed.values\n",
    "n_train_hours = int(len(reframed_values)*split1)\n",
    "n_valid_hours = int(len(reframed_values)*split2)\n",
    "\n",
    "train = reframed_values[:n_train_hours, :]\n",
    "val = reframed_values[n_train_hours:n_valid_hours, :]\n",
    "test = reframed_values[n_valid_hours:, :]\n",
    "\n",
    "\n",
    "# split into input and outputs\n",
    "n_obs = n_hours * n_features\n",
    "feature_idx = 5\n",
    "train_X, train_y = train[:, :n_obs], train[:, [n_obs + feature_idx + n_features * i for i in range(k)]]\n",
    "val_X, val_y = val[:, :n_obs], val[:, [n_obs + feature_idx + n_features * i for i in range(k)]]\n",
    "test_X, test_y = test[:, :n_obs], test[:, [n_obs + feature_idx + n_features * i for i in range(k)]]\n",
    "\n",
    "\n",
    "print(\"train_X.shape, train_y.shape, val_X.shape, val_y.shape, test_X.shape, test_y.shape\", \n",
    "      train_X.shape, train_y.shape, val_X.shape, val_y.shape, test_X.shape, test_y.shape\n",
    "     )"
   ]
  },
  {
   "cell_type": "code",
   "execution_count": 7,
   "id": "5e22c696",
   "metadata": {},
   "outputs": [
    {
     "name": "stdout",
     "output_type": "stream",
     "text": [
      "train_X.shape, train_y.shape, val_X.shape, val_y.shape, test_X.shape, test_y.shape (49032, 72, 14) (49032, 12) (10507, 72, 14) (10507, 12) (10507, 72, 14) (10507, 12)\n"
     ]
    }
   ],
   "source": [
    "# normalize features\n",
    "scaler = MinMaxScaler(feature_range=(0, 1))\n",
    "\n",
    "train_X = scaler.fit_transform(train_X)\n",
    "train_y = scaler.fit_transform(train_y)\n",
    "\n",
    "val_X = scaler.fit_transform(val_X)\n",
    "val_y = scaler.fit_transform(val_y)\n",
    "\n",
    "test_X = scaler.fit_transform(test_X)\n",
    "test_y = scaler.fit_transform(test_y)\n",
    "\n",
    "# reshape input to be 3D [samples, timesteps, features]\n",
    "train_X = train_X.reshape((train_X.shape[0], n_hours, n_features))\n",
    "val_X = val_X.reshape((val_X.shape[0], n_hours, n_features))\n",
    "test_X = test_X.reshape((test_X.shape[0], n_hours, n_features))\n",
    "\n",
    "print(\"train_X.shape, train_y.shape, val_X.shape, val_y.shape, test_X.shape, test_y.shape\", \n",
    "      train_X.shape, train_y.shape, val_X.shape, val_y.shape, test_X.shape, test_y.shape\n",
    "     )"
   ]
  },
  {
   "cell_type": "markdown",
   "id": "dcf99ebe",
   "metadata": {},
   "source": [
    "### Pressure threshold"
   ]
  },
  {
   "cell_type": "code",
   "execution_count": 8,
   "id": "13b57480",
   "metadata": {},
   "outputs": [
    {
     "name": "stdout",
     "output_type": "stream",
     "text": [
      "(49032,)\n",
      "(10507,)\n",
      "(10507,)\n"
     ]
    }
   ],
   "source": [
    "train_X_pm = train_X[:, 0, feature_idx]\n",
    "print(train_X_pm.shape)\n",
    "\n",
    "val_X_pm = val_X[:, 0, feature_idx]\n",
    "print(val_X_pm.shape)\n",
    "\n",
    "test_X_pm = test_X[:, 0, feature_idx]\n",
    "print(test_X_pm.shape)"
   ]
  },
  {
   "cell_type": "code",
   "execution_count": 9,
   "id": "a7a33ce9",
   "metadata": {},
   "outputs": [
    {
     "name": "stdout",
     "output_type": "stream",
     "text": [
      "95th Percentile of Daily Rain: 0.48441203148316114\n"
     ]
    }
   ],
   "source": [
    "percentile = 95\n",
    "\n",
    "merged_array = np.concatenate((train_X_pm, val_X_pm, test_X_pm))\n",
    "\n",
    "percentile_pm = np.percentile(merged_array, percentile)\n",
    "\n",
    "print(\"{}th Percentile of Daily Rain:\".format(percentile), percentile_pm)"
   ]
  },
  {
   "cell_type": "markdown",
   "id": "a0f01f1f",
   "metadata": {},
   "source": [
    "### train_X_filter"
   ]
  },
  {
   "cell_type": "code",
   "execution_count": 10,
   "id": "77eb0645",
   "metadata": {},
   "outputs": [
    {
     "name": "stdout",
     "output_type": "stream",
     "text": [
      "(2206, 72, 14)\n",
      "(2206, 12)\n"
     ]
    }
   ],
   "source": [
    "train_X_extreme = train_X[train_X_pm > percentile_pm]\n",
    "print(train_X_extreme.shape)\n",
    "\n",
    "train_y_extreme = train_y[train_X_pm > percentile_pm]\n",
    "print(train_y_extreme.shape)"
   ]
  },
  {
   "cell_type": "code",
   "execution_count": 11,
   "id": "66f9063f",
   "metadata": {},
   "outputs": [
    {
     "name": "stdout",
     "output_type": "stream",
     "text": [
      "(46826, 72, 14)\n",
      "(46826, 12)\n"
     ]
    }
   ],
   "source": [
    "train_X_normal = train_X[train_X_pm <= percentile_pm]\n",
    "print(train_X_normal.shape)\n",
    "\n",
    "train_y_normal = train_y[train_X_pm <= percentile_pm]\n",
    "print(train_y_normal.shape)"
   ]
  },
  {
   "cell_type": "markdown",
   "id": "d084558d",
   "metadata": {},
   "source": [
    "### val_X_filter"
   ]
  },
  {
   "cell_type": "code",
   "execution_count": 12,
   "id": "2c8d3e2a",
   "metadata": {},
   "outputs": [
    {
     "name": "stdout",
     "output_type": "stream",
     "text": [
      "(486, 72, 14)\n",
      "(486, 12)\n"
     ]
    }
   ],
   "source": [
    "val_X_extreme = val_X[val_X_pm > percentile_pm]\n",
    "print(val_X_extreme.shape)\n",
    "\n",
    "val_y_extreme = val_y[val_X_pm > percentile_pm]\n",
    "print(val_y_extreme.shape)"
   ]
  },
  {
   "cell_type": "code",
   "execution_count": 13,
   "id": "b1ae307f",
   "metadata": {},
   "outputs": [
    {
     "name": "stdout",
     "output_type": "stream",
     "text": [
      "(10021, 72, 14)\n",
      "(10021, 12)\n"
     ]
    }
   ],
   "source": [
    "val_X_normal = val_X[val_X_pm <= percentile_pm]\n",
    "print(val_X_normal.shape)\n",
    "\n",
    "val_y_normal = val_y[val_X_pm <= percentile_pm]\n",
    "print(val_y_normal.shape)"
   ]
  },
  {
   "cell_type": "markdown",
   "id": "d95737b8",
   "metadata": {},
   "source": [
    "### test_X_filter"
   ]
  },
  {
   "cell_type": "code",
   "execution_count": 14,
   "id": "ae808e74",
   "metadata": {},
   "outputs": [
    {
     "name": "stdout",
     "output_type": "stream",
     "text": [
      "(811, 72, 14)\n",
      "(811, 12)\n"
     ]
    }
   ],
   "source": [
    "test_X_extreme = test_X[test_X_pm > percentile_pm]\n",
    "print(test_X_extreme.shape)\n",
    "\n",
    "test_y_extreme = test_y[test_X_pm > percentile_pm]\n",
    "print(test_y_extreme.shape)"
   ]
  },
  {
   "cell_type": "code",
   "execution_count": 15,
   "id": "80ebaabe",
   "metadata": {},
   "outputs": [
    {
     "name": "stdout",
     "output_type": "stream",
     "text": [
      "(9696, 72, 14)\n",
      "(9696, 12)\n"
     ]
    }
   ],
   "source": [
    "test_X_normal = test_X[test_X_pm <= percentile_pm]\n",
    "print(test_X_normal.shape)\n",
    "\n",
    "test_y_normal = test_y[test_X_pm <= percentile_pm]\n",
    "print(test_y_normal.shape)"
   ]
  },
  {
   "cell_type": "markdown",
   "id": "8003a2dc",
   "metadata": {},
   "source": [
    "## Test model"
   ]
  },
  {
   "cell_type": "code",
   "execution_count": 16,
   "id": "c28f45b8",
   "metadata": {},
   "outputs": [],
   "source": [
    "# ws_threshold = 2.58\n",
    "time_index = 0"
   ]
  },
  {
   "cell_type": "markdown",
   "id": "da5beaa4",
   "metadata": {},
   "source": [
    "#### Extreme"
   ]
  },
  {
   "cell_type": "code",
   "execution_count": 23,
   "id": "65c21ac6",
   "metadata": {
    "scrolled": true
   },
   "outputs": [],
   "source": [
    "# saved_model = load_model('../saved_models_mlp/pressure_N.h5') \n",
    "# saved_model = load_model('../saved_models_mlp/pressure_E.h5') \n",
    "\n",
    "\n",
    "# saved_model = load_model('../saved_models_mlp/pressure_all.h5') \n",
    "# saved_model = load_model('../saved_models_mlp/pressure_all_95_ft.h5')\n",
    "\n",
    "\n",
    "# saved_model = load_model('../saved_models_mlp/pressure_all_weighted_IPF_95.h5')\n",
    "# saved_model = load_model('../saved_models_mlp/pressure_all_weighted_IPF_95_ft.h5')\n",
    "\n",
    "\n",
    "# saved_model = load_model('../saved_models_mlp/pressure_all_weighted_EVT_95.h5')\n",
    "# saved_model = load_model('../saved_models_mlp/pressure_all_weighted_EVT_95_ft.h5')\n",
    "\n",
    "\n",
    "saved_model = load_model('../saved_models_mlp/pressure_all_weighted_META_95.h5')\n",
    "# saved_model = load_model('../saved_models_mlp/pressure_all_weighted_META_95_ft.h5')\n",
    "\n",
    "\n",
    "yhat_extreme = saved_model.predict(test_X_extreme)\n",
    "\n",
    "inv_yhat_extreme = scaler.inverse_transform(yhat_extreme)\n",
    "inv_y_extreme = scaler.inverse_transform(test_y_extreme)\n",
    "test_errors_extreme = inv_yhat_extreme - inv_y_extreme\n",
    "\n",
    "# print('MAE = {}'.format(float(\"{:.6f}\".format(mae(inv_y_extreme, inv_yhat_extreme)))))\n",
    "# print('RMSE = {}'.format(float(\"{:.6f}\".format(np.sqrt(mse(inv_y_extreme, inv_yhat_extreme))))))"
   ]
  },
  {
   "cell_type": "code",
   "execution_count": 24,
   "id": "68947f41",
   "metadata": {},
   "outputs": [
    {
     "name": "stdout",
     "output_type": "stream",
     "text": [
      "Peformance when water level is over 3.27 ft \n",
      "\n",
      "------ MAE & RMSE ------\n",
      "MAE = 3.219878\n",
      "RMSE = 4.457376 \n",
      "\n",
      "------ Max Errors (t+1 at S1) ------\n",
      "Max Error of Over Estimation: 10.44469217936198\n",
      "Max Error of Under Estimation: -11.982028503417972\n",
      "Max Abs Error of Under Estimation: 11.982028503417972 \n",
      "\n",
      "------ Time # (t+1 at S1) ------\n",
      "Time# of Over Estimation: 400\n",
      "Time# of Under Estimation: 411 \n",
      "\n",
      "------ Area (t+1 at S1) ------\n",
      "Area of Over Estimation: 798.4090934054059\n",
      "Area of Under Estimation: -1081.5422036616008\n"
     ]
    }
   ],
   "source": [
    "metrics_s1_t1(inv_y_extreme.min(), time_index, inv_y_extreme, inv_yhat_extreme, test_errors_extreme)"
   ]
  },
  {
   "cell_type": "markdown",
   "id": "934cc45f",
   "metadata": {},
   "source": [
    "#### Normal & Extreme hen water level is over threshold 2.58 feet (95 percentile)"
   ]
  },
  {
   "cell_type": "code",
   "execution_count": 22,
   "id": "4301bd5b",
   "metadata": {
    "scrolled": true
   },
   "outputs": [
    {
     "name": "stdout",
     "output_type": "stream",
     "text": [
      "Peformance when water level is over 0.0 ft \n",
      "\n",
      "------ MAE & RMSE ------\n",
      "MAE = 2.281178\n",
      "RMSE = 3.400608 \n",
      "\n",
      "------ Max Errors (t+1 at S1) ------\n",
      "Max Error of Over Estimation: 14.390753784179687\n",
      "Max Error of Under Estimation: -14.263462613423663\n",
      "Max Abs Error of Under Estimation: 14.390753784179687 \n",
      "\n",
      "------ Time # (t+1 at S1) ------\n",
      "Time# of Over Estimation: 668\n",
      "Time# of Under Estimation: 9766 \n",
      "\n",
      "------ Area (t+1 at S1) ------\n",
      "Area of Over Estimation: 609.5597838433589\n",
      "Area of Under Estimation: -15401.501259616178\n"
     ]
    }
   ],
   "source": [
    "# saved_model = load_model('../saved_models_mlp/pressure_all.h5') \n",
    "# saved_model = load_model('../saved_models_mlp/pressure_all_95_ft.h5')\n",
    "\n",
    "\n",
    "# saved_model = load_model('../saved_models_mlp/pressure_all_weighted_IPF_95.h5')\n",
    "# saved_model = load_model('../saved_models_mlp/pressure_all_weighted_IPF_95_ft.h5')\n",
    "\n",
    "\n",
    "saved_model = load_model('../saved_models_mlp/pressure_all_weighted_EVT_95.h5')\n",
    "# saved_model = load_model('../saved_models_mlp/pressure_all_weighted_EVT_95_ft.h5')\n",
    "\n",
    "\n",
    "# saved_model = load_model('../saved_models_mlp/pressure_all_weighted_META_95.h5')\n",
    "# saved_model = load_model('../saved_models_mlp/pressure_all_weighted_META_95_ft.h5')\n",
    "\n",
    "\n",
    "yhat = saved_model.predict(test_X)\n",
    "\n",
    "\n",
    "inv_yhat = scaler.inverse_transform(yhat)\n",
    "inv_y = scaler.inverse_transform(test_y)\n",
    "test_errors = inv_yhat - inv_y\n",
    "\n",
    "metrics_s1_t1(inv_y.min(), time_index, inv_y, inv_yhat, test_errors)"
   ]
  },
  {
   "cell_type": "code",
   "execution_count": 20,
   "id": "feda6cae",
   "metadata": {},
   "outputs": [],
   "source": [
    "# metrics_s1_t1(inv_y.min(), time_index, inv_y, inv_yhat, test_errors)"
   ]
  },
  {
   "cell_type": "markdown",
   "id": "918dd541",
   "metadata": {},
   "source": [
    "#### hyperparameter - frozen layers"
   ]
  },
  {
   "cell_type": "code",
   "execution_count": 35,
   "id": "0fc91a42",
   "metadata": {
    "scrolled": true
   },
   "outputs": [
    {
     "name": "stdout",
     "output_type": "stream",
     "text": [
      "layer: 1\n",
      "MAE = 3.061688\n",
      "RMSE = 4.032437\n",
      "-------------------------\n",
      "layer: 5\n",
      "MAE = 2.668814\n",
      "RMSE = 3.78279\n",
      "-------------------------\n",
      "layer: 9\n",
      "MAE = 3.071883\n",
      "RMSE = 4.114493\n",
      "-------------------------\n",
      "layer: 13\n",
      "MAE = 3.134275\n",
      "RMSE = 4.205468\n",
      "-------------------------\n",
      "layer: 17\n",
      "MAE = 3.094477\n",
      "RMSE = 4.143517\n",
      "-------------------------\n"
     ]
    }
   ],
   "source": [
    "layers = [1, 5, 9, 13, 17]\n",
    "\n",
    "for layer in layers:\n",
    "    print('layer: {}'.format(layer))    \n",
    "    saved_model = load_model('../saved_models_hyper/pressure_all_weighted_META_ft_{}.h5'.format(layer))\n",
    "    yhat_extreme = saved_model.predict(test_X_extreme)\n",
    "\n",
    "    inv_yhat_extreme = scaler.inverse_transform(yhat_extreme)\n",
    "    inv_y_extreme = scaler.inverse_transform(test_y_extreme)\n",
    "    test_errors_extreme = inv_yhat_extreme - inv_y_extreme\n",
    "\n",
    "    print('MAE = {}'.format(float(\"{:.6f}\".format(mae(inv_y_extreme, inv_yhat_extreme)))))\n",
    "    print('RMSE = {}'.format(float(\"{:.6f}\".format(np.sqrt(mse(inv_y_extreme, inv_yhat_extreme))))))\n",
    "    print('-------------------------')"
   ]
  },
  {
   "cell_type": "markdown",
   "id": "25b22d1c",
   "metadata": {},
   "source": [
    "### p-values"
   ]
  },
  {
   "cell_type": "code",
   "execution_count": 19,
   "id": "97f711d0",
   "metadata": {},
   "outputs": [
    {
     "data": {
      "text/plain": [
       "(811, 12)"
      ]
     },
     "execution_count": 19,
     "metadata": {},
     "output_type": "execute_result"
    }
   ],
   "source": [
    "saved_model = load_model('../saved_models_mlp/pressure_all.h5') \n",
    "\n",
    "yhat_extreme = saved_model.predict(test_X_extreme)\n",
    "inv_yhat_extreme = scaler.inverse_transform(yhat_extreme)\n",
    "inv_y_extreme = scaler.inverse_transform(test_y_extreme)\n",
    "test_errors_extreme_ori = inv_yhat_extreme - inv_y_extreme\n",
    "test_errors_extreme_ori.shape"
   ]
  },
  {
   "cell_type": "code",
   "execution_count": 20,
   "id": "a4791b7f",
   "metadata": {},
   "outputs": [],
   "source": [
    "saved_model = load_model('../saved_models_mlp/pressure_all_weighted_META_95.h5')\n",
    "\n",
    "yhat_extreme = saved_model.predict(test_X_extreme)\n",
    "inv_yhat_extreme = scaler.inverse_transform(yhat_extreme)\n",
    "inv_y_extreme = scaler.inverse_transform(test_y_extreme)\n",
    "test_errors_extreme_re_meta = inv_yhat_extreme - inv_y_extreme"
   ]
  },
  {
   "cell_type": "code",
   "execution_count": 21,
   "id": "f492eec5",
   "metadata": {},
   "outputs": [
    {
     "name": "stdout",
     "output_type": "stream",
     "text": [
      "p_value_mann: 3.1163e-06\n",
      "p_value_wilcoxon: 7.5404e-47\n",
      "p_value_ttest: 3.8191e-51\n"
     ]
    }
   ],
   "source": [
    "t_index = -1\n",
    "\n",
    "# ========= Mann-Whitney U test =========\n",
    "stat_mann, p_value_mann = mannwhitneyu(test_errors_extreme_ori[:,t_index], test_errors_extreme_re_meta[:,t_index], alternative='two-sided')\n",
    "print(f\"p_value_mann: {p_value_mann:.4e}\")\n",
    "\n",
    "\n",
    "# ========= wilcoxon U test =========\n",
    "stat_wilcoxon, p_value_wilcoxon = wilcoxon(test_errors_extreme_ori[:, t_index], test_errors_extreme_re_meta[:, t_index])\n",
    "print(f\"p_value_wilcoxon: {p_value_wilcoxon:.4e}\")\n",
    "\n",
    "\n",
    "# ========= t-test =========\n",
    "t_statistic, p_value = ttest_rel(test_errors_extreme_ori[:,t_index], test_errors_extreme_re_meta[:,t_index])\n",
    "print(f\"p_value_ttest: {p_value:.4e}\")"
   ]
  },
  {
   "cell_type": "code",
   "execution_count": null,
   "id": "18d49367",
   "metadata": {},
   "outputs": [],
   "source": []
  }
 ],
 "metadata": {
  "kernelspec": {
   "display_name": "Python 3 (ipykernel)",
   "language": "python",
   "name": "python3"
  },
  "language_info": {
   "codemirror_mode": {
    "name": "ipython",
    "version": 3
   },
   "file_extension": ".py",
   "mimetype": "text/x-python",
   "name": "python",
   "nbconvert_exporter": "python",
   "pygments_lexer": "ipython3",
   "version": "3.8.16"
  }
 },
 "nbformat": 4,
 "nbformat_minor": 5
}
