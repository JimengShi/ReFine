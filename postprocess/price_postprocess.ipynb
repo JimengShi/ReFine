{
 "cells": [
  {
   "cell_type": "markdown",
   "id": "6189ef88",
   "metadata": {},
   "source": [
    "## Import packages"
   ]
  },
  {
   "cell_type": "code",
   "execution_count": 1,
   "id": "a01a1167",
   "metadata": {},
   "outputs": [],
   "source": [
    "import os\n",
    "import sys\n",
    "\n",
    "module_path = os.path.abspath(os.path.join('..'))\n",
    "\n",
    "if module_path not in sys.path:\n",
    "    sys.path.append(module_path)"
   ]
  },
  {
   "cell_type": "code",
   "execution_count": 2,
   "id": "3f47fa9d",
   "metadata": {},
   "outputs": [
    {
     "name": "stderr",
     "output_type": "stream",
     "text": [
      "2024-02-03 15:26:17.696251: I tensorflow/stream_executor/platform/default/dso_loader.cc:49] Successfully opened dynamic library libcudart.so.10.1\n"
     ]
    }
   ],
   "source": [
    "import pandas as pd\n",
    "import numpy as np\n",
    "import matplotlib.pyplot as plt\n",
    "from sklearn.preprocessing import MinMaxScaler\n",
    "from helper import series_to_supervised\n",
    "from tensorflow.keras.models import load_model\n",
    "from preprocess import water_postprocess\n",
    "from scipy.stats import mannwhitneyu, wilcoxon, ttest_rel\n",
    "from sklearn.metrics import mean_squared_error as mse\n",
    "from sklearn.metrics import mean_absolute_error as mae\n",
    "from performance import metrics_s1_t1"
   ]
  },
  {
   "cell_type": "code",
   "execution_count": 3,
   "id": "0092be29",
   "metadata": {},
   "outputs": [],
   "source": [
    "import os\n",
    "os.environ[\"CUDA_VISIBLE_DEVICES\"] = \"7\""
   ]
  },
  {
   "cell_type": "markdown",
   "id": "62b6b865",
   "metadata": {},
   "source": [
    "## Preprocess data"
   ]
  },
  {
   "cell_type": "code",
   "execution_count": 4,
   "id": "c1e14ca0",
   "metadata": {},
   "outputs": [
    {
     "data": {
      "text/html": [
       "<div>\n",
       "<style scoped>\n",
       "    .dataframe tbody tr th:only-of-type {\n",
       "        vertical-align: middle;\n",
       "    }\n",
       "\n",
       "    .dataframe tbody tr th {\n",
       "        vertical-align: top;\n",
       "    }\n",
       "\n",
       "    .dataframe thead th {\n",
       "        text-align: right;\n",
       "    }\n",
       "</style>\n",
       "<table border=\"1\" class=\"dataframe\">\n",
       "  <thead>\n",
       "    <tr style=\"text-align: right;\">\n",
       "      <th></th>\n",
       "      <th>price</th>\n",
       "      <th>price_dayahead</th>\n",
       "      <th>gen_coal</th>\n",
       "      <th>gen_gas</th>\n",
       "      <th>load_actual</th>\n",
       "      <th>gen_lig</th>\n",
       "      <th>gen_oil</th>\n",
       "      <th>gen_oth_renew</th>\n",
       "      <th>pressure_Barcelona</th>\n",
       "      <th>pressure_Bilbao</th>\n",
       "      <th>...</th>\n",
       "      <th>wind_deg_Bilbao</th>\n",
       "      <th>clouds_all_Bilbao</th>\n",
       "      <th>gen_hyd_river</th>\n",
       "      <th>wind_deg_Seville</th>\n",
       "      <th>wind_speed_Barcelona</th>\n",
       "      <th>wind_speed_Valencia</th>\n",
       "      <th>wind_speed_Bilbao</th>\n",
       "      <th>gen_wind</th>\n",
       "      <th>wind_speed_Madrid</th>\n",
       "      <th>gen_hyd_pump</th>\n",
       "    </tr>\n",
       "    <tr>\n",
       "      <th>time</th>\n",
       "      <th></th>\n",
       "      <th></th>\n",
       "      <th></th>\n",
       "      <th></th>\n",
       "      <th></th>\n",
       "      <th></th>\n",
       "      <th></th>\n",
       "      <th></th>\n",
       "      <th></th>\n",
       "      <th></th>\n",
       "      <th></th>\n",
       "      <th></th>\n",
       "      <th></th>\n",
       "      <th></th>\n",
       "      <th></th>\n",
       "      <th></th>\n",
       "      <th></th>\n",
       "      <th></th>\n",
       "      <th></th>\n",
       "      <th></th>\n",
       "      <th></th>\n",
       "    </tr>\n",
       "  </thead>\n",
       "  <tbody>\n",
       "    <tr>\n",
       "      <th>2015-01-01 00:00:00+00:00</th>\n",
       "      <td>64.92</td>\n",
       "      <td>48.10</td>\n",
       "      <td>4755.0</td>\n",
       "      <td>5196.0</td>\n",
       "      <td>24382.0</td>\n",
       "      <td>328.0</td>\n",
       "      <td>158.0</td>\n",
       "      <td>71.0</td>\n",
       "      <td>1035.0</td>\n",
       "      <td>1035.0</td>\n",
       "      <td>...</td>\n",
       "      <td>229.0</td>\n",
       "      <td>0.0</td>\n",
       "      <td>1009.0</td>\n",
       "      <td>21.0</td>\n",
       "      <td>7.0</td>\n",
       "      <td>1.0</td>\n",
       "      <td>0.0</td>\n",
       "      <td>5890.0</td>\n",
       "      <td>1.0</td>\n",
       "      <td>920.0</td>\n",
       "    </tr>\n",
       "    <tr>\n",
       "      <th>2015-01-01 01:00:00+00:00</th>\n",
       "      <td>64.48</td>\n",
       "      <td>47.33</td>\n",
       "      <td>4581.0</td>\n",
       "      <td>4857.0</td>\n",
       "      <td>22734.0</td>\n",
       "      <td>323.0</td>\n",
       "      <td>157.0</td>\n",
       "      <td>73.0</td>\n",
       "      <td>1036.0</td>\n",
       "      <td>1036.0</td>\n",
       "      <td>...</td>\n",
       "      <td>224.0</td>\n",
       "      <td>0.0</td>\n",
       "      <td>973.0</td>\n",
       "      <td>27.0</td>\n",
       "      <td>7.0</td>\n",
       "      <td>0.0</td>\n",
       "      <td>1.0</td>\n",
       "      <td>5461.0</td>\n",
       "      <td>1.0</td>\n",
       "      <td>1164.0</td>\n",
       "    </tr>\n",
       "    <tr>\n",
       "      <th>2015-01-01 02:00:00+00:00</th>\n",
       "      <td>59.32</td>\n",
       "      <td>42.27</td>\n",
       "      <td>4131.0</td>\n",
       "      <td>4314.0</td>\n",
       "      <td>21286.0</td>\n",
       "      <td>254.0</td>\n",
       "      <td>160.0</td>\n",
       "      <td>75.0</td>\n",
       "      <td>1036.0</td>\n",
       "      <td>1035.0</td>\n",
       "      <td>...</td>\n",
       "      <td>225.0</td>\n",
       "      <td>0.0</td>\n",
       "      <td>949.0</td>\n",
       "      <td>27.0</td>\n",
       "      <td>7.0</td>\n",
       "      <td>0.0</td>\n",
       "      <td>1.0</td>\n",
       "      <td>5238.0</td>\n",
       "      <td>1.0</td>\n",
       "      <td>1503.0</td>\n",
       "    </tr>\n",
       "    <tr>\n",
       "      <th>2015-01-01 03:00:00+00:00</th>\n",
       "      <td>56.04</td>\n",
       "      <td>38.41</td>\n",
       "      <td>3840.0</td>\n",
       "      <td>4130.0</td>\n",
       "      <td>20264.0</td>\n",
       "      <td>187.0</td>\n",
       "      <td>156.0</td>\n",
       "      <td>74.0</td>\n",
       "      <td>1036.0</td>\n",
       "      <td>1035.0</td>\n",
       "      <td>...</td>\n",
       "      <td>221.0</td>\n",
       "      <td>0.0</td>\n",
       "      <td>953.0</td>\n",
       "      <td>27.0</td>\n",
       "      <td>7.0</td>\n",
       "      <td>0.0</td>\n",
       "      <td>1.0</td>\n",
       "      <td>4935.0</td>\n",
       "      <td>1.0</td>\n",
       "      <td>1826.0</td>\n",
       "    </tr>\n",
       "    <tr>\n",
       "      <th>2015-01-01 04:00:00+00:00</th>\n",
       "      <td>53.63</td>\n",
       "      <td>35.72</td>\n",
       "      <td>3590.0</td>\n",
       "      <td>4038.0</td>\n",
       "      <td>19905.0</td>\n",
       "      <td>178.0</td>\n",
       "      <td>156.0</td>\n",
       "      <td>74.0</td>\n",
       "      <td>1037.0</td>\n",
       "      <td>1035.0</td>\n",
       "      <td>...</td>\n",
       "      <td>224.0</td>\n",
       "      <td>0.0</td>\n",
       "      <td>952.0</td>\n",
       "      <td>57.0</td>\n",
       "      <td>5.0</td>\n",
       "      <td>2.0</td>\n",
       "      <td>1.0</td>\n",
       "      <td>4618.0</td>\n",
       "      <td>0.0</td>\n",
       "      <td>2109.0</td>\n",
       "    </tr>\n",
       "  </tbody>\n",
       "</table>\n",
       "<p>5 rows × 26 columns</p>\n",
       "</div>"
      ],
      "text/plain": [
       "                           price  price_dayahead  gen_coal  gen_gas  \\\n",
       "time                                                                  \n",
       "2015-01-01 00:00:00+00:00  64.92           48.10    4755.0   5196.0   \n",
       "2015-01-01 01:00:00+00:00  64.48           47.33    4581.0   4857.0   \n",
       "2015-01-01 02:00:00+00:00  59.32           42.27    4131.0   4314.0   \n",
       "2015-01-01 03:00:00+00:00  56.04           38.41    3840.0   4130.0   \n",
       "2015-01-01 04:00:00+00:00  53.63           35.72    3590.0   4038.0   \n",
       "\n",
       "                           load_actual  gen_lig  gen_oil  gen_oth_renew  \\\n",
       "time                                                                      \n",
       "2015-01-01 00:00:00+00:00      24382.0    328.0    158.0           71.0   \n",
       "2015-01-01 01:00:00+00:00      22734.0    323.0    157.0           73.0   \n",
       "2015-01-01 02:00:00+00:00      21286.0    254.0    160.0           75.0   \n",
       "2015-01-01 03:00:00+00:00      20264.0    187.0    156.0           74.0   \n",
       "2015-01-01 04:00:00+00:00      19905.0    178.0    156.0           74.0   \n",
       "\n",
       "                           pressure_Barcelona  pressure_Bilbao  ...  \\\n",
       "time                                                            ...   \n",
       "2015-01-01 00:00:00+00:00              1035.0           1035.0  ...   \n",
       "2015-01-01 01:00:00+00:00              1036.0           1036.0  ...   \n",
       "2015-01-01 02:00:00+00:00              1036.0           1035.0  ...   \n",
       "2015-01-01 03:00:00+00:00              1036.0           1035.0  ...   \n",
       "2015-01-01 04:00:00+00:00              1037.0           1035.0  ...   \n",
       "\n",
       "                           wind_deg_Bilbao  clouds_all_Bilbao  gen_hyd_river  \\\n",
       "time                                                                           \n",
       "2015-01-01 00:00:00+00:00            229.0                0.0         1009.0   \n",
       "2015-01-01 01:00:00+00:00            224.0                0.0          973.0   \n",
       "2015-01-01 02:00:00+00:00            225.0                0.0          949.0   \n",
       "2015-01-01 03:00:00+00:00            221.0                0.0          953.0   \n",
       "2015-01-01 04:00:00+00:00            224.0                0.0          952.0   \n",
       "\n",
       "                           wind_deg_Seville  wind_speed_Barcelona  \\\n",
       "time                                                                \n",
       "2015-01-01 00:00:00+00:00              21.0                   7.0   \n",
       "2015-01-01 01:00:00+00:00              27.0                   7.0   \n",
       "2015-01-01 02:00:00+00:00              27.0                   7.0   \n",
       "2015-01-01 03:00:00+00:00              27.0                   7.0   \n",
       "2015-01-01 04:00:00+00:00              57.0                   5.0   \n",
       "\n",
       "                           wind_speed_Valencia  wind_speed_Bilbao  gen_wind  \\\n",
       "time                                                                          \n",
       "2015-01-01 00:00:00+00:00                  1.0                0.0    5890.0   \n",
       "2015-01-01 01:00:00+00:00                  0.0                1.0    5461.0   \n",
       "2015-01-01 02:00:00+00:00                  0.0                1.0    5238.0   \n",
       "2015-01-01 03:00:00+00:00                  0.0                1.0    4935.0   \n",
       "2015-01-01 04:00:00+00:00                  2.0                1.0    4618.0   \n",
       "\n",
       "                           wind_speed_Madrid  gen_hyd_pump  \n",
       "time                                                        \n",
       "2015-01-01 00:00:00+00:00                1.0         920.0  \n",
       "2015-01-01 01:00:00+00:00                1.0        1164.0  \n",
       "2015-01-01 02:00:00+00:00                1.0        1503.0  \n",
       "2015-01-01 03:00:00+00:00                1.0        1826.0  \n",
       "2015-01-01 04:00:00+00:00                0.0        2109.0  \n",
       "\n",
       "[5 rows x 26 columns]"
      ]
     },
     "execution_count": 4,
     "metadata": {},
     "output_type": "execute_result"
    }
   ],
   "source": [
    "dataset = pd.read_csv('../data/energy_weather.csv', index_col=0)\n",
    "# https://www.kaggle.com/datasets/nicholasjhana/energy-consumption-generation-prices-and-weather\n",
    "\n",
    "dataset.fillna(0, inplace=True)\n",
    "data = dataset\n",
    "data.head()"
   ]
  },
  {
   "cell_type": "code",
   "execution_count": 5,
   "id": "b444521c",
   "metadata": {},
   "outputs": [
    {
     "name": "stdout",
     "output_type": "stream",
     "text": [
      "reframed.shape: (34980, 2184)\n"
     ]
    }
   ],
   "source": [
    "values = data.values\n",
    "\n",
    "# specify the number of lag hours\n",
    "n_hours = 24*3\n",
    "n_features = data.shape[-1]\n",
    "k = 12\n",
    "split1 = 0.7\n",
    "split2 = 0.85\n",
    "\n",
    "# frame as supervised learning\n",
    "reframed = series_to_supervised(values, n_hours, k)\n",
    "print(\"reframed.shape:\", reframed.shape)"
   ]
  },
  {
   "cell_type": "code",
   "execution_count": 6,
   "id": "85e89a86",
   "metadata": {},
   "outputs": [
    {
     "name": "stdout",
     "output_type": "stream",
     "text": [
      "train_X.shape, train_y.shape, val_X.shape, val_y.shape, test_X.shape, test_y.shape (24486, 1872) (24486, 12) (5247, 1872) (5247, 12) (5247, 1872) (5247, 12)\n"
     ]
    }
   ],
   "source": [
    "# split into train and test sets\n",
    "reframed_values = reframed.values\n",
    "n_train_hours = int(len(reframed_values)*split1)\n",
    "n_valid_hours = int(len(reframed_values)*split2)\n",
    "\n",
    "train = reframed_values[:n_train_hours, :]\n",
    "val = reframed_values[n_train_hours:n_valid_hours, :]\n",
    "test = reframed_values[n_valid_hours:, :]\n",
    "\n",
    "\n",
    "# split into input and outputs\n",
    "n_obs = n_hours * n_features\n",
    "feature_idx = 0\n",
    "train_X, train_y = train[:, :n_obs], train[:, [n_obs + feature_idx + n_features * i for i in range(k)]]\n",
    "val_X, val_y = val[:, :n_obs], val[:, [n_obs + feature_idx + n_features * i for i in range(k)]]\n",
    "test_X, test_y = test[:, :n_obs], test[:, [n_obs + feature_idx + n_features * i for i in range(k)]]\n",
    "\n",
    "\n",
    "print(\"train_X.shape, train_y.shape, val_X.shape, val_y.shape, test_X.shape, test_y.shape\", \n",
    "      train_X.shape, train_y.shape, val_X.shape, val_y.shape, test_X.shape, test_y.shape\n",
    "     )"
   ]
  },
  {
   "cell_type": "code",
   "execution_count": 7,
   "id": "5e22c696",
   "metadata": {},
   "outputs": [
    {
     "name": "stdout",
     "output_type": "stream",
     "text": [
      "train_X.shape, train_y.shape, val_X.shape, val_y.shape, test_X.shape, test_y.shape (24486, 72, 26) (24486, 12) (5247, 72, 26) (5247, 12) (5247, 72, 26) (5247, 12)\n"
     ]
    }
   ],
   "source": [
    "# normalize features\n",
    "scaler = MinMaxScaler(feature_range=(0, 1))\n",
    "\n",
    "train_X = scaler.fit_transform(train_X)\n",
    "train_y = scaler.fit_transform(train_y)\n",
    "\n",
    "val_X = scaler.fit_transform(val_X)\n",
    "val_y = scaler.fit_transform(val_y)\n",
    "\n",
    "test_X = scaler.fit_transform(test_X)\n",
    "test_y = scaler.fit_transform(test_y)\n",
    "\n",
    "# reshape input to be 3D [samples, timesteps, features]\n",
    "train_X = train_X.reshape((train_X.shape[0], n_hours, n_features))\n",
    "val_X = val_X.reshape((val_X.shape[0], n_hours, n_features))\n",
    "test_X = test_X.reshape((test_X.shape[0], n_hours, n_features))\n",
    "\n",
    "print(\"train_X.shape, train_y.shape, val_X.shape, val_y.shape, test_X.shape, test_y.shape\", \n",
    "      train_X.shape, train_y.shape, val_X.shape, val_y.shape, test_X.shape, test_y.shape\n",
    "     )"
   ]
  },
  {
   "cell_type": "markdown",
   "id": "dcf99ebe",
   "metadata": {},
   "source": [
    "### Price threshold"
   ]
  },
  {
   "cell_type": "code",
   "execution_count": 8,
   "id": "13b57480",
   "metadata": {},
   "outputs": [
    {
     "name": "stdout",
     "output_type": "stream",
     "text": [
      "(24486,)\n",
      "(5247,)\n",
      "(5247,)\n"
     ]
    }
   ],
   "source": [
    "train_X_pm = train_X[:, 0, feature_idx]\n",
    "print(train_X_pm.shape)\n",
    "\n",
    "val_X_pm = val_X[:, 0, feature_idx]\n",
    "print(val_X_pm.shape)\n",
    "\n",
    "test_X_pm = test_X[:, 0, feature_idx]\n",
    "print(test_X_pm.shape)"
   ]
  },
  {
   "cell_type": "code",
   "execution_count": 9,
   "id": "a7a33ce9",
   "metadata": {},
   "outputs": [
    {
     "name": "stdout",
     "output_type": "stream",
     "text": [
      "95th Percentile of Daily Rain: 0.7037105569454176\n"
     ]
    }
   ],
   "source": [
    "percentile = 95\n",
    "\n",
    "merged_array = np.concatenate((train_X_pm, val_X_pm, test_X_pm))\n",
    "\n",
    "percentile_pm = np.percentile(merged_array, percentile)\n",
    "\n",
    "print(\"{}th Percentile of Daily Rain:\".format(percentile), percentile_pm)"
   ]
  },
  {
   "cell_type": "markdown",
   "id": "a0f01f1f",
   "metadata": {},
   "source": [
    "### train_X_filter"
   ]
  },
  {
   "cell_type": "code",
   "execution_count": 10,
   "id": "77eb0645",
   "metadata": {},
   "outputs": [
    {
     "name": "stdout",
     "output_type": "stream",
     "text": [
      "(696, 72, 26)\n",
      "(696, 12)\n"
     ]
    }
   ],
   "source": [
    "train_X_extreme = train_X[train_X_pm > percentile_pm]\n",
    "print(train_X_extreme.shape)\n",
    "\n",
    "train_y_extreme = train_y[train_X_pm > percentile_pm]\n",
    "print(train_y_extreme.shape)"
   ]
  },
  {
   "cell_type": "code",
   "execution_count": 11,
   "id": "66f9063f",
   "metadata": {},
   "outputs": [
    {
     "name": "stdout",
     "output_type": "stream",
     "text": [
      "(23790, 72, 26)\n",
      "(23790, 12)\n"
     ]
    }
   ],
   "source": [
    "train_X_normal = train_X[train_X_pm <= percentile_pm]\n",
    "print(train_X_normal.shape)\n",
    "\n",
    "train_y_normal = train_y[train_X_pm <= percentile_pm]\n",
    "print(train_y_normal.shape)"
   ]
  },
  {
   "cell_type": "markdown",
   "id": "894efabb",
   "metadata": {},
   "source": [
    "### val_X_filter"
   ]
  },
  {
   "cell_type": "code",
   "execution_count": 12,
   "id": "a6b9eb38",
   "metadata": {},
   "outputs": [
    {
     "name": "stdout",
     "output_type": "stream",
     "text": [
      "(55, 72, 26)\n",
      "(55, 12)\n"
     ]
    }
   ],
   "source": [
    "val_X_extreme = val_X[val_X_pm > percentile_pm]\n",
    "print(val_X_extreme.shape)\n",
    "\n",
    "val_y_extreme = val_y[val_X_pm > percentile_pm]\n",
    "print(val_y_extreme.shape)"
   ]
  },
  {
   "cell_type": "code",
   "execution_count": 13,
   "id": "6264779f",
   "metadata": {},
   "outputs": [
    {
     "name": "stdout",
     "output_type": "stream",
     "text": [
      "(5192, 72, 26)\n",
      "(5192, 12)\n"
     ]
    }
   ],
   "source": [
    "val_X_normal = val_X[val_X_pm <= percentile_pm]\n",
    "print(val_X_normal.shape)\n",
    "\n",
    "val_y_normal = val_y[val_X_pm <= percentile_pm]\n",
    "print(val_y_normal.shape)"
   ]
  },
  {
   "cell_type": "markdown",
   "id": "d95737b8",
   "metadata": {},
   "source": [
    "### test_X_filter"
   ]
  },
  {
   "cell_type": "code",
   "execution_count": 14,
   "id": "ae808e74",
   "metadata": {},
   "outputs": [
    {
     "name": "stdout",
     "output_type": "stream",
     "text": [
      "(998, 72, 26)\n",
      "(998, 12)\n"
     ]
    }
   ],
   "source": [
    "test_X_extreme = test_X[test_X_pm > percentile_pm]\n",
    "print(test_X_extreme.shape)\n",
    "\n",
    "test_y_extreme = test_y[test_X_pm > percentile_pm]\n",
    "print(test_y_extreme.shape)"
   ]
  },
  {
   "cell_type": "code",
   "execution_count": 15,
   "id": "80ebaabe",
   "metadata": {},
   "outputs": [
    {
     "name": "stdout",
     "output_type": "stream",
     "text": [
      "(4249, 72, 26)\n",
      "(4249, 12)\n"
     ]
    }
   ],
   "source": [
    "test_X_normal = test_X[test_X_pm <= percentile_pm]\n",
    "print(test_X_normal.shape)\n",
    "\n",
    "test_y_normal = test_y[test_X_pm <= percentile_pm]\n",
    "print(test_y_normal.shape)"
   ]
  },
  {
   "cell_type": "markdown",
   "id": "8003a2dc",
   "metadata": {},
   "source": [
    "## Test model"
   ]
  },
  {
   "cell_type": "code",
   "execution_count": 16,
   "id": "c28f45b8",
   "metadata": {},
   "outputs": [],
   "source": [
    "# ws_threshold = 2.58\n",
    "time_index = 0"
   ]
  },
  {
   "cell_type": "markdown",
   "id": "da5beaa4",
   "metadata": {},
   "source": [
    "#### Extreme"
   ]
  },
  {
   "cell_type": "code",
   "execution_count": 25,
   "id": "65c21ac6",
   "metadata": {
    "scrolled": true
   },
   "outputs": [],
   "source": [
    "# saved_model = load_model('../saved_models_mlp/price_N.h5') \n",
    "# saved_model = load_model('../saved_models_mlp/price_E.h5') \n",
    "\n",
    "\n",
    "# saved_model = load_model('../saved_models_mlp/price_all.h5') \n",
    "# saved_model = load_model('../saved_models_mlp/price_all_95_ft.h5')\n",
    "\n",
    "\n",
    "# saved_model = load_model('../saved_models_mlp/price_all_weighted_IPF_95.h5')\n",
    "# saved_model = load_model('../saved_models_mlp/price_all_weighted_IPF_95_ft.h5')\n",
    "\n",
    "\n",
    "# saved_model = load_model('../saved_models_mlp/price_all_weighted_EVT_95.h5')\n",
    "# saved_model = load_model('../saved_models_mlp/price_all_weighted_EVT_95_ft.h5')\n",
    "\n",
    "\n",
    "saved_model = load_model('../saved_models_mlp/price_all_weighted_META_95.h5')\n",
    "# saved_model = load_model('../saved_models_mlp/price_all_weighted_META_95_ft.h5')\n",
    "\n",
    "\n",
    "yhat_extreme = saved_model.predict(test_X_extreme)\n",
    "inv_yhat_extreme = scaler.inverse_transform(yhat_extreme)\n",
    "inv_y_extreme = scaler.inverse_transform(test_y_extreme)\n",
    "test_errors_extreme = inv_yhat_extreme - inv_y_extreme\n",
    "\n",
    "# print('MAE = {}'.format(float(\"{:.6f}\".format(mae(inv_y_extreme, inv_yhat_extreme)))))\n",
    "# print('RMSE = {}'.format(float(\"{:.6f}\".format(np.sqrt(mse(inv_y_extreme, inv_yhat_extreme))))))"
   ]
  },
  {
   "cell_type": "code",
   "execution_count": 26,
   "id": "0c6bbc91",
   "metadata": {},
   "outputs": [
    {
     "name": "stdout",
     "output_type": "stream",
     "text": [
      "Peformance when water level is over 37.76 ft \n",
      "\n",
      "------ MAE & RMSE ------\n",
      "MAE = 4.412101\n",
      "RMSE = 5.816636 \n",
      "\n",
      "------ Max Errors (t+1 at S1) ------\n",
      "Max Error of Over Estimation: 14.609786682128906\n",
      "Max Error of Under Estimation: -10.526218872070316\n",
      "Max Abs Error of Under Estimation: 14.609786682128906 \n",
      "\n",
      "------ Time # (t+1 at S1) ------\n",
      "Time# of Over Estimation: 582\n",
      "Time# of Under Estimation: 416 \n",
      "\n",
      "------ Area (t+1 at S1) ------\n",
      "Area of Over Estimation: 2106.7555892944347\n",
      "Area of Under Estimation: -1025.0178630065923\n"
     ]
    }
   ],
   "source": [
    "metrics_s1_t1(inv_y_extreme.min(), time_index, inv_y_extreme, inv_yhat_extreme, test_errors_extreme)"
   ]
  },
  {
   "cell_type": "code",
   "execution_count": 36,
   "id": "657b3634",
   "metadata": {},
   "outputs": [],
   "source": [
    "# metrics_s1_t1(inv_y_extreme.min(), time_index, inv_y_extreme, inv_yhat_extreme, test_errors_extreme)"
   ]
  },
  {
   "cell_type": "markdown",
   "id": "934cc45f",
   "metadata": {},
   "source": [
    "#### Normal & Extreme hen water level is over threshold 2.58 feet (95 percentile)"
   ]
  },
  {
   "cell_type": "code",
   "execution_count": 25,
   "id": "4301bd5b",
   "metadata": {},
   "outputs": [
    {
     "name": "stdout",
     "output_type": "stream",
     "text": [
      "Peformance when water level is over 37.76 ft \n",
      "\n",
      "------ MAE & RMSE ------\n",
      "MAE = 3.488987\n",
      "RMSE = 4.53643 \n",
      "\n",
      "------ Max Errors (t+1 at S1) ------\n",
      "Max Error of Over Estimation: 14.690802917480468\n",
      "Max Error of Under Estimation: -13.1334831237793\n",
      "Max Abs Error of Under Estimation: 14.690802917480468 \n",
      "\n",
      "------ Time # (t+1 at S1) ------\n",
      "Time# of Over Estimation: 3199\n",
      "Time# of Under Estimation: 2047 \n",
      "\n",
      "------ Area (t+1 at S1) ------\n",
      "Area of Over Estimation: 8244.625369720463\n",
      "Area of Under Estimation: -4237.75571945191\n"
     ]
    }
   ],
   "source": [
    "# saved_model = load_model('../saved_models_mlp/price_all.h5') \n",
    "# saved_model = load_model('../saved_models_mlp/price_all_95_ft.h5')\n",
    "\n",
    "\n",
    "# saved_model = load_model('../saved_models_mlp/price_all_weighted_IPF_95.h5')\n",
    "# saved_model = load_model('../saved_models_mlp/price_all_weighted_IPF_95_ft.h5')\n",
    "\n",
    "\n",
    "saved_model = load_model('../saved_models_mlp/price_all_weighted_EVT_95.h5')\n",
    "# saved_model = load_model('../saved_models_mlp/price_all_weighted_EVT_95_ft.h5',)\n",
    "\n",
    "\n",
    "# saved_model = load_model('../saved_models_mlp/price_all_weighted_META_95.h5')\n",
    "# saved_model = load_model('../saved_models_mlp/price_all_weighted_META_95_ft.h5',)\n",
    "\n",
    "\n",
    "yhat = saved_model.predict(test_X)\n",
    "\n",
    "\n",
    "inv_yhat = scaler.inverse_transform(yhat)\n",
    "inv_y = scaler.inverse_transform(test_y)\n",
    "test_errors = inv_yhat - inv_y\n",
    "\n",
    "metrics_s1_t1(inv_y.min(), time_index, inv_y, inv_yhat, test_errors)"
   ]
  },
  {
   "cell_type": "code",
   "execution_count": 246,
   "id": "21ae4b5c",
   "metadata": {
    "scrolled": true
   },
   "outputs": [],
   "source": [
    "# metrics_s1_t1(ws_threshold, time_index, inv_y, inv_yhat, test_errors)"
   ]
  },
  {
   "cell_type": "markdown",
   "id": "32b986c7",
   "metadata": {},
   "source": [
    "#### hyperparameter - frozen layers"
   ]
  },
  {
   "cell_type": "code",
   "execution_count": 27,
   "id": "49668bbd",
   "metadata": {},
   "outputs": [
    {
     "name": "stdout",
     "output_type": "stream",
     "text": [
      "layer: 1\n",
      "MAE = 3.611298\n",
      "RMSE = 4.682596\n",
      "-------------------------\n",
      "layer: 5\n",
      "MAE = 3.589507\n",
      "RMSE = 4.729908\n",
      "-------------------------\n",
      "layer: 9\n",
      "MAE = 3.531611\n",
      "RMSE = 4.62896\n",
      "-------------------------\n",
      "layer: 13\n",
      "MAE = 3.542176\n",
      "RMSE = 4.636445\n",
      "-------------------------\n",
      "layer: 17\n",
      "MAE = 3.55321\n",
      "RMSE = 4.662319\n",
      "-------------------------\n"
     ]
    }
   ],
   "source": [
    "layers = [1, 5, 9, 13, 17]\n",
    "\n",
    "for layer in layers:\n",
    "    print('layer: {}'.format(layer))    \n",
    "    saved_model = load_model('../saved_models_hyper/price_all_weighted_META_ft_{}.h5'.format(layer))\n",
    "    yhat_extreme = saved_model.predict(test_X_extreme)\n",
    "\n",
    "    inv_yhat_extreme = scaler.inverse_transform(yhat_extreme)\n",
    "    inv_y_extreme = scaler.inverse_transform(test_y_extreme)\n",
    "    test_errors_extreme = inv_yhat_extreme - inv_y_extreme\n",
    "\n",
    "    print('MAE = {}'.format(float(\"{:.6f}\".format(mae(inv_y_extreme, inv_yhat_extreme)))))\n",
    "    print('RMSE = {}'.format(float(\"{:.6f}\".format(np.sqrt(mse(inv_y_extreme, inv_yhat_extreme))))))\n",
    "    print('-------------------------')"
   ]
  },
  {
   "cell_type": "markdown",
   "id": "205f79c5",
   "metadata": {},
   "source": [
    "### p-values"
   ]
  },
  {
   "cell_type": "code",
   "execution_count": 19,
   "id": "688b05b0",
   "metadata": {
    "scrolled": true
   },
   "outputs": [
    {
     "name": "stderr",
     "output_type": "stream",
     "text": [
      "2024-01-31 14:21:06.270627: I tensorflow/compiler/mlir/mlir_graph_optimization_pass.cc:116] None of the MLIR optimization passes are enabled (registered 2)\n",
      "2024-01-31 14:21:06.271559: I tensorflow/core/platform/profile_utils/cpu_utils.cc:112] CPU Frequency: 1700105000 Hz\n",
      "2024-01-31 14:21:06.800240: I tensorflow/stream_executor/platform/default/dso_loader.cc:49] Successfully opened dynamic library libcublas.so.10\n"
     ]
    },
    {
     "data": {
      "text/plain": [
       "(998, 12)"
      ]
     },
     "execution_count": 19,
     "metadata": {},
     "output_type": "execute_result"
    }
   ],
   "source": [
    "saved_model = load_model('../saved_models_mlp/price_all.h5') \n",
    "\n",
    "yhat_extreme = saved_model.predict(test_X_extreme)\n",
    "inv_yhat_extreme = scaler.inverse_transform(yhat_extreme)\n",
    "inv_y_extreme = scaler.inverse_transform(test_y_extreme)\n",
    "test_errors_extreme_ori = inv_yhat_extreme - inv_y_extreme\n",
    "test_errors_extreme_ori.shape"
   ]
  },
  {
   "cell_type": "code",
   "execution_count": 20,
   "id": "6c687782",
   "metadata": {},
   "outputs": [],
   "source": [
    "saved_model = load_model('../saved_models_mlp/price_all_weighted_META_95.h5')\n",
    "\n",
    "yhat_extreme = saved_model.predict(test_X_extreme)\n",
    "inv_yhat_extreme = scaler.inverse_transform(yhat_extreme)\n",
    "inv_y_extreme = scaler.inverse_transform(test_y_extreme)\n",
    "test_errors_extreme_re_meta = inv_yhat_extreme - inv_y_extreme"
   ]
  },
  {
   "cell_type": "code",
   "execution_count": 39,
   "id": "6d850aa0",
   "metadata": {},
   "outputs": [
    {
     "name": "stdout",
     "output_type": "stream",
     "text": [
      "p_value_mann: 8.2778e-02\n",
      "p_value_wilcoxon: 7.3846e-06\n",
      "p_value_ttest: 8.5589e-04\n"
     ]
    }
   ],
   "source": [
    "t_index = 7\n",
    "\n",
    "# ========= Mann-Whitney U test =========\n",
    "stat_mann, p_value_mann = mannwhitneyu(test_errors_extreme_ori[:,t_index], test_errors_extreme_re_meta[:,t_index], alternative='two-sided')\n",
    "print(f\"p_value_mann: {p_value_mann:.4e}\")\n",
    "\n",
    "\n",
    "# ========= wilcoxon U test =========\n",
    "stat_wilcoxon, p_value_wilcoxon = wilcoxon(test_errors_extreme_ori[:, t_index], test_errors_extreme_re_meta[:, t_index])\n",
    "print(f\"p_value_wilcoxon: {p_value_wilcoxon:.4e}\")\n",
    "\n",
    "\n",
    "# ========= t-test =========\n",
    "t_statistic, p_value = ttest_rel(test_errors_extreme_ori[:,t_index], test_errors_extreme_re_meta[:,t_index])\n",
    "print(f\"p_value_ttest: {p_value:.4e}\")"
   ]
  },
  {
   "cell_type": "code",
   "execution_count": null,
   "id": "d263b8b5",
   "metadata": {},
   "outputs": [],
   "source": []
  },
  {
   "cell_type": "code",
   "execution_count": null,
   "id": "be79e75a",
   "metadata": {},
   "outputs": [],
   "source": []
  }
 ],
 "metadata": {
  "kernelspec": {
   "display_name": "Python 3 (ipykernel)",
   "language": "python",
   "name": "python3"
  },
  "language_info": {
   "codemirror_mode": {
    "name": "ipython",
    "version": 3
   },
   "file_extension": ".py",
   "mimetype": "text/x-python",
   "name": "python",
   "nbconvert_exporter": "python",
   "pygments_lexer": "ipython3",
   "version": "3.8.16"
  }
 },
 "nbformat": 4,
 "nbformat_minor": 5
}
