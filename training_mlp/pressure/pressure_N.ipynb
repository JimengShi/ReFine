{
 "cells": [
  {
   "cell_type": "code",
   "execution_count": 1,
   "id": "25441506",
   "metadata": {},
   "outputs": [
    {
     "name": "stderr",
     "output_type": "stream",
     "text": [
      "2024-02-02 15:09:48.684707: I tensorflow/stream_executor/platform/default/dso_loader.cc:49] Successfully opened dynamic library libcudart.so.10.1\n"
     ]
    }
   ],
   "source": [
    "import os\n",
    "import sys\n",
    "\n",
    "module_path = os.path.abspath(os.path.join('../..'))\n",
    "\n",
    "if module_path not in sys.path:\n",
    "    sys.path.append(module_path)\n",
    "\n",
    "\n",
    "import pandas as pd\n",
    "import numpy as np\n",
    "import matplotlib.pyplot as plt\n",
    "\n",
    "\n",
    "from math import sqrt\n",
    "from tensorflow import keras\n",
    "from sklearn.preprocessing import MinMaxScaler\n",
    "from sklearn.metrics import mean_squared_error as mse\n",
    "from sklearn.metrics import mean_absolute_error as mae\n",
    "from tensorflow.keras.models import load_model\n",
    "from tensorflow.keras.layers import *\n",
    "from tensorflow.keras.models import *\n",
    "from tensorflow.keras.optimizers import *\n",
    "from tensorflow.keras.callbacks import *\n",
    "\n",
    "from helper import series_to_supervised\n",
    "from model.mlp import mlp_layer"
   ]
  },
  {
   "cell_type": "code",
   "execution_count": 2,
   "id": "d2af1f22",
   "metadata": {},
   "outputs": [],
   "source": [
    "import os\n",
    "os.environ[\"CUDA_VISIBLE_DEVICES\"] = \"0\""
   ]
  },
  {
   "cell_type": "code",
   "execution_count": 3,
   "id": "5eefef09",
   "metadata": {},
   "outputs": [
    {
     "name": "stdout",
     "output_type": "stream",
     "text": [
      "0.5714025946899135\n"
     ]
    }
   ],
   "source": [
    "import random\n",
    "\n",
    "random.seed(10)\n",
    "print(random.random())"
   ]
  },
  {
   "cell_type": "code",
   "execution_count": 4,
   "id": "537a30dd",
   "metadata": {},
   "outputs": [
    {
     "data": {
      "text/html": [
       "<div>\n",
       "<style scoped>\n",
       "    .dataframe tbody tr th:only-of-type {\n",
       "        vertical-align: middle;\n",
       "    }\n",
       "\n",
       "    .dataframe tbody tr th {\n",
       "        vertical-align: top;\n",
       "    }\n",
       "\n",
       "    .dataframe thead th {\n",
       "        text-align: right;\n",
       "    }\n",
       "</style>\n",
       "<table border=\"1\" class=\"dataframe\">\n",
       "  <thead>\n",
       "    <tr style=\"text-align: right;\">\n",
       "      <th></th>\n",
       "      <th>p (mbar)</th>\n",
       "      <th>T (degC)</th>\n",
       "      <th>Tpot (K)</th>\n",
       "      <th>Tdew (degC)</th>\n",
       "      <th>rh (%)</th>\n",
       "      <th>VPmax (mbar)</th>\n",
       "      <th>VPact (mbar)</th>\n",
       "      <th>VPdef (mbar)</th>\n",
       "      <th>sh (g/kg)</th>\n",
       "      <th>H2OC (mmol/mol)</th>\n",
       "      <th>rho (g/m**3)</th>\n",
       "      <th>wv (m/s)</th>\n",
       "      <th>max. wv (m/s)</th>\n",
       "      <th>wd (deg)</th>\n",
       "    </tr>\n",
       "    <tr>\n",
       "      <th>Date Time</th>\n",
       "      <th></th>\n",
       "      <th></th>\n",
       "      <th></th>\n",
       "      <th></th>\n",
       "      <th></th>\n",
       "      <th></th>\n",
       "      <th></th>\n",
       "      <th></th>\n",
       "      <th></th>\n",
       "      <th></th>\n",
       "      <th></th>\n",
       "      <th></th>\n",
       "      <th></th>\n",
       "      <th></th>\n",
       "    </tr>\n",
       "  </thead>\n",
       "  <tbody>\n",
       "    <tr>\n",
       "      <th>2009-01-01 00:00:00</th>\n",
       "      <td>996.528000</td>\n",
       "      <td>-8.304000</td>\n",
       "      <td>265.118000</td>\n",
       "      <td>-9.120000</td>\n",
       "      <td>93.780000</td>\n",
       "      <td>3.260000</td>\n",
       "      <td>3.058000</td>\n",
       "      <td>0.202000</td>\n",
       "      <td>1.910000</td>\n",
       "      <td>3.068000</td>\n",
       "      <td>1309.196000</td>\n",
       "      <td>0.520000</td>\n",
       "      <td>1.002000</td>\n",
       "      <td>174.460000</td>\n",
       "    </tr>\n",
       "    <tr>\n",
       "      <th>2009-01-01 01:00:00</th>\n",
       "      <td>996.525000</td>\n",
       "      <td>-8.065000</td>\n",
       "      <td>265.361667</td>\n",
       "      <td>-8.861667</td>\n",
       "      <td>93.933333</td>\n",
       "      <td>3.323333</td>\n",
       "      <td>3.121667</td>\n",
       "      <td>0.201667</td>\n",
       "      <td>1.951667</td>\n",
       "      <td>3.133333</td>\n",
       "      <td>1307.981667</td>\n",
       "      <td>0.316667</td>\n",
       "      <td>0.711667</td>\n",
       "      <td>172.416667</td>\n",
       "    </tr>\n",
       "    <tr>\n",
       "      <th>2009-01-01 02:00:00</th>\n",
       "      <td>996.745000</td>\n",
       "      <td>-8.763333</td>\n",
       "      <td>264.645000</td>\n",
       "      <td>-9.610000</td>\n",
       "      <td>93.533333</td>\n",
       "      <td>3.145000</td>\n",
       "      <td>2.940000</td>\n",
       "      <td>0.201667</td>\n",
       "      <td>1.836667</td>\n",
       "      <td>2.950000</td>\n",
       "      <td>1311.816667</td>\n",
       "      <td>0.248333</td>\n",
       "      <td>0.606667</td>\n",
       "      <td>196.816667</td>\n",
       "    </tr>\n",
       "    <tr>\n",
       "      <th>2009-01-01 03:00:00</th>\n",
       "      <td>996.986667</td>\n",
       "      <td>-8.896667</td>\n",
       "      <td>264.491667</td>\n",
       "      <td>-9.786667</td>\n",
       "      <td>93.200000</td>\n",
       "      <td>3.111667</td>\n",
       "      <td>2.898333</td>\n",
       "      <td>0.210000</td>\n",
       "      <td>1.811667</td>\n",
       "      <td>2.906667</td>\n",
       "      <td>1312.813333</td>\n",
       "      <td>0.176667</td>\n",
       "      <td>0.606667</td>\n",
       "      <td>157.083333</td>\n",
       "    </tr>\n",
       "    <tr>\n",
       "      <th>2009-01-01 04:00:00</th>\n",
       "      <td>997.158333</td>\n",
       "      <td>-9.348333</td>\n",
       "      <td>264.026667</td>\n",
       "      <td>-10.345000</td>\n",
       "      <td>92.383333</td>\n",
       "      <td>3.001667</td>\n",
       "      <td>2.775000</td>\n",
       "      <td>0.231667</td>\n",
       "      <td>1.733333</td>\n",
       "      <td>2.780000</td>\n",
       "      <td>1315.355000</td>\n",
       "      <td>0.290000</td>\n",
       "      <td>0.670000</td>\n",
       "      <td>150.093333</td>\n",
       "    </tr>\n",
       "  </tbody>\n",
       "</table>\n",
       "</div>"
      ],
      "text/plain": [
       "                       p (mbar)  T (degC)    Tpot (K)  Tdew (degC)     rh (%)  \\\n",
       "Date Time                                                                       \n",
       "2009-01-01 00:00:00  996.528000 -8.304000  265.118000    -9.120000  93.780000   \n",
       "2009-01-01 01:00:00  996.525000 -8.065000  265.361667    -8.861667  93.933333   \n",
       "2009-01-01 02:00:00  996.745000 -8.763333  264.645000    -9.610000  93.533333   \n",
       "2009-01-01 03:00:00  996.986667 -8.896667  264.491667    -9.786667  93.200000   \n",
       "2009-01-01 04:00:00  997.158333 -9.348333  264.026667   -10.345000  92.383333   \n",
       "\n",
       "                     VPmax (mbar)  VPact (mbar)  VPdef (mbar)  sh (g/kg)  \\\n",
       "Date Time                                                                  \n",
       "2009-01-01 00:00:00      3.260000      3.058000      0.202000   1.910000   \n",
       "2009-01-01 01:00:00      3.323333      3.121667      0.201667   1.951667   \n",
       "2009-01-01 02:00:00      3.145000      2.940000      0.201667   1.836667   \n",
       "2009-01-01 03:00:00      3.111667      2.898333      0.210000   1.811667   \n",
       "2009-01-01 04:00:00      3.001667      2.775000      0.231667   1.733333   \n",
       "\n",
       "                     H2OC (mmol/mol)  rho (g/m**3)  wv (m/s)  max. wv (m/s)  \\\n",
       "Date Time                                                                     \n",
       "2009-01-01 00:00:00         3.068000   1309.196000  0.520000       1.002000   \n",
       "2009-01-01 01:00:00         3.133333   1307.981667  0.316667       0.711667   \n",
       "2009-01-01 02:00:00         2.950000   1311.816667  0.248333       0.606667   \n",
       "2009-01-01 03:00:00         2.906667   1312.813333  0.176667       0.606667   \n",
       "2009-01-01 04:00:00         2.780000   1315.355000  0.290000       0.670000   \n",
       "\n",
       "                       wd (deg)  \n",
       "Date Time                        \n",
       "2009-01-01 00:00:00  174.460000  \n",
       "2009-01-01 01:00:00  172.416667  \n",
       "2009-01-01 02:00:00  196.816667  \n",
       "2009-01-01 03:00:00  157.083333  \n",
       "2009-01-01 04:00:00  150.093333  "
      ]
     },
     "execution_count": 4,
     "metadata": {},
     "output_type": "execute_result"
    }
   ],
   "source": [
    "# https://keras.io/examples/timeseries/timeseries_weather_forecasting/#climate-data-timeseries\n",
    "data = pd.read_csv(\"../../data/jena_climate_2009_2016_hourly.csv\", index_col=0)\n",
    "data.fillna(0, inplace=True)\n",
    "data.head()"
   ]
  },
  {
   "cell_type": "code",
   "execution_count": 5,
   "id": "1f927e53",
   "metadata": {},
   "outputs": [
    {
     "data": {
      "text/plain": [
       "Index(['p (mbar)', 'T (degC)', 'Tpot (K)', 'Tdew (degC)', 'rh (%)',\n",
       "       'VPmax (mbar)', 'VPact (mbar)', 'VPdef (mbar)', 'sh (g/kg)',\n",
       "       'H2OC (mmol/mol)', 'rho (g/m**3)', 'wv (m/s)', 'max. wv (m/s)',\n",
       "       'wd (deg)'],\n",
       "      dtype='object')"
      ]
     },
     "execution_count": 5,
     "metadata": {},
     "output_type": "execute_result"
    }
   ],
   "source": [
    "data.columns"
   ]
  },
  {
   "cell_type": "code",
   "execution_count": 6,
   "id": "e52b1443",
   "metadata": {},
   "outputs": [
    {
     "data": {
      "text/plain": [
       "(array([1.0110e+03, 9.2470e+03, 1.5193e+04, 1.2302e+04, 9.8740e+03,\n",
       "        7.9000e+03, 5.3950e+03, 3.5180e+03, 2.1770e+03, 1.3350e+03,\n",
       "        8.5000e+02, 5.1000e+02, 2.9700e+02, 2.1200e+02, 1.2200e+02,\n",
       "        9.7000e+01, 4.4000e+01, 2.8000e+01, 1.2000e+01, 5.0000e+00]),\n",
       " array([ 0.        ,  3.14716667,  6.29433333,  9.4415    , 12.58866667,\n",
       "        15.73583333, 18.883     , 22.03016667, 25.17733333, 28.3245    ,\n",
       "        31.47166667, 34.61883333, 37.766     , 40.91316667, 44.06033333,\n",
       "        47.2075    , 50.35466667, 53.50183333, 56.649     , 59.79616667,\n",
       "        62.94333333]),\n",
       " <BarContainer object of 20 artists>)"
      ]
     },
     "execution_count": 6,
     "metadata": {},
     "output_type": "execute_result"
    },
    {
     "data": {
      "image/png": "[encoded data removed]",
      "text/plain": [
       "<Figure size 432x288 with 1 Axes>"
      ]
     },
     "metadata": {
      "needs_background": "light"
     },
     "output_type": "display_data"
    }
   ],
   "source": [
    "plt.hist(data['VPmax (mbar)'], bins=20)"
   ]
  },
  {
   "cell_type": "code",
   "execution_count": 7,
   "id": "59979006",
   "metadata": {},
   "outputs": [
    {
     "name": "stdout",
     "output_type": "stream",
     "text": [
      "0.0\n",
      "62.94333333333333\n"
     ]
    }
   ],
   "source": [
    "print(data['VPmax (mbar)'].min())\n",
    "print(data['VPmax (mbar)'].max())"
   ]
  },
  {
   "cell_type": "code",
   "execution_count": 8,
   "id": "dcf49194",
   "metadata": {},
   "outputs": [
    {
     "data": {
      "text/plain": [
       "28.333666666666637"
      ]
     },
     "execution_count": 8,
     "metadata": {},
     "output_type": "execute_result"
    }
   ],
   "source": [
    "np.percentile(data['VPmax (mbar)'], 95)"
   ]
  },
  {
   "cell_type": "markdown",
   "id": "c3ee4ab3",
   "metadata": {},
   "source": [
    "### Preprocess"
   ]
  },
  {
   "cell_type": "code",
   "execution_count": 9,
   "id": "f75f7718",
   "metadata": {},
   "outputs": [
    {
     "name": "stdout",
     "output_type": "stream",
     "text": [
      "reframed.shape: (70046, 1176)\n"
     ]
    }
   ],
   "source": [
    "values = data.values\n",
    "\n",
    "# specify the number of lag hours\n",
    "n_hours = 24*3\n",
    "n_features = data.shape[-1]\n",
    "k = 12\n",
    "split1 = 0.7\n",
    "split2 = 0.85\n",
    "\n",
    "# frame as supervised learning\n",
    "reframed = series_to_supervised(values, n_hours, k)\n",
    "print(\"reframed.shape:\", reframed.shape)"
   ]
  },
  {
   "cell_type": "code",
   "execution_count": 10,
   "id": "f94f6e21",
   "metadata": {},
   "outputs": [
    {
     "name": "stdout",
     "output_type": "stream",
     "text": [
      "train_X.shape, train_y.shape, val_X.shape, val_y.shape, test_X.shape, test_y.shape (49032, 1008) (49032, 12) (10507, 1008) (10507, 12) (10507, 1008) (10507, 12)\n"
     ]
    }
   ],
   "source": [
    "# split into train and test sets\n",
    "reframed_values = reframed.values\n",
    "n_train_hours = int(len(reframed_values)*split1)\n",
    "n_valid_hours = int(len(reframed_values)*split2)\n",
    "\n",
    "train = reframed_values[:n_train_hours, :]\n",
    "val = reframed_values[n_train_hours:n_valid_hours, :]\n",
    "test = reframed_values[n_valid_hours:, :]\n",
    "\n",
    "\n",
    "# split into input and outputs\n",
    "n_obs = n_hours * n_features\n",
    "feature_idx = 5\n",
    "train_X, train_y = train[:, :n_obs], train[:, [n_obs + feature_idx + n_features * i for i in range(k)]]\n",
    "val_X, val_y = val[:, :n_obs], val[:, [n_obs + feature_idx + n_features * i for i in range(k)]]\n",
    "test_X, test_y = test[:, :n_obs], test[:, [n_obs + feature_idx + n_features * i for i in range(k)]]\n",
    "\n",
    "\n",
    "print(\"train_X.shape, train_y.shape, val_X.shape, val_y.shape, test_X.shape, test_y.shape\", \n",
    "      train_X.shape, train_y.shape, val_X.shape, val_y.shape, test_X.shape, test_y.shape\n",
    "     )"
   ]
  },
  {
   "cell_type": "code",
   "execution_count": 11,
   "id": "9de0c8c4",
   "metadata": {},
   "outputs": [
    {
     "name": "stdout",
     "output_type": "stream",
     "text": [
      "train_X.shape, train_y.shape, val_X.shape, val_y.shape, test_X.shape, test_y.shape (49032, 72, 14) (49032, 12) (10507, 72, 14) (10507, 12) (10507, 72, 14) (10507, 12)\n"
     ]
    }
   ],
   "source": [
    "# normalize features\n",
    "scaler = MinMaxScaler(feature_range=(0, 1))\n",
    "\n",
    "train_X = scaler.fit_transform(train_X)\n",
    "train_y = scaler.fit_transform(train_y)\n",
    "\n",
    "val_X = scaler.fit_transform(val_X)\n",
    "val_y = scaler.fit_transform(val_y)\n",
    "\n",
    "test_X = scaler.fit_transform(test_X)\n",
    "test_y = scaler.fit_transform(test_y)\n",
    "\n",
    "# reshape input to be 3D [samples, timesteps, features]\n",
    "train_X = train_X.reshape((train_X.shape[0], n_hours, n_features))\n",
    "val_X = val_X.reshape((val_X.shape[0], n_hours, n_features))\n",
    "test_X = test_X.reshape((test_X.shape[0], n_hours, n_features))\n",
    "\n",
    "print(\"train_X.shape, train_y.shape, val_X.shape, val_y.shape, test_X.shape, test_y.shape\", \n",
    "      train_X.shape, train_y.shape, val_X.shape, val_y.shape, test_X.shape, test_y.shape\n",
    "     )"
   ]
  },
  {
   "cell_type": "markdown",
   "id": "7d7d090d",
   "metadata": {},
   "source": [
    "### Pressure threshold"
   ]
  },
  {
   "cell_type": "code",
   "execution_count": 13,
   "id": "682bbe25",
   "metadata": {},
   "outputs": [
    {
     "name": "stdout",
     "output_type": "stream",
     "text": [
      "(49032,)\n",
      "(10507,)\n",
      "(10507,)\n"
     ]
    }
   ],
   "source": [
    "train_X_pm = train_X[:, 0, feature_idx]\n",
    "print(train_X_pm.shape)\n",
    "\n",
    "val_X_pm = val_X[:, 0, feature_idx]\n",
    "print(val_X_pm.shape)\n",
    "\n",
    "test_X_pm = test_X[:, 0, feature_idx]\n",
    "print(test_X_pm.shape)"
   ]
  },
  {
   "cell_type": "code",
   "execution_count": 14,
   "id": "e9169d01",
   "metadata": {},
   "outputs": [
    {
     "name": "stdout",
     "output_type": "stream",
     "text": [
      "95th Percentile of Daily Rain: 0.48441203148316114\n"
     ]
    }
   ],
   "source": [
    "percentile = 95\n",
    "\n",
    "merged_array = np.concatenate((train_X_pm, val_X_pm, test_X_pm))\n",
    "\n",
    "percentile_pm = np.percentile(merged_array, percentile)\n",
    "\n",
    "print(\"{}th Percentile of Daily Rain:\".format(percentile), percentile_pm)"
   ]
  },
  {
   "cell_type": "markdown",
   "id": "1216e9e6",
   "metadata": {},
   "source": [
    "### train_X_filter"
   ]
  },
  {
   "cell_type": "code",
   "execution_count": 15,
   "id": "c4768e5c",
   "metadata": {},
   "outputs": [
    {
     "name": "stdout",
     "output_type": "stream",
     "text": [
      "(2206, 72, 14)\n",
      "(2206, 12)\n"
     ]
    }
   ],
   "source": [
    "train_X_extreme = train_X[train_X_pm > percentile_pm]\n",
    "print(train_X_extreme.shape)\n",
    "\n",
    "train_y_extreme = train_y[train_X_pm > percentile_pm]\n",
    "print(train_y_extreme.shape)"
   ]
  },
  {
   "cell_type": "code",
   "execution_count": 16,
   "id": "e360b59e",
   "metadata": {},
   "outputs": [
    {
     "name": "stdout",
     "output_type": "stream",
     "text": [
      "(46826, 72, 14)\n",
      "(46826, 12)\n"
     ]
    }
   ],
   "source": [
    "train_X_normal = train_X[train_X_pm <= percentile_pm]\n",
    "print(train_X_normal.shape)\n",
    "\n",
    "train_y_normal = train_y[train_X_pm <= percentile_pm]\n",
    "print(train_y_normal.shape)"
   ]
  },
  {
   "cell_type": "markdown",
   "id": "3d4241b9",
   "metadata": {},
   "source": [
    "### val_X_filter"
   ]
  },
  {
   "cell_type": "code",
   "execution_count": 17,
   "id": "84f746e7",
   "metadata": {},
   "outputs": [
    {
     "name": "stdout",
     "output_type": "stream",
     "text": [
      "(486, 72, 14)\n",
      "(486, 12)\n"
     ]
    }
   ],
   "source": [
    "val_X_extreme = val_X[val_X_pm > percentile_pm]\n",
    "print(val_X_extreme.shape)\n",
    "\n",
    "val_y_extreme = val_y[val_X_pm > percentile_pm]\n",
    "print(val_y_extreme.shape)"
   ]
  },
  {
   "cell_type": "code",
   "execution_count": 18,
   "id": "5003210d",
   "metadata": {},
   "outputs": [
    {
     "name": "stdout",
     "output_type": "stream",
     "text": [
      "(10021, 72, 14)\n",
      "(10021, 12)\n"
     ]
    }
   ],
   "source": [
    "val_X_normal = val_X[val_X_pm <= percentile_pm]\n",
    "print(val_X_normal.shape)\n",
    "\n",
    "val_y_normal = val_y[val_X_pm <= percentile_pm]\n",
    "print(val_y_normal.shape)"
   ]
  },
  {
   "cell_type": "markdown",
   "id": "8366eda6",
   "metadata": {},
   "source": [
    "### test_X_filter"
   ]
  },
  {
   "cell_type": "code",
   "execution_count": 19,
   "id": "dc13fbfe",
   "metadata": {},
   "outputs": [
    {
     "name": "stdout",
     "output_type": "stream",
     "text": [
      "(811, 72, 14)\n",
      "(811, 12)\n"
     ]
    }
   ],
   "source": [
    "test_X_extreme = test_X[test_X_pm > percentile_pm]\n",
    "print(test_X_extreme.shape)\n",
    "\n",
    "test_y_extreme = test_y[test_X_pm > percentile_pm]\n",
    "print(test_y_extreme.shape)"
   ]
  },
  {
   "cell_type": "code",
   "execution_count": 20,
   "id": "a766f54b",
   "metadata": {},
   "outputs": [
    {
     "name": "stdout",
     "output_type": "stream",
     "text": [
      "(9696, 72, 14)\n",
      "(9696, 12)\n"
     ]
    }
   ],
   "source": [
    "test_X_normal = test_X[test_X_pm <= percentile_pm]\n",
    "print(test_X_normal.shape)\n",
    "\n",
    "test_y_normal = test_y[test_X_pm <= percentile_pm]\n",
    "print(test_y_normal.shape)"
   ]
  },
  {
   "cell_type": "markdown",
   "id": "5c626353",
   "metadata": {},
   "source": [
    "### Model & training"
   ]
  },
  {
   "cell_type": "code",
   "execution_count": 21,
   "id": "f4d95d3a",
   "metadata": {},
   "outputs": [],
   "source": [
    "# ===== model parameters ======\n",
    "mlp_unit1 = 128\n",
    "mlp_unit2 = 128\n",
    "mlp_unit3 = 64\n",
    "mlp_unit4 = 64\n",
    "mlp_unit5 = 32\n",
    "mlp_unit6 = 32\n",
    "mlp_unit7 = 16\n",
    "mlp_unit8 = 16\n",
    "dropout = 0.0  # 0.1\n",
    "kernel_size = 2\n",
    "pool_size = 2\n",
    "learning_rate = 1e-4\n",
    "decay_steps = 10000\n",
    "decay_rate = 0.95\n",
    "PATIENCE = 100\n",
    "EPOCHS = 1000\n",
    "BATCH = 512\n",
    "opt_num = k\n",
    "input_shape = train_X.shape[1:]"
   ]
  },
  {
   "cell_type": "code",
   "execution_count": 23,
   "id": "71f96438",
   "metadata": {},
   "outputs": [],
   "source": [
    "model = mlp_layer(input_shape=input_shape,\n",
    "                   mlp_unit1=mlp_unit1,\n",
    "                   mlp_unit2=mlp_unit2,\n",
    "                   mlp_unit3=mlp_unit3,\n",
    "                   mlp_unit4=mlp_unit4,\n",
    "                   mlp_unit5=mlp_unit5,\n",
    "                   mlp_unit6=mlp_unit6,\n",
    "                   mlp_unit7=mlp_unit7,\n",
    "                   mlp_unit8=mlp_unit8,\n",
    "                   dropout=dropout,\n",
    "                   masked_value=-1,\n",
    "                   opt_num=opt_num\n",
    "                  )\n",
    "# model.summary()"
   ]
  },
  {
   "cell_type": "code",
   "execution_count": 24,
   "id": "9f1e0318",
   "metadata": {
    "scrolled": true
   },
   "outputs": [
    {
     "name": "stderr",
     "output_type": "stream",
     "text": [
      "2024-02-02 15:11:52.339310: I tensorflow/compiler/mlir/mlir_graph_optimization_pass.cc:116] None of the MLIR optimization passes are enabled (registered 2)\n",
      "2024-02-02 15:11:52.340118: I tensorflow/core/platform/profile_utils/cpu_utils.cc:112] CPU Frequency: 1700105000 Hz\n"
     ]
    },
    {
     "name": "stdout",
     "output_type": "stream",
     "text": [
      "Epoch 1/1000\n"
     ]
    },
    {
     "name": "stderr",
     "output_type": "stream",
     "text": [
      "2024-02-02 15:11:53.738297: I tensorflow/stream_executor/platform/default/dso_loader.cc:49] Successfully opened dynamic library libcublas.so.10\n"
     ]
    },
    {
     "name": "stdout",
     "output_type": "stream",
     "text": [
      "92/92 - 4s - loss: 0.0109 - mae: 0.0723 - val_loss: 0.0068 - val_mae: 0.0545\n",
      "\n",
      "Epoch 00001: val_mae improved from inf to 0.05451, saving model to ../../saved_models_mlp/pressure_N.h5\n",
      "Epoch 2/1000\n",
      "92/92 - 1s - loss: 0.0049 - mae: 0.0476 - val_loss: 0.0062 - val_mae: 0.0494\n",
      "\n",
      "Epoch 00002: val_mae improved from 0.05451 to 0.04940, saving model to ../../saved_models_mlp/pressure_N.h5\n",
      "Epoch 3/1000\n",
      "92/92 - 1s - loss: 0.0043 - mae: 0.0442 - val_loss: 0.0058 - val_mae: 0.0488\n",
      "\n",
      "Epoch 00003: val_mae improved from 0.04940 to 0.04880, saving model to ../../saved_models_mlp/pressure_N.h5\n",
      "Epoch 4/1000\n",
      "92/92 - 1s - loss: 0.0040 - mae: 0.0424 - val_loss: 0.0054 - val_mae: 0.0500\n",
      "\n",
      "Epoch 00004: val_mae did not improve from 0.04880\n",
      "Epoch 5/1000\n",
      "92/92 - 1s - loss: 0.0037 - mae: 0.0410 - val_loss: 0.0055 - val_mae: 0.0500\n",
      "\n",
      "Epoch 00005: val_mae did not improve from 0.04880\n",
      "Epoch 6/1000\n",
      "92/92 - 1s - loss: 0.0034 - mae: 0.0394 - val_loss: 0.0056 - val_mae: 0.0473\n",
      "\n",
      "Epoch 00006: val_mae improved from 0.04880 to 0.04730, saving model to ../../saved_models_mlp/pressure_N.h5\n",
      "Epoch 7/1000\n",
      "92/92 - 1s - loss: 0.0033 - mae: 0.0385 - val_loss: 0.0053 - val_mae: 0.0463\n",
      "\n",
      "Epoch 00007: val_mae improved from 0.04730 to 0.04633, saving model to ../../saved_models_mlp/pressure_N.h5\n",
      "Epoch 8/1000\n",
      "92/92 - 1s - loss: 0.0031 - mae: 0.0372 - val_loss: 0.0062 - val_mae: 0.0498\n",
      "\n",
      "Epoch 00008: val_mae did not improve from 0.04633\n",
      "Epoch 9/1000\n",
      "92/92 - 1s - loss: 0.0030 - mae: 0.0368 - val_loss: 0.0057 - val_mae: 0.0482\n",
      "\n",
      "Epoch 00009: val_mae did not improve from 0.04633\n",
      "Epoch 10/1000\n",
      "92/92 - 1s - loss: 0.0030 - mae: 0.0368 - val_loss: 0.0051 - val_mae: 0.0469\n",
      "\n",
      "Epoch 00010: val_mae did not improve from 0.04633\n",
      "Epoch 11/1000\n",
      "92/92 - 1s - loss: 0.0029 - mae: 0.0364 - val_loss: 0.0065 - val_mae: 0.0537\n",
      "\n",
      "Epoch 00011: val_mae did not improve from 0.04633\n",
      "Epoch 12/1000\n",
      "92/92 - 1s - loss: 0.0028 - mae: 0.0355 - val_loss: 0.0056 - val_mae: 0.0484\n",
      "\n",
      "Epoch 00012: val_mae did not improve from 0.04633\n",
      "Epoch 13/1000\n",
      "92/92 - 1s - loss: 0.0028 - mae: 0.0358 - val_loss: 0.0055 - val_mae: 0.0484\n",
      "\n",
      "Epoch 00013: val_mae did not improve from 0.04633\n",
      "Epoch 14/1000\n",
      "92/92 - 1s - loss: 0.0028 - mae: 0.0356 - val_loss: 0.0059 - val_mae: 0.0506\n",
      "\n",
      "Epoch 00014: val_mae did not improve from 0.04633\n",
      "Epoch 15/1000\n",
      "92/92 - 1s - loss: 0.0028 - mae: 0.0354 - val_loss: 0.0056 - val_mae: 0.0497\n",
      "\n",
      "Epoch 00015: val_mae did not improve from 0.04633\n",
      "Epoch 16/1000\n",
      "92/92 - 1s - loss: 0.0027 - mae: 0.0349 - val_loss: 0.0070 - val_mae: 0.0571\n",
      "\n",
      "Epoch 00016: val_mae did not improve from 0.04633\n",
      "Epoch 17/1000\n",
      "92/92 - 1s - loss: 0.0027 - mae: 0.0350 - val_loss: 0.0061 - val_mae: 0.0531\n",
      "\n",
      "Epoch 00017: val_mae did not improve from 0.04633\n",
      "Epoch 18/1000\n",
      "92/92 - 1s - loss: 0.0027 - mae: 0.0348 - val_loss: 0.0067 - val_mae: 0.0563\n",
      "\n",
      "Epoch 00018: val_mae did not improve from 0.04633\n",
      "Epoch 19/1000\n",
      "92/92 - 1s - loss: 0.0027 - mae: 0.0350 - val_loss: 0.0065 - val_mae: 0.0554\n",
      "\n",
      "Epoch 00019: val_mae did not improve from 0.04633\n",
      "Epoch 20/1000\n",
      "92/92 - 1s - loss: 0.0027 - mae: 0.0346 - val_loss: 0.0066 - val_mae: 0.0552\n",
      "\n",
      "Epoch 00020: val_mae did not improve from 0.04633\n",
      "Epoch 21/1000\n",
      "92/92 - 1s - loss: 0.0026 - mae: 0.0345 - val_loss: 0.0059 - val_mae: 0.0516\n",
      "\n",
      "Epoch 00021: val_mae did not improve from 0.04633\n",
      "Epoch 22/1000\n",
      "92/92 - 1s - loss: 0.0026 - mae: 0.0343 - val_loss: 0.0068 - val_mae: 0.0552\n",
      "\n",
      "Epoch 00022: val_mae did not improve from 0.04633\n",
      "Epoch 23/1000\n",
      "92/92 - 1s - loss: 0.0026 - mae: 0.0344 - val_loss: 0.0070 - val_mae: 0.0583\n",
      "\n",
      "Epoch 00023: val_mae did not improve from 0.04633\n",
      "Epoch 24/1000\n",
      "92/92 - 1s - loss: 0.0026 - mae: 0.0339 - val_loss: 0.0063 - val_mae: 0.0544\n",
      "\n",
      "Epoch 00024: val_mae did not improve from 0.04633\n",
      "Epoch 25/1000\n",
      "92/92 - 1s - loss: 0.0026 - mae: 0.0341 - val_loss: 0.0066 - val_mae: 0.0566\n",
      "\n",
      "Epoch 00025: val_mae did not improve from 0.04633\n",
      "Epoch 26/1000\n",
      "92/92 - 1s - loss: 0.0025 - mae: 0.0338 - val_loss: 0.0069 - val_mae: 0.0583\n",
      "\n",
      "Epoch 00026: val_mae did not improve from 0.04633\n",
      "Epoch 27/1000\n",
      "92/92 - 1s - loss: 0.0025 - mae: 0.0338 - val_loss: 0.0064 - val_mae: 0.0566\n",
      "\n",
      "Epoch 00027: val_mae did not improve from 0.04633\n",
      "Epoch 28/1000\n",
      "92/92 - 1s - loss: 0.0025 - mae: 0.0339 - val_loss: 0.0068 - val_mae: 0.0583\n",
      "\n",
      "Epoch 00028: val_mae did not improve from 0.04633\n",
      "Epoch 29/1000\n",
      "92/92 - 1s - loss: 0.0025 - mae: 0.0336 - val_loss: 0.0071 - val_mae: 0.0592\n",
      "\n",
      "Epoch 00029: val_mae did not improve from 0.04633\n",
      "Epoch 30/1000\n",
      "92/92 - 1s - loss: 0.0025 - mae: 0.0340 - val_loss: 0.0070 - val_mae: 0.0595\n",
      "\n",
      "Epoch 00030: val_mae did not improve from 0.04633\n",
      "Epoch 31/1000\n",
      "92/92 - 1s - loss: 0.0025 - mae: 0.0335 - val_loss: 0.0070 - val_mae: 0.0579\n",
      "\n",
      "Epoch 00031: val_mae did not improve from 0.04633\n",
      "Epoch 32/1000\n",
      "92/92 - 1s - loss: 0.0025 - mae: 0.0337 - val_loss: 0.0071 - val_mae: 0.0585\n",
      "\n",
      "Epoch 00032: val_mae did not improve from 0.04633\n",
      "Epoch 33/1000\n",
      "92/92 - 1s - loss: 0.0025 - mae: 0.0336 - val_loss: 0.0073 - val_mae: 0.0597\n",
      "\n",
      "Epoch 00033: val_mae did not improve from 0.04633\n",
      "Epoch 34/1000\n",
      "92/92 - 1s - loss: 0.0024 - mae: 0.0333 - val_loss: 0.0072 - val_mae: 0.0593\n",
      "\n",
      "Epoch 00034: val_mae did not improve from 0.04633\n",
      "Epoch 35/1000\n",
      "92/92 - 1s - loss: 0.0024 - mae: 0.0334 - val_loss: 0.0071 - val_mae: 0.0604\n",
      "\n",
      "Epoch 00035: val_mae did not improve from 0.04633\n",
      "Epoch 36/1000\n",
      "92/92 - 1s - loss: 0.0025 - mae: 0.0338 - val_loss: 0.0100 - val_mae: 0.0787\n",
      "\n",
      "Epoch 00036: val_mae did not improve from 0.04633\n",
      "Epoch 37/1000\n",
      "92/92 - 1s - loss: 0.0024 - mae: 0.0332 - val_loss: 0.0083 - val_mae: 0.0692\n",
      "\n",
      "Epoch 00037: val_mae did not improve from 0.04633\n",
      "Epoch 38/1000\n",
      "92/92 - 1s - loss: 0.0024 - mae: 0.0331 - val_loss: 0.0071 - val_mae: 0.0591\n",
      "\n",
      "Epoch 00038: val_mae did not improve from 0.04633\n",
      "Epoch 39/1000\n",
      "92/92 - 1s - loss: 0.0024 - mae: 0.0328 - val_loss: 0.0101 - val_mae: 0.0784\n",
      "\n",
      "Epoch 00039: val_mae did not improve from 0.04633\n",
      "Epoch 40/1000\n",
      "92/92 - 1s - loss: 0.0024 - mae: 0.0329 - val_loss: 0.0148 - val_mae: 0.0969\n",
      "\n",
      "Epoch 00040: val_mae did not improve from 0.04633\n",
      "Epoch 41/1000\n",
      "92/92 - 1s - loss: 0.0024 - mae: 0.0329 - val_loss: 0.0160 - val_mae: 0.0998\n",
      "\n",
      "Epoch 00041: val_mae did not improve from 0.04633\n",
      "Epoch 42/1000\n",
      "92/92 - 1s - loss: 0.0023 - mae: 0.0327 - val_loss: 0.0155 - val_mae: 0.1016\n",
      "\n",
      "Epoch 00042: val_mae did not improve from 0.04633\n",
      "Epoch 43/1000\n",
      "92/92 - 1s - loss: 0.0024 - mae: 0.0328 - val_loss: 0.0153 - val_mae: 0.0996\n",
      "\n",
      "Epoch 00043: val_mae did not improve from 0.04633\n",
      "Epoch 44/1000\n",
      "92/92 - 1s - loss: 0.0023 - mae: 0.0325 - val_loss: 0.0125 - val_mae: 0.0872\n",
      "\n",
      "Epoch 00044: val_mae did not improve from 0.04633\n",
      "Epoch 45/1000\n",
      "92/92 - 1s - loss: 0.0023 - mae: 0.0324 - val_loss: 0.0171 - val_mae: 0.1080\n",
      "\n",
      "Epoch 00045: val_mae did not improve from 0.04633\n",
      "Epoch 46/1000\n",
      "92/92 - 1s - loss: 0.0023 - mae: 0.0324 - val_loss: 0.0203 - val_mae: 0.1147\n",
      "\n",
      "Epoch 00046: val_mae did not improve from 0.04633\n",
      "Epoch 47/1000\n",
      "92/92 - 1s - loss: 0.0023 - mae: 0.0324 - val_loss: 0.0201 - val_mae: 0.1162\n",
      "\n",
      "Epoch 00047: val_mae did not improve from 0.04633\n",
      "Epoch 48/1000\n",
      "92/92 - 1s - loss: 0.0023 - mae: 0.0323 - val_loss: 0.0308 - val_mae: 0.1463\n",
      "\n",
      "Epoch 00048: val_mae did not improve from 0.04633\n",
      "Epoch 49/1000\n",
      "92/92 - 1s - loss: 0.0023 - mae: 0.0323 - val_loss: 0.0219 - val_mae: 0.1200\n",
      "\n",
      "Epoch 00049: val_mae did not improve from 0.04633\n",
      "Epoch 50/1000\n",
      "92/92 - 1s - loss: 0.0022 - mae: 0.0319 - val_loss: 0.0295 - val_mae: 0.1426\n",
      "\n",
      "Epoch 00050: val_mae did not improve from 0.04633\n",
      "Epoch 51/1000\n",
      "92/92 - 1s - loss: 0.0022 - mae: 0.0320 - val_loss: 0.0307 - val_mae: 0.1439\n",
      "\n",
      "Epoch 00051: val_mae did not improve from 0.04633\n",
      "Epoch 52/1000\n",
      "92/92 - 1s - loss: 0.0022 - mae: 0.0321 - val_loss: 0.0384 - val_mae: 0.1648\n",
      "\n",
      "Epoch 00052: val_mae did not improve from 0.04633\n",
      "Epoch 53/1000\n",
      "92/92 - 1s - loss: 0.0022 - mae: 0.0319 - val_loss: 0.0322 - val_mae: 0.1475\n",
      "\n",
      "Epoch 00053: val_mae did not improve from 0.04633\n",
      "Epoch 54/1000\n",
      "92/92 - 1s - loss: 0.0022 - mae: 0.0316 - val_loss: 0.0287 - val_mae: 0.1395\n",
      "\n",
      "Epoch 00054: val_mae did not improve from 0.04633\n",
      "Epoch 55/1000\n",
      "92/92 - 1s - loss: 0.0021 - mae: 0.0314 - val_loss: 0.0400 - val_mae: 0.1636\n",
      "\n",
      "Epoch 00055: val_mae did not improve from 0.04633\n",
      "Epoch 56/1000\n",
      "92/92 - 1s - loss: 0.0021 - mae: 0.0316 - val_loss: 0.0399 - val_mae: 0.1619\n",
      "\n",
      "Epoch 00056: val_mae did not improve from 0.04633\n",
      "Epoch 57/1000\n"
     ]
    },
    {
     "name": "stdout",
     "output_type": "stream",
     "text": [
      "92/92 - 1s - loss: 0.0022 - mae: 0.0319 - val_loss: 0.0391 - val_mae: 0.1629\n",
      "\n",
      "Epoch 00057: val_mae did not improve from 0.04633\n",
      "Epoch 58/1000\n",
      "92/92 - 1s - loss: 0.0021 - mae: 0.0314 - val_loss: 0.0424 - val_mae: 0.1705\n",
      "\n",
      "Epoch 00058: val_mae did not improve from 0.04633\n",
      "Epoch 59/1000\n",
      "92/92 - 1s - loss: 0.0021 - mae: 0.0312 - val_loss: 0.0495 - val_mae: 0.1810\n",
      "\n",
      "Epoch 00059: val_mae did not improve from 0.04633\n",
      "Epoch 60/1000\n",
      "92/92 - 1s - loss: 0.0021 - mae: 0.0311 - val_loss: 0.0485 - val_mae: 0.1807\n",
      "\n",
      "Epoch 00060: val_mae did not improve from 0.04633\n",
      "Epoch 61/1000\n",
      "92/92 - 1s - loss: 0.0020 - mae: 0.0309 - val_loss: 0.0643 - val_mae: 0.2113\n",
      "\n",
      "Epoch 00061: val_mae did not improve from 0.04633\n",
      "Epoch 62/1000\n",
      "92/92 - 1s - loss: 0.0020 - mae: 0.0309 - val_loss: 0.0634 - val_mae: 0.2115\n",
      "\n",
      "Epoch 00062: val_mae did not improve from 0.04633\n",
      "Epoch 63/1000\n",
      "92/92 - 1s - loss: 0.0021 - mae: 0.0311 - val_loss: 0.0537 - val_mae: 0.1883\n",
      "\n",
      "Epoch 00063: val_mae did not improve from 0.04633\n",
      "Epoch 64/1000\n",
      "92/92 - 1s - loss: 0.0020 - mae: 0.0307 - val_loss: 0.0695 - val_mae: 0.2190\n",
      "\n",
      "Epoch 00064: val_mae did not improve from 0.04633\n",
      "Epoch 65/1000\n",
      "92/92 - 1s - loss: 0.0020 - mae: 0.0308 - val_loss: 0.0640 - val_mae: 0.2103\n",
      "\n",
      "Epoch 00065: val_mae did not improve from 0.04633\n",
      "Epoch 66/1000\n",
      "92/92 - 1s - loss: 0.0020 - mae: 0.0305 - val_loss: 0.0676 - val_mae: 0.2142\n",
      "\n",
      "Epoch 00066: val_mae did not improve from 0.04633\n",
      "Epoch 67/1000\n",
      "92/92 - 1s - loss: 0.0020 - mae: 0.0305 - val_loss: 0.0619 - val_mae: 0.2112\n",
      "\n",
      "Epoch 00067: val_mae did not improve from 0.04633\n",
      "Epoch 68/1000\n",
      "92/92 - 1s - loss: 0.0020 - mae: 0.0309 - val_loss: 0.0584 - val_mae: 0.1991\n",
      "\n",
      "Epoch 00068: val_mae did not improve from 0.04633\n",
      "Epoch 69/1000\n",
      "92/92 - 1s - loss: 0.0019 - mae: 0.0301 - val_loss: 0.0595 - val_mae: 0.2026\n",
      "\n",
      "Epoch 00069: val_mae did not improve from 0.04633\n",
      "Epoch 70/1000\n",
      "92/92 - 1s - loss: 0.0020 - mae: 0.0306 - val_loss: 0.0590 - val_mae: 0.2028\n",
      "\n",
      "Epoch 00070: val_mae did not improve from 0.04633\n",
      "Epoch 71/1000\n",
      "92/92 - 1s - loss: 0.0019 - mae: 0.0299 - val_loss: 0.0572 - val_mae: 0.2007\n",
      "\n",
      "Epoch 00071: val_mae did not improve from 0.04633\n",
      "Epoch 72/1000\n",
      "92/92 - 1s - loss: 0.0019 - mae: 0.0299 - val_loss: 0.0725 - val_mae: 0.2248\n",
      "\n",
      "Epoch 00072: val_mae did not improve from 0.04633\n",
      "Epoch 73/1000\n",
      "92/92 - 1s - loss: 0.0018 - mae: 0.0296 - val_loss: 0.0719 - val_mae: 0.2228\n",
      "\n",
      "Epoch 00073: val_mae did not improve from 0.04633\n",
      "Epoch 74/1000\n",
      "92/92 - 1s - loss: 0.0019 - mae: 0.0298 - val_loss: 0.0545 - val_mae: 0.1942\n",
      "\n",
      "Epoch 00074: val_mae did not improve from 0.04633\n",
      "Epoch 75/1000\n",
      "92/92 - 1s - loss: 0.0018 - mae: 0.0295 - val_loss: 0.0643 - val_mae: 0.2129\n",
      "\n",
      "Epoch 00075: val_mae did not improve from 0.04633\n",
      "Epoch 76/1000\n",
      "92/92 - 1s - loss: 0.0018 - mae: 0.0296 - val_loss: 0.0720 - val_mae: 0.2221\n",
      "\n",
      "Epoch 00076: val_mae did not improve from 0.04633\n",
      "Epoch 77/1000\n",
      "92/92 - 1s - loss: 0.0018 - mae: 0.0296 - val_loss: 0.0738 - val_mae: 0.2266\n",
      "\n",
      "Epoch 00077: val_mae did not improve from 0.04633\n",
      "Epoch 78/1000\n",
      "92/92 - 1s - loss: 0.0018 - mae: 0.0293 - val_loss: 0.0677 - val_mae: 0.2161\n",
      "\n",
      "Epoch 00078: val_mae did not improve from 0.04633\n",
      "Epoch 79/1000\n",
      "92/92 - 1s - loss: 0.0018 - mae: 0.0294 - val_loss: 0.0440 - val_mae: 0.1697\n",
      "\n",
      "Epoch 00079: val_mae did not improve from 0.04633\n",
      "Epoch 80/1000\n",
      "92/92 - 1s - loss: 0.0018 - mae: 0.0293 - val_loss: 0.0738 - val_mae: 0.2221\n",
      "\n",
      "Epoch 00080: val_mae did not improve from 0.04633\n",
      "Epoch 81/1000\n",
      "92/92 - 1s - loss: 0.0018 - mae: 0.0293 - val_loss: 0.0582 - val_mae: 0.1933\n",
      "\n",
      "Epoch 00081: val_mae did not improve from 0.04633\n",
      "Epoch 82/1000\n",
      "92/92 - 1s - loss: 0.0017 - mae: 0.0290 - val_loss: 0.0681 - val_mae: 0.2125\n",
      "\n",
      "Epoch 00082: val_mae did not improve from 0.04633\n",
      "Epoch 83/1000\n",
      "92/92 - 1s - loss: 0.0017 - mae: 0.0290 - val_loss: 0.0891 - val_mae: 0.2395\n",
      "\n",
      "Epoch 00083: val_mae did not improve from 0.04633\n",
      "Epoch 84/1000\n",
      "92/92 - 1s - loss: 0.0017 - mae: 0.0288 - val_loss: 0.0647 - val_mae: 0.2004\n",
      "\n",
      "Epoch 00084: val_mae did not improve from 0.04633\n",
      "Epoch 85/1000\n",
      "92/92 - 1s - loss: 0.0017 - mae: 0.0286 - val_loss: 0.0887 - val_mae: 0.2388\n",
      "\n",
      "Epoch 00085: val_mae did not improve from 0.04633\n",
      "Epoch 86/1000\n",
      "92/92 - 1s - loss: 0.0017 - mae: 0.0287 - val_loss: 0.0841 - val_mae: 0.2269\n",
      "\n",
      "Epoch 00086: val_mae did not improve from 0.04633\n",
      "Epoch 87/1000\n",
      "92/92 - 1s - loss: 0.0017 - mae: 0.0285 - val_loss: 0.0812 - val_mae: 0.2242\n",
      "\n",
      "Epoch 00087: val_mae did not improve from 0.04633\n",
      "Epoch 88/1000\n",
      "92/92 - 1s - loss: 0.0016 - mae: 0.0283 - val_loss: 0.0921 - val_mae: 0.2374\n",
      "\n",
      "Epoch 00088: val_mae did not improve from 0.04633\n",
      "Epoch 89/1000\n",
      "92/92 - 1s - loss: 0.0016 - mae: 0.0282 - val_loss: 0.0924 - val_mae: 0.2363\n",
      "\n",
      "Epoch 00089: val_mae did not improve from 0.04633\n",
      "Epoch 90/1000\n",
      "92/92 - 1s - loss: 0.0016 - mae: 0.0280 - val_loss: 0.1063 - val_mae: 0.2623\n",
      "\n",
      "Epoch 00090: val_mae did not improve from 0.04633\n",
      "Epoch 91/1000\n",
      "92/92 - 1s - loss: 0.0016 - mae: 0.0278 - val_loss: 0.1119 - val_mae: 0.2669\n",
      "\n",
      "Epoch 00091: val_mae did not improve from 0.04633\n",
      "Epoch 92/1000\n",
      "92/92 - 1s - loss: 0.0016 - mae: 0.0279 - val_loss: 0.1010 - val_mae: 0.2489\n",
      "\n",
      "Epoch 00092: val_mae did not improve from 0.04633\n",
      "Epoch 93/1000\n",
      "92/92 - 1s - loss: 0.0016 - mae: 0.0278 - val_loss: 0.1296 - val_mae: 0.2849\n",
      "\n",
      "Epoch 00093: val_mae did not improve from 0.04633\n",
      "Epoch 94/1000\n",
      "92/92 - 1s - loss: 0.0016 - mae: 0.0277 - val_loss: 0.1230 - val_mae: 0.2727\n",
      "\n",
      "Epoch 00094: val_mae did not improve from 0.04633\n",
      "Epoch 95/1000\n",
      "92/92 - 1s - loss: 0.0016 - mae: 0.0277 - val_loss: 0.1202 - val_mae: 0.2754\n",
      "\n",
      "Epoch 00095: val_mae did not improve from 0.04633\n",
      "Epoch 96/1000\n",
      "92/92 - 1s - loss: 0.0015 - mae: 0.0274 - val_loss: 0.1136 - val_mae: 0.2638\n",
      "\n",
      "Epoch 00096: val_mae did not improve from 0.04633\n",
      "Epoch 97/1000\n",
      "92/92 - 1s - loss: 0.0015 - mae: 0.0274 - val_loss: 0.0865 - val_mae: 0.2248\n",
      "\n",
      "Epoch 00097: val_mae did not improve from 0.04633\n",
      "Epoch 98/1000\n",
      "92/92 - 1s - loss: 0.0015 - mae: 0.0274 - val_loss: 0.1308 - val_mae: 0.2899\n",
      "\n",
      "Epoch 00098: val_mae did not improve from 0.04633\n",
      "Epoch 99/1000\n",
      "92/92 - 1s - loss: 0.0015 - mae: 0.0276 - val_loss: 0.1054 - val_mae: 0.2500\n",
      "\n",
      "Epoch 00099: val_mae did not improve from 0.04633\n",
      "Epoch 100/1000\n",
      "92/92 - 1s - loss: 0.0015 - mae: 0.0271 - val_loss: 0.1519 - val_mae: 0.3104\n",
      "\n",
      "Epoch 00100: val_mae did not improve from 0.04633\n",
      "Epoch 101/1000\n",
      "92/92 - 1s - loss: 0.0015 - mae: 0.0272 - val_loss: 0.1072 - val_mae: 0.2564\n",
      "\n",
      "Epoch 00101: val_mae did not improve from 0.04633\n",
      "Epoch 102/1000\n",
      "92/92 - 1s - loss: 0.0015 - mae: 0.0271 - val_loss: 0.1037 - val_mae: 0.2494\n",
      "\n",
      "Epoch 00102: val_mae did not improve from 0.04633\n",
      "Epoch 103/1000\n",
      "92/92 - 1s - loss: 0.0015 - mae: 0.0272 - val_loss: 0.1257 - val_mae: 0.2786\n",
      "\n",
      "Epoch 00103: val_mae did not improve from 0.04633\n",
      "Epoch 104/1000\n",
      "92/92 - 1s - loss: 0.0015 - mae: 0.0271 - val_loss: 0.1041 - val_mae: 0.2490\n",
      "\n",
      "Epoch 00104: val_mae did not improve from 0.04633\n",
      "Epoch 105/1000\n",
      "92/92 - 1s - loss: 0.0014 - mae: 0.0266 - val_loss: 0.1150 - val_mae: 0.2553\n",
      "\n",
      "Epoch 00105: val_mae did not improve from 0.04633\n",
      "Epoch 106/1000\n",
      "92/92 - 1s - loss: 0.0014 - mae: 0.0268 - val_loss: 0.1294 - val_mae: 0.2781\n",
      "\n",
      "Epoch 00106: val_mae did not improve from 0.04633\n",
      "Epoch 107/1000\n",
      "92/92 - 1s - loss: 0.0014 - mae: 0.0265 - val_loss: 0.1114 - val_mae: 0.2646\n",
      "\n",
      "Epoch 00107: val_mae did not improve from 0.04633\n",
      "Epoch 00107: early stopping\n"
     ]
    },
    {
     "data": {
      "text/plain": [
       "<tensorflow.python.keras.callbacks.History at 0x7f6bd629a610>"
      ]
     },
     "execution_count": 24,
     "metadata": {},
     "output_type": "execute_result"
    }
   ],
   "source": [
    "# lr_schedule = keras.optimizers.schedules.ExponentialDecay(initial_learning_rate=learning_rate, \n",
    "#                                                           decay_steps=decay_steps,\n",
    "#                                                           decay_rate=decay_rate)\n",
    "\n",
    "# model.compile(optimizer=Adam(learning_rate=lr_schedule),\n",
    "#               loss='mse',\n",
    "#               metrics=['mae']\n",
    "#              )\n",
    "\n",
    "model.compile(optimizer='adam',\n",
    "              loss='mse',\n",
    "              metrics=['mae']\n",
    "             )\n",
    "\n",
    "\n",
    "es = EarlyStopping(monitor='val_mae', mode='min', verbose=2, patience=PATIENCE)\n",
    "mc = ModelCheckpoint('../../saved_models_mlp/pressure_N.h5', \n",
    "                     monitor='val_mae', \n",
    "                     mode='min', \n",
    "                     verbose=2, \n",
    "                     save_best_only=True\n",
    "                    )\n",
    "\n",
    "\n",
    "model.fit(train_X_normal, train_y_normal,\n",
    "          validation_data=(val_X_normal, val_y_normal),\n",
    "          epochs=EPOCHS,\n",
    "          batch_size=BATCH,\n",
    "          verbose=2,\n",
    "          shuffle=True,\n",
    "          callbacks=[es, mc]\n",
    "         )"
   ]
  },
  {
   "cell_type": "code",
   "execution_count": null,
   "id": "89f3c6f3",
   "metadata": {},
   "outputs": [],
   "source": []
  },
  {
   "cell_type": "code",
   "execution_count": null,
   "id": "56bf5004",
   "metadata": {},
   "outputs": [],
   "source": []
  },
  {
   "cell_type": "code",
   "execution_count": null,
   "id": "48c7c598",
   "metadata": {},
   "outputs": [],
   "source": []
  }
 ],
 "metadata": {
  "kernelspec": {
   "display_name": "Python 3 (ipykernel)",
   "language": "python",
   "name": "python3"
  },
  "language_info": {
   "codemirror_mode": {
    "name": "ipython",
    "version": 3
   },
   "file_extension": ".py",
   "mimetype": "text/x-python",
   "name": "python",
   "nbconvert_exporter": "python",
   "pygments_lexer": "ipython3",
   "version": "3.8.16"
  }
 },
 "nbformat": 4,
 "nbformat_minor": 5
}
