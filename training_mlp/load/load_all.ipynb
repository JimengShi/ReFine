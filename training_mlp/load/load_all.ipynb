{
 "cells": [
  {
   "cell_type": "code",
   "execution_count": 1,
   "id": "25441506",
   "metadata": {},
   "outputs": [
    {
     "name": "stderr",
     "output_type": "stream",
     "text": [
      "2024-02-02 14:45:11.466350: I tensorflow/stream_executor/platform/default/dso_loader.cc:49] Successfully opened dynamic library libcudart.so.10.1\n"
     ]
    }
   ],
   "source": [
    "import os\n",
    "import sys\n",
    "\n",
    "module_path = os.path.abspath(os.path.join('../..'))\n",
    "\n",
    "if module_path not in sys.path:\n",
    "    sys.path.append(module_path)\n",
    "\n",
    "\n",
    "import pandas as pd\n",
    "import numpy as np\n",
    "import matplotlib.pyplot as plt\n",
    "\n",
    "\n",
    "from math import sqrt\n",
    "from tensorflow import keras\n",
    "from sklearn.preprocessing import MinMaxScaler\n",
    "from sklearn.metrics import mean_squared_error as mse\n",
    "from sklearn.metrics import mean_absolute_error as mae\n",
    "from tensorflow.keras.models import load_model\n",
    "from tensorflow.keras.layers import *\n",
    "from tensorflow.keras.models import *\n",
    "from tensorflow.keras.optimizers import *\n",
    "from tensorflow.keras.callbacks import *\n",
    "\n",
    "from helper import series_to_supervised\n",
    "from model.mlp import mlp_layer"
   ]
  },
  {
   "cell_type": "code",
   "execution_count": 2,
   "id": "d2af1f22",
   "metadata": {},
   "outputs": [],
   "source": [
    "import os\n",
    "os.environ[\"CUDA_VISIBLE_DEVICES\"] = \"3\""
   ]
  },
  {
   "cell_type": "code",
   "execution_count": 3,
   "id": "5eefef09",
   "metadata": {},
   "outputs": [],
   "source": [
    "# import random\n",
    "\n",
    "# random.seed(10)\n",
    "# print(random.random())"
   ]
  },
  {
   "cell_type": "code",
   "execution_count": 4,
   "id": "537a30dd",
   "metadata": {},
   "outputs": [
    {
     "data": {
      "text/html": [
       "<div>\n",
       "<style scoped>\n",
       "    .dataframe tbody tr th:only-of-type {\n",
       "        vertical-align: middle;\n",
       "    }\n",
       "\n",
       "    .dataframe tbody tr th {\n",
       "        vertical-align: top;\n",
       "    }\n",
       "\n",
       "    .dataframe thead th {\n",
       "        text-align: right;\n",
       "    }\n",
       "</style>\n",
       "<table border=\"1\" class=\"dataframe\">\n",
       "  <thead>\n",
       "    <tr style=\"text-align: right;\">\n",
       "      <th></th>\n",
       "      <th>price</th>\n",
       "      <th>price_dayahead</th>\n",
       "      <th>gen_coal</th>\n",
       "      <th>gen_gas</th>\n",
       "      <th>load_actual</th>\n",
       "      <th>gen_lig</th>\n",
       "      <th>gen_oil</th>\n",
       "      <th>gen_oth_renew</th>\n",
       "      <th>pressure_Barcelona</th>\n",
       "      <th>pressure_Bilbao</th>\n",
       "      <th>...</th>\n",
       "      <th>wind_deg_Bilbao</th>\n",
       "      <th>clouds_all_Bilbao</th>\n",
       "      <th>gen_hyd_river</th>\n",
       "      <th>wind_deg_Seville</th>\n",
       "      <th>wind_speed_Barcelona</th>\n",
       "      <th>wind_speed_Valencia</th>\n",
       "      <th>wind_speed_Bilbao</th>\n",
       "      <th>gen_wind</th>\n",
       "      <th>wind_speed_Madrid</th>\n",
       "      <th>gen_hyd_pump</th>\n",
       "    </tr>\n",
       "    <tr>\n",
       "      <th>time</th>\n",
       "      <th></th>\n",
       "      <th></th>\n",
       "      <th></th>\n",
       "      <th></th>\n",
       "      <th></th>\n",
       "      <th></th>\n",
       "      <th></th>\n",
       "      <th></th>\n",
       "      <th></th>\n",
       "      <th></th>\n",
       "      <th></th>\n",
       "      <th></th>\n",
       "      <th></th>\n",
       "      <th></th>\n",
       "      <th></th>\n",
       "      <th></th>\n",
       "      <th></th>\n",
       "      <th></th>\n",
       "      <th></th>\n",
       "      <th></th>\n",
       "      <th></th>\n",
       "    </tr>\n",
       "  </thead>\n",
       "  <tbody>\n",
       "    <tr>\n",
       "      <th>2015-01-01 00:00:00+00:00</th>\n",
       "      <td>64.92</td>\n",
       "      <td>48.10</td>\n",
       "      <td>4755.0</td>\n",
       "      <td>5196.0</td>\n",
       "      <td>24382.0</td>\n",
       "      <td>328.0</td>\n",
       "      <td>158.0</td>\n",
       "      <td>71.0</td>\n",
       "      <td>1035.0</td>\n",
       "      <td>1035.0</td>\n",
       "      <td>...</td>\n",
       "      <td>229.0</td>\n",
       "      <td>0.0</td>\n",
       "      <td>1009.0</td>\n",
       "      <td>21.0</td>\n",
       "      <td>7.0</td>\n",
       "      <td>1.0</td>\n",
       "      <td>0.0</td>\n",
       "      <td>5890.0</td>\n",
       "      <td>1.0</td>\n",
       "      <td>920.0</td>\n",
       "    </tr>\n",
       "    <tr>\n",
       "      <th>2015-01-01 01:00:00+00:00</th>\n",
       "      <td>64.48</td>\n",
       "      <td>47.33</td>\n",
       "      <td>4581.0</td>\n",
       "      <td>4857.0</td>\n",
       "      <td>22734.0</td>\n",
       "      <td>323.0</td>\n",
       "      <td>157.0</td>\n",
       "      <td>73.0</td>\n",
       "      <td>1036.0</td>\n",
       "      <td>1036.0</td>\n",
       "      <td>...</td>\n",
       "      <td>224.0</td>\n",
       "      <td>0.0</td>\n",
       "      <td>973.0</td>\n",
       "      <td>27.0</td>\n",
       "      <td>7.0</td>\n",
       "      <td>0.0</td>\n",
       "      <td>1.0</td>\n",
       "      <td>5461.0</td>\n",
       "      <td>1.0</td>\n",
       "      <td>1164.0</td>\n",
       "    </tr>\n",
       "    <tr>\n",
       "      <th>2015-01-01 02:00:00+00:00</th>\n",
       "      <td>59.32</td>\n",
       "      <td>42.27</td>\n",
       "      <td>4131.0</td>\n",
       "      <td>4314.0</td>\n",
       "      <td>21286.0</td>\n",
       "      <td>254.0</td>\n",
       "      <td>160.0</td>\n",
       "      <td>75.0</td>\n",
       "      <td>1036.0</td>\n",
       "      <td>1035.0</td>\n",
       "      <td>...</td>\n",
       "      <td>225.0</td>\n",
       "      <td>0.0</td>\n",
       "      <td>949.0</td>\n",
       "      <td>27.0</td>\n",
       "      <td>7.0</td>\n",
       "      <td>0.0</td>\n",
       "      <td>1.0</td>\n",
       "      <td>5238.0</td>\n",
       "      <td>1.0</td>\n",
       "      <td>1503.0</td>\n",
       "    </tr>\n",
       "    <tr>\n",
       "      <th>2015-01-01 03:00:00+00:00</th>\n",
       "      <td>56.04</td>\n",
       "      <td>38.41</td>\n",
       "      <td>3840.0</td>\n",
       "      <td>4130.0</td>\n",
       "      <td>20264.0</td>\n",
       "      <td>187.0</td>\n",
       "      <td>156.0</td>\n",
       "      <td>74.0</td>\n",
       "      <td>1036.0</td>\n",
       "      <td>1035.0</td>\n",
       "      <td>...</td>\n",
       "      <td>221.0</td>\n",
       "      <td>0.0</td>\n",
       "      <td>953.0</td>\n",
       "      <td>27.0</td>\n",
       "      <td>7.0</td>\n",
       "      <td>0.0</td>\n",
       "      <td>1.0</td>\n",
       "      <td>4935.0</td>\n",
       "      <td>1.0</td>\n",
       "      <td>1826.0</td>\n",
       "    </tr>\n",
       "    <tr>\n",
       "      <th>2015-01-01 04:00:00+00:00</th>\n",
       "      <td>53.63</td>\n",
       "      <td>35.72</td>\n",
       "      <td>3590.0</td>\n",
       "      <td>4038.0</td>\n",
       "      <td>19905.0</td>\n",
       "      <td>178.0</td>\n",
       "      <td>156.0</td>\n",
       "      <td>74.0</td>\n",
       "      <td>1037.0</td>\n",
       "      <td>1035.0</td>\n",
       "      <td>...</td>\n",
       "      <td>224.0</td>\n",
       "      <td>0.0</td>\n",
       "      <td>952.0</td>\n",
       "      <td>57.0</td>\n",
       "      <td>5.0</td>\n",
       "      <td>2.0</td>\n",
       "      <td>1.0</td>\n",
       "      <td>4618.0</td>\n",
       "      <td>0.0</td>\n",
       "      <td>2109.0</td>\n",
       "    </tr>\n",
       "    <tr>\n",
       "      <th>...</th>\n",
       "      <td>...</td>\n",
       "      <td>...</td>\n",
       "      <td>...</td>\n",
       "      <td>...</td>\n",
       "      <td>...</td>\n",
       "      <td>...</td>\n",
       "      <td>...</td>\n",
       "      <td>...</td>\n",
       "      <td>...</td>\n",
       "      <td>...</td>\n",
       "      <td>...</td>\n",
       "      <td>...</td>\n",
       "      <td>...</td>\n",
       "      <td>...</td>\n",
       "      <td>...</td>\n",
       "      <td>...</td>\n",
       "      <td>...</td>\n",
       "      <td>...</td>\n",
       "      <td>...</td>\n",
       "      <td>...</td>\n",
       "      <td>...</td>\n",
       "    </tr>\n",
       "    <tr>\n",
       "      <th>2018-12-31 18:00:00+00:00</th>\n",
       "      <td>77.02</td>\n",
       "      <td>68.85</td>\n",
       "      <td>2628.0</td>\n",
       "      <td>7634.0</td>\n",
       "      <td>30653.0</td>\n",
       "      <td>0.0</td>\n",
       "      <td>178.0</td>\n",
       "      <td>95.0</td>\n",
       "      <td>1027.0</td>\n",
       "      <td>1033.0</td>\n",
       "      <td>...</td>\n",
       "      <td>57.0</td>\n",
       "      <td>0.0</td>\n",
       "      <td>1135.0</td>\n",
       "      <td>30.0</td>\n",
       "      <td>1.0</td>\n",
       "      <td>2.0</td>\n",
       "      <td>0.0</td>\n",
       "      <td>3113.0</td>\n",
       "      <td>1.0</td>\n",
       "      <td>1.0</td>\n",
       "    </tr>\n",
       "    <tr>\n",
       "      <th>2018-12-31 19:00:00+00:00</th>\n",
       "      <td>76.16</td>\n",
       "      <td>68.40</td>\n",
       "      <td>2566.0</td>\n",
       "      <td>7241.0</td>\n",
       "      <td>29735.0</td>\n",
       "      <td>0.0</td>\n",
       "      <td>174.0</td>\n",
       "      <td>95.0</td>\n",
       "      <td>1027.0</td>\n",
       "      <td>1034.0</td>\n",
       "      <td>...</td>\n",
       "      <td>0.0</td>\n",
       "      <td>0.0</td>\n",
       "      <td>1172.0</td>\n",
       "      <td>30.0</td>\n",
       "      <td>3.0</td>\n",
       "      <td>1.0</td>\n",
       "      <td>1.0</td>\n",
       "      <td>3288.0</td>\n",
       "      <td>1.0</td>\n",
       "      <td>1.0</td>\n",
       "    </tr>\n",
       "    <tr>\n",
       "      <th>2018-12-31 20:00:00+00:00</th>\n",
       "      <td>74.30</td>\n",
       "      <td>66.88</td>\n",
       "      <td>2422.0</td>\n",
       "      <td>7025.0</td>\n",
       "      <td>28071.0</td>\n",
       "      <td>0.0</td>\n",
       "      <td>168.0</td>\n",
       "      <td>94.0</td>\n",
       "      <td>1028.0</td>\n",
       "      <td>1034.0</td>\n",
       "      <td>...</td>\n",
       "      <td>140.0</td>\n",
       "      <td>0.0</td>\n",
       "      <td>1148.0</td>\n",
       "      <td>50.0</td>\n",
       "      <td>4.0</td>\n",
       "      <td>3.0</td>\n",
       "      <td>1.0</td>\n",
       "      <td>3503.0</td>\n",
       "      <td>1.0</td>\n",
       "      <td>50.0</td>\n",
       "    </tr>\n",
       "    <tr>\n",
       "      <th>2018-12-31 21:00:00+00:00</th>\n",
       "      <td>69.89</td>\n",
       "      <td>63.93</td>\n",
       "      <td>2293.0</td>\n",
       "      <td>6562.0</td>\n",
       "      <td>25801.0</td>\n",
       "      <td>0.0</td>\n",
       "      <td>163.0</td>\n",
       "      <td>93.0</td>\n",
       "      <td>1028.0</td>\n",
       "      <td>1034.0</td>\n",
       "      <td>...</td>\n",
       "      <td>120.0</td>\n",
       "      <td>0.0</td>\n",
       "      <td>1128.0</td>\n",
       "      <td>60.0</td>\n",
       "      <td>5.0</td>\n",
       "      <td>2.0</td>\n",
       "      <td>1.0</td>\n",
       "      <td>3586.0</td>\n",
       "      <td>2.0</td>\n",
       "      <td>108.0</td>\n",
       "    </tr>\n",
       "    <tr>\n",
       "      <th>2018-12-31 22:00:00+00:00</th>\n",
       "      <td>69.88</td>\n",
       "      <td>64.27</td>\n",
       "      <td>2166.0</td>\n",
       "      <td>6926.0</td>\n",
       "      <td>24455.0</td>\n",
       "      <td>0.0</td>\n",
       "      <td>163.0</td>\n",
       "      <td>92.0</td>\n",
       "      <td>1028.0</td>\n",
       "      <td>1034.0</td>\n",
       "      <td>...</td>\n",
       "      <td>100.0</td>\n",
       "      <td>0.0</td>\n",
       "      <td>1069.0</td>\n",
       "      <td>50.0</td>\n",
       "      <td>5.0</td>\n",
       "      <td>2.0</td>\n",
       "      <td>2.0</td>\n",
       "      <td>3651.0</td>\n",
       "      <td>1.0</td>\n",
       "      <td>108.0</td>\n",
       "    </tr>\n",
       "  </tbody>\n",
       "</table>\n",
       "<p>35063 rows × 26 columns</p>\n",
       "</div>"
      ],
      "text/plain": [
       "                           price  price_dayahead  gen_coal  gen_gas  \\\n",
       "time                                                                  \n",
       "2015-01-01 00:00:00+00:00  64.92           48.10    4755.0   5196.0   \n",
       "2015-01-01 01:00:00+00:00  64.48           47.33    4581.0   4857.0   \n",
       "2015-01-01 02:00:00+00:00  59.32           42.27    4131.0   4314.0   \n",
       "2015-01-01 03:00:00+00:00  56.04           38.41    3840.0   4130.0   \n",
       "2015-01-01 04:00:00+00:00  53.63           35.72    3590.0   4038.0   \n",
       "...                          ...             ...       ...      ...   \n",
       "2018-12-31 18:00:00+00:00  77.02           68.85    2628.0   7634.0   \n",
       "2018-12-31 19:00:00+00:00  76.16           68.40    2566.0   7241.0   \n",
       "2018-12-31 20:00:00+00:00  74.30           66.88    2422.0   7025.0   \n",
       "2018-12-31 21:00:00+00:00  69.89           63.93    2293.0   6562.0   \n",
       "2018-12-31 22:00:00+00:00  69.88           64.27    2166.0   6926.0   \n",
       "\n",
       "                           load_actual  gen_lig  gen_oil  gen_oth_renew  \\\n",
       "time                                                                      \n",
       "2015-01-01 00:00:00+00:00      24382.0    328.0    158.0           71.0   \n",
       "2015-01-01 01:00:00+00:00      22734.0    323.0    157.0           73.0   \n",
       "2015-01-01 02:00:00+00:00      21286.0    254.0    160.0           75.0   \n",
       "2015-01-01 03:00:00+00:00      20264.0    187.0    156.0           74.0   \n",
       "2015-01-01 04:00:00+00:00      19905.0    178.0    156.0           74.0   \n",
       "...                                ...      ...      ...            ...   \n",
       "2018-12-31 18:00:00+00:00      30653.0      0.0    178.0           95.0   \n",
       "2018-12-31 19:00:00+00:00      29735.0      0.0    174.0           95.0   \n",
       "2018-12-31 20:00:00+00:00      28071.0      0.0    168.0           94.0   \n",
       "2018-12-31 21:00:00+00:00      25801.0      0.0    163.0           93.0   \n",
       "2018-12-31 22:00:00+00:00      24455.0      0.0    163.0           92.0   \n",
       "\n",
       "                           pressure_Barcelona  pressure_Bilbao  ...  \\\n",
       "time                                                            ...   \n",
       "2015-01-01 00:00:00+00:00              1035.0           1035.0  ...   \n",
       "2015-01-01 01:00:00+00:00              1036.0           1036.0  ...   \n",
       "2015-01-01 02:00:00+00:00              1036.0           1035.0  ...   \n",
       "2015-01-01 03:00:00+00:00              1036.0           1035.0  ...   \n",
       "2015-01-01 04:00:00+00:00              1037.0           1035.0  ...   \n",
       "...                                       ...              ...  ...   \n",
       "2018-12-31 18:00:00+00:00              1027.0           1033.0  ...   \n",
       "2018-12-31 19:00:00+00:00              1027.0           1034.0  ...   \n",
       "2018-12-31 20:00:00+00:00              1028.0           1034.0  ...   \n",
       "2018-12-31 21:00:00+00:00              1028.0           1034.0  ...   \n",
       "2018-12-31 22:00:00+00:00              1028.0           1034.0  ...   \n",
       "\n",
       "                           wind_deg_Bilbao  clouds_all_Bilbao  gen_hyd_river  \\\n",
       "time                                                                           \n",
       "2015-01-01 00:00:00+00:00            229.0                0.0         1009.0   \n",
       "2015-01-01 01:00:00+00:00            224.0                0.0          973.0   \n",
       "2015-01-01 02:00:00+00:00            225.0                0.0          949.0   \n",
       "2015-01-01 03:00:00+00:00            221.0                0.0          953.0   \n",
       "2015-01-01 04:00:00+00:00            224.0                0.0          952.0   \n",
       "...                                    ...                ...            ...   \n",
       "2018-12-31 18:00:00+00:00             57.0                0.0         1135.0   \n",
       "2018-12-31 19:00:00+00:00              0.0                0.0         1172.0   \n",
       "2018-12-31 20:00:00+00:00            140.0                0.0         1148.0   \n",
       "2018-12-31 21:00:00+00:00            120.0                0.0         1128.0   \n",
       "2018-12-31 22:00:00+00:00            100.0                0.0         1069.0   \n",
       "\n",
       "                           wind_deg_Seville  wind_speed_Barcelona  \\\n",
       "time                                                                \n",
       "2015-01-01 00:00:00+00:00              21.0                   7.0   \n",
       "2015-01-01 01:00:00+00:00              27.0                   7.0   \n",
       "2015-01-01 02:00:00+00:00              27.0                   7.0   \n",
       "2015-01-01 03:00:00+00:00              27.0                   7.0   \n",
       "2015-01-01 04:00:00+00:00              57.0                   5.0   \n",
       "...                                     ...                   ...   \n",
       "2018-12-31 18:00:00+00:00              30.0                   1.0   \n",
       "2018-12-31 19:00:00+00:00              30.0                   3.0   \n",
       "2018-12-31 20:00:00+00:00              50.0                   4.0   \n",
       "2018-12-31 21:00:00+00:00              60.0                   5.0   \n",
       "2018-12-31 22:00:00+00:00              50.0                   5.0   \n",
       "\n",
       "                           wind_speed_Valencia  wind_speed_Bilbao  gen_wind  \\\n",
       "time                                                                          \n",
       "2015-01-01 00:00:00+00:00                  1.0                0.0    5890.0   \n",
       "2015-01-01 01:00:00+00:00                  0.0                1.0    5461.0   \n",
       "2015-01-01 02:00:00+00:00                  0.0                1.0    5238.0   \n",
       "2015-01-01 03:00:00+00:00                  0.0                1.0    4935.0   \n",
       "2015-01-01 04:00:00+00:00                  2.0                1.0    4618.0   \n",
       "...                                        ...                ...       ...   \n",
       "2018-12-31 18:00:00+00:00                  2.0                0.0    3113.0   \n",
       "2018-12-31 19:00:00+00:00                  1.0                1.0    3288.0   \n",
       "2018-12-31 20:00:00+00:00                  3.0                1.0    3503.0   \n",
       "2018-12-31 21:00:00+00:00                  2.0                1.0    3586.0   \n",
       "2018-12-31 22:00:00+00:00                  2.0                2.0    3651.0   \n",
       "\n",
       "                           wind_speed_Madrid  gen_hyd_pump  \n",
       "time                                                        \n",
       "2015-01-01 00:00:00+00:00                1.0         920.0  \n",
       "2015-01-01 01:00:00+00:00                1.0        1164.0  \n",
       "2015-01-01 02:00:00+00:00                1.0        1503.0  \n",
       "2015-01-01 03:00:00+00:00                1.0        1826.0  \n",
       "2015-01-01 04:00:00+00:00                0.0        2109.0  \n",
       "...                                      ...           ...  \n",
       "2018-12-31 18:00:00+00:00                1.0           1.0  \n",
       "2018-12-31 19:00:00+00:00                1.0           1.0  \n",
       "2018-12-31 20:00:00+00:00                1.0          50.0  \n",
       "2018-12-31 21:00:00+00:00                2.0         108.0  \n",
       "2018-12-31 22:00:00+00:00                1.0         108.0  \n",
       "\n",
       "[35063 rows x 26 columns]"
      ]
     },
     "execution_count": 4,
     "metadata": {},
     "output_type": "execute_result"
    }
   ],
   "source": [
    "dataset = pd.read_csv('../../data/energy_weather.csv', index_col=0)\n",
    "# https://www.kaggle.com/datasets/nicholasjhana/energy-consumption-generation-prices-and-weather\n",
    "\n",
    "dataset.fillna(0, inplace=True)\n",
    "data = dataset\n",
    "data"
   ]
  },
  {
   "cell_type": "code",
   "execution_count": 5,
   "id": "f495cc9d",
   "metadata": {},
   "outputs": [
    {
     "data": {
      "text/plain": [
       "Index(['price', 'price_dayahead', 'gen_coal', 'gen_gas', 'load_actual',\n",
       "       'gen_lig', 'gen_oil', 'gen_oth_renew', 'pressure_Barcelona',\n",
       "       'pressure_Bilbao', 'gen_waste', 'gen_bio', 'temp_min_Valencia',\n",
       "       'pressure_Valencia', 'temp_min_Barcelona', 'humidity_Seville',\n",
       "       'wind_deg_Bilbao', 'clouds_all_Bilbao', 'gen_hyd_river',\n",
       "       'wind_deg_Seville', 'wind_speed_Barcelona', 'wind_speed_Valencia',\n",
       "       'wind_speed_Bilbao', 'gen_wind', 'wind_speed_Madrid', 'gen_hyd_pump'],\n",
       "      dtype='object')"
      ]
     },
     "execution_count": 5,
     "metadata": {},
     "output_type": "execute_result"
    }
   ],
   "source": [
    "data.columns"
   ]
  },
  {
   "cell_type": "code",
   "execution_count": 6,
   "id": "e52b1443",
   "metadata": {},
   "outputs": [
    {
     "name": "stdout",
     "output_type": "stream",
     "text": [
      "18041.0\n",
      "41015.0\n"
     ]
    }
   ],
   "source": [
    "print(data['load_actual'].min())\n",
    "print(data['load_actual'].max())"
   ]
  },
  {
   "cell_type": "code",
   "execution_count": 7,
   "id": "1f927e53",
   "metadata": {},
   "outputs": [
    {
     "data": {
      "text/plain": [
       "Index(['price', 'price_dayahead', 'gen_coal', 'gen_gas', 'load_actual',\n",
       "       'gen_lig', 'gen_oil', 'gen_oth_renew', 'pressure_Barcelona',\n",
       "       'pressure_Bilbao', 'gen_waste', 'gen_bio', 'temp_min_Valencia',\n",
       "       'pressure_Valencia', 'temp_min_Barcelona', 'humidity_Seville',\n",
       "       'wind_deg_Bilbao', 'clouds_all_Bilbao', 'gen_hyd_river',\n",
       "       'wind_deg_Seville', 'wind_speed_Barcelona', 'wind_speed_Valencia',\n",
       "       'wind_speed_Bilbao', 'gen_wind', 'wind_speed_Madrid', 'gen_hyd_pump'],\n",
       "      dtype='object')"
      ]
     },
     "execution_count": 7,
     "metadata": {},
     "output_type": "execute_result"
    }
   ],
   "source": [
    "data.columns"
   ]
  },
  {
   "cell_type": "code",
   "execution_count": 8,
   "id": "e5b01c8f",
   "metadata": {
    "scrolled": true
   },
   "outputs": [
    {
     "data": {
      "image/png": "[encoded data removed]",
      "text/plain": [
       "<Figure size 432x288 with 1 Axes>"
      ]
     },
     "metadata": {
      "needs_background": "light"
     },
     "output_type": "display_data"
    },
    {
     "data": {
      "image/png": "[encoded data removed]",
      "text/plain": [
       "<Figure size 432x288 with 1 Axes>"
      ]
     },
     "metadata": {
      "needs_background": "light"
     },
     "output_type": "display_data"
    },
    {
     "data": {
      "image/png": "[encoded data removed]",
      "text/plain": [
       "<Figure size 432x288 with 1 Axes>"
      ]
     },
     "metadata": {
      "needs_background": "light"
     },
     "output_type": "display_data"
    },
    {
     "data": {
      "image/png": "[encoded data removed]",
      "text/plain": [
       "<Figure size 432x288 with 1 Axes>"
      ]
     },
     "metadata": {
      "needs_background": "light"
     },
     "output_type": "display_data"
    },
    {
     "data": {
      "image/png": "[encoded data removed]",
      "text/plain": [
       "<Figure size 432x288 with 1 Axes>"
      ]
     },
     "metadata": {
      "needs_background": "light"
     },
     "output_type": "display_data"
    },
    {
     "data": {
      "image/png": "[encoded data removed]",
      "text/plain": [
       "<Figure size 432x288 with 1 Axes>"
      ]
     },
     "metadata": {
      "needs_background": "light"
     },
     "output_type": "display_data"
    },
    {
     "data": {
      "image/png": "[encoded data removed]",
      "text/plain": [
       "<Figure size 432x288 with 1 Axes>"
      ]
     },
     "metadata": {
      "needs_background": "light"
     },
     "output_type": "display_data"
    },
    {
     "data": {
      "image/png": "[encoded data removed]",
      "text/plain": [
       "<Figure size 432x288 with 1 Axes>"
      ]
     },
     "metadata": {
      "needs_background": "light"
     },
     "output_type": "display_data"
    },
    {
     "data": {
      "image/png": "[encoded data removed]",
      "text/plain": [
       "<Figure size 432x288 with 1 Axes>"
      ]
     },
     "metadata": {
      "needs_background": "light"
     },
     "output_type": "display_data"
    },
    {
     "data": {
      "image/png": "[encoded data removed]",
      "text/plain": [
       "<Figure size 432x288 with 1 Axes>"
      ]
     },
     "metadata": {
      "needs_background": "light"
     },
     "output_type": "display_data"
    },
    {
     "data": {
      "image/png": "[encoded data removed]",
      "text/plain": [
       "<Figure size 432x288 with 1 Axes>"
      ]
     },
     "metadata": {
      "needs_background": "light"
     },
     "output_type": "display_data"
    },
    {
     "data": {
      "image/png": "[encoded data removed]",
      "text/plain": [
       "<Figure size 432x288 with 1 Axes>"
      ]
     },
     "metadata": {
      "needs_background": "light"
     },
     "output_type": "display_data"
    },
    {
     "data": {
      "image/png": "[encoded data removed]",
      "text/plain": [
       "<Figure size 432x288 with 1 Axes>"
      ]
     },
     "metadata": {
      "needs_background": "light"
     },
     "output_type": "display_data"
    },
    {
     "data": {
      "image/png": "[encoded data removed]",
      "text/plain": [
       "<Figure size 432x288 with 1 Axes>"
      ]
     },
     "metadata": {
      "needs_background": "light"
     },
     "output_type": "display_data"
    },
    {
     "data": {
      "image/png": "[encoded data removed]",
      "text/plain": [
       "<Figure size 432x288 with 1 Axes>"
      ]
     },
     "metadata": {
      "needs_background": "light"
     },
     "output_type": "display_data"
    },
    {
     "data": {
      "image/png": "[encoded data removed]",
      "text/plain": [
       "<Figure size 432x288 with 1 Axes>"
      ]
     },
     "metadata": {
      "needs_background": "light"
     },
     "output_type": "display_data"
    },
    {
     "data": {
      "image/png": "[encoded data removed]",
      "text/plain": [
       "<Figure size 432x288 with 1 Axes>"
      ]
     },
     "metadata": {
      "needs_background": "light"
     },
     "output_type": "display_data"
    },
    {
     "data": {
      "image/png": "[encoded data removed]",
      "text/plain": [
       "<Figure size 432x288 with 1 Axes>"
      ]
     },
     "metadata": {
      "needs_background": "light"
     },
     "output_type": "display_data"
    },
    {
     "data": {
      "image/png": "[encoded data removed]",
      "text/plain": [
       "<Figure size 432x288 with 1 Axes>"
      ]
     },
     "metadata": {
      "needs_background": "light"
     },
     "output_type": "display_data"
    },
    {
     "data": {
      "image/png": "[encoded data removed]",
      "text/plain": [
       "<Figure size 432x288 with 1 Axes>"
      ]
     },
     "metadata": {
      "needs_background": "light"
     },
     "output_type": "display_data"
    },
    {
     "data": {
      "image/png": "[encoded data removed]",
      "text/plain": [
       "<Figure size 432x288 with 1 Axes>"
      ]
     },
     "metadata": {
      "needs_background": "light"
     },
     "output_type": "display_data"
    },
    {
     "data": {
      "image/png": "[encoded data removed]",
      "text/plain": [
       "<Figure size 432x288 with 1 Axes>"
      ]
     },
     "metadata": {
      "needs_background": "light"
     },
     "output_type": "display_data"
    },
    {
     "data": {
      "image/png": "[encoded data removed]",
      "text/plain": [
       "<Figure size 432x288 with 1 Axes>"
      ]
     },
     "metadata": {
      "needs_background": "light"
     },
     "output_type": "display_data"
    },
    {
     "data": {
      "image/png": "[encoded data removed]",
      "text/plain": [
       "<Figure size 432x288 with 1 Axes>"
      ]
     },
     "metadata": {
      "needs_background": "light"
     },
     "output_type": "display_data"
    },
    {
     "data": {
      "image/png": "[encoded data removed]",
      "text/plain": [
       "<Figure size 432x288 with 1 Axes>"
      ]
     },
     "metadata": {
      "needs_background": "light"
     },
     "output_type": "display_data"
    },
    {
     "data": {
      "image/png": "[encoded data removed]",
      "text/plain": [
       "<Figure size 432x288 with 1 Axes>"
      ]
     },
     "metadata": {
      "needs_background": "light"
     },
     "output_type": "display_data"
    }
   ],
   "source": [
    "for col in data.columns:\n",
    "    plt.hist(data[col], bins=20)\n",
    "    plt.title(col)\n",
    "    plt.show()\n",
    "    plt.close()"
   ]
  },
  {
   "cell_type": "code",
   "execution_count": 9,
   "id": "dcf49194",
   "metadata": {},
   "outputs": [
    {
     "data": {
      "text/plain": [
       "10259.0"
      ]
     },
     "execution_count": 9,
     "metadata": {},
     "output_type": "execute_result"
    }
   ],
   "source": [
    "np.percentile(data['gen_gas'], 95)"
   ]
  },
  {
   "cell_type": "markdown",
   "id": "c3ee4ab3",
   "metadata": {},
   "source": [
    "### Preprocess"
   ]
  },
  {
   "cell_type": "code",
   "execution_count": 10,
   "id": "f75f7718",
   "metadata": {},
   "outputs": [
    {
     "name": "stdout",
     "output_type": "stream",
     "text": [
      "reframed.shape: (34980, 2184)\n"
     ]
    }
   ],
   "source": [
    "values = data.values\n",
    "\n",
    "# specify the number of lag hours\n",
    "n_hours = 24*3\n",
    "n_features = data.shape[-1]\n",
    "k = 12\n",
    "split1 = 0.7\n",
    "split2 = 0.85\n",
    "\n",
    "# frame as supervised learning\n",
    "reframed = series_to_supervised(values, n_hours, k)\n",
    "print(\"reframed.shape:\", reframed.shape)"
   ]
  },
  {
   "cell_type": "code",
   "execution_count": 11,
   "id": "f94f6e21",
   "metadata": {},
   "outputs": [
    {
     "name": "stdout",
     "output_type": "stream",
     "text": [
      "train_X.shape, train_y.shape, val_X.shape, val_y.shape, test_X.shape, test_y.shape (24486, 1872) (24486, 12) (5247, 1872) (5247, 12) (5247, 1872) (5247, 12)\n"
     ]
    }
   ],
   "source": [
    "# split into train and test sets\n",
    "reframed_values = reframed.values\n",
    "n_train_hours = int(len(reframed_values)*split1)\n",
    "n_valid_hours = int(len(reframed_values)*split2)\n",
    "\n",
    "train = reframed_values[:n_train_hours, :]\n",
    "val = reframed_values[n_train_hours:n_valid_hours, :]\n",
    "test = reframed_values[n_valid_hours:, :]\n",
    "\n",
    "\n",
    "# split into input and outputs\n",
    "n_obs = n_hours * n_features\n",
    "feature_idx = 4\n",
    "train_X, train_y = train[:, :n_obs], train[:, [n_obs + feature_idx + n_features * i for i in range(k)]]\n",
    "val_X, val_y = val[:, :n_obs], val[:, [n_obs + feature_idx + n_features * i for i in range(k)]]\n",
    "test_X, test_y = test[:, :n_obs], test[:, [n_obs + feature_idx + n_features * i for i in range(k)]]\n",
    "\n",
    "\n",
    "print(\"train_X.shape, train_y.shape, val_X.shape, val_y.shape, test_X.shape, test_y.shape\", \n",
    "      train_X.shape, train_y.shape, val_X.shape, val_y.shape, test_X.shape, test_y.shape\n",
    "     )"
   ]
  },
  {
   "cell_type": "code",
   "execution_count": 12,
   "id": "9de0c8c4",
   "metadata": {},
   "outputs": [
    {
     "name": "stdout",
     "output_type": "stream",
     "text": [
      "train_X.shape, train_y.shape, val_X.shape, val_y.shape, test_X.shape, test_y.shape (24486, 72, 26) (24486, 12) (5247, 72, 26) (5247, 12) (5247, 72, 26) (5247, 12)\n"
     ]
    }
   ],
   "source": [
    "# normalize features\n",
    "scaler = MinMaxScaler(feature_range=(0, 1))\n",
    "\n",
    "train_X = scaler.fit_transform(train_X)\n",
    "train_y = scaler.fit_transform(train_y)\n",
    "\n",
    "val_X = scaler.fit_transform(val_X)\n",
    "val_y = scaler.fit_transform(val_y)\n",
    "\n",
    "test_X = scaler.fit_transform(test_X)\n",
    "test_y = scaler.fit_transform(test_y)\n",
    "\n",
    "# reshape input to be 3D [samples, timesteps, features]\n",
    "train_X = train_X.reshape((train_X.shape[0], n_hours, n_features))\n",
    "val_X = val_X.reshape((val_X.shape[0], n_hours, n_features))\n",
    "test_X = test_X.reshape((test_X.shape[0], n_hours, n_features))\n",
    "\n",
    "print(\"train_X.shape, train_y.shape, val_X.shape, val_y.shape, test_X.shape, test_y.shape\", \n",
    "      train_X.shape, train_y.shape, val_X.shape, val_y.shape, test_X.shape, test_y.shape\n",
    "     )"
   ]
  },
  {
   "cell_type": "markdown",
   "id": "5c626353",
   "metadata": {},
   "source": [
    "### Model & training"
   ]
  },
  {
   "cell_type": "code",
   "execution_count": 13,
   "id": "148af597",
   "metadata": {},
   "outputs": [],
   "source": [
    "# plt.hist(train_y[:,0])"
   ]
  },
  {
   "cell_type": "code",
   "execution_count": 14,
   "id": "f4d95d3a",
   "metadata": {},
   "outputs": [],
   "source": [
    "# ===== model parameters ======\n",
    "mlp_unit1 = 128\n",
    "mlp_unit2 = 128\n",
    "mlp_unit3 = 64\n",
    "mlp_unit4 = 64\n",
    "mlp_unit5 = 32\n",
    "mlp_unit6 = 32\n",
    "mlp_unit7 = 16\n",
    "mlp_unit8 = 16\n",
    "dropout = 0.0  # 0.1\n",
    "kernel_size = 2\n",
    "pool_size = 2\n",
    "learning_rate = 1e-4\n",
    "decay_steps = 10000\n",
    "decay_rate = 0.95\n",
    "PATIENCE = 100\n",
    "EPOCHS = 1000\n",
    "BATCH = 512\n",
    "opt_num = k\n",
    "input_shape = train_X.shape[1:]"
   ]
  },
  {
   "cell_type": "code",
   "execution_count": 16,
   "id": "71f96438",
   "metadata": {},
   "outputs": [],
   "source": [
    "model = mlp_layer(input_shape=input_shape,\n",
    "                   mlp_unit1=mlp_unit1,\n",
    "                   mlp_unit2=mlp_unit2,\n",
    "                   mlp_unit3=mlp_unit3,\n",
    "                   mlp_unit4=mlp_unit4,\n",
    "                   mlp_unit5=mlp_unit5,\n",
    "                   mlp_unit6=mlp_unit6,\n",
    "                   mlp_unit7=mlp_unit7,\n",
    "                   mlp_unit8=mlp_unit8,\n",
    "                   dropout=dropout,\n",
    "                   masked_value=-1,\n",
    "                   opt_num=opt_num\n",
    "                  )\n",
    "# model.summary()"
   ]
  },
  {
   "cell_type": "code",
   "execution_count": 17,
   "id": "9f1e0318",
   "metadata": {
    "scrolled": true
   },
   "outputs": [
    {
     "name": "stderr",
     "output_type": "stream",
     "text": [
      "2024-02-02 14:45:35.302470: I tensorflow/compiler/mlir/mlir_graph_optimization_pass.cc:116] None of the MLIR optimization passes are enabled (registered 2)\n",
      "2024-02-02 14:45:35.303249: I tensorflow/core/platform/profile_utils/cpu_utils.cc:112] CPU Frequency: 1700105000 Hz\n"
     ]
    },
    {
     "name": "stdout",
     "output_type": "stream",
     "text": [
      "Epoch 1/1000\n"
     ]
    },
    {
     "name": "stderr",
     "output_type": "stream",
     "text": [
      "2024-02-02 14:45:36.677703: I tensorflow/stream_executor/platform/default/dso_loader.cc:49] Successfully opened dynamic library libcublas.so.10\n"
     ]
    },
    {
     "name": "stdout",
     "output_type": "stream",
     "text": [
      "48/48 - 3s - loss: 0.0726 - mae: 0.2161 - val_loss: 0.0479 - val_mae: 0.1872\n",
      "\n",
      "Epoch 00001: val_mae improved from inf to 0.18716, saving model to ../../saved_models_mlp/load_all_cp.h5\n",
      "Epoch 2/1000\n",
      "48/48 - 1s - loss: 0.0313 - mae: 0.1483 - val_loss: 0.0269 - val_mae: 0.1303\n",
      "\n",
      "Epoch 00002: val_mae improved from 0.18716 to 0.13033, saving model to ../../saved_models_mlp/load_all_cp.h5\n",
      "Epoch 3/1000\n",
      "48/48 - 1s - loss: 0.0160 - mae: 0.0987 - val_loss: 0.0163 - val_mae: 0.0996\n",
      "\n",
      "Epoch 00003: val_mae improved from 0.13033 to 0.09964, saving model to ../../saved_models_mlp/load_all_cp.h5\n",
      "Epoch 4/1000\n",
      "48/48 - 1s - loss: 0.0114 - mae: 0.0820 - val_loss: 0.0130 - val_mae: 0.0859\n",
      "\n",
      "Epoch 00004: val_mae improved from 0.09964 to 0.08593, saving model to ../../saved_models_mlp/load_all_cp.h5\n",
      "Epoch 5/1000\n",
      "48/48 - 1s - loss: 0.0083 - mae: 0.0688 - val_loss: 0.0108 - val_mae: 0.0787\n",
      "\n",
      "Epoch 00005: val_mae improved from 0.08593 to 0.07870, saving model to ../../saved_models_mlp/load_all_cp.h5\n",
      "Epoch 6/1000\n",
      "48/48 - 1s - loss: 0.0071 - mae: 0.0629 - val_loss: 0.0101 - val_mae: 0.0758\n",
      "\n",
      "Epoch 00006: val_mae improved from 0.07870 to 0.07578, saving model to ../../saved_models_mlp/load_all_cp.h5\n",
      "Epoch 7/1000\n",
      "48/48 - 1s - loss: 0.0067 - mae: 0.0607 - val_loss: 0.0096 - val_mae: 0.0729\n",
      "\n",
      "Epoch 00007: val_mae improved from 0.07578 to 0.07289, saving model to ../../saved_models_mlp/load_all_cp.h5\n",
      "Epoch 8/1000\n",
      "48/48 - 1s - loss: 0.0065 - mae: 0.0600 - val_loss: 0.0108 - val_mae: 0.0796\n",
      "\n",
      "Epoch 00008: val_mae did not improve from 0.07289\n",
      "Epoch 9/1000\n",
      "48/48 - 1s - loss: 0.0061 - mae: 0.0582 - val_loss: 0.0104 - val_mae: 0.0766\n",
      "\n",
      "Epoch 00009: val_mae did not improve from 0.07289\n",
      "Epoch 10/1000\n",
      "48/48 - 1s - loss: 0.0058 - mae: 0.0563 - val_loss: 0.0097 - val_mae: 0.0717\n",
      "\n",
      "Epoch 00010: val_mae improved from 0.07289 to 0.07169, saving model to ../../saved_models_mlp/load_all_cp.h5\n",
      "Epoch 11/1000\n",
      "48/48 - 1s - loss: 0.0056 - mae: 0.0552 - val_loss: 0.0103 - val_mae: 0.0764\n",
      "\n",
      "Epoch 00011: val_mae did not improve from 0.07169\n",
      "Epoch 12/1000\n",
      "48/48 - 1s - loss: 0.0054 - mae: 0.0543 - val_loss: 0.0098 - val_mae: 0.0732\n",
      "\n",
      "Epoch 00012: val_mae did not improve from 0.07169\n",
      "Epoch 13/1000\n",
      "48/48 - 1s - loss: 0.0052 - mae: 0.0534 - val_loss: 0.0116 - val_mae: 0.0832\n",
      "\n",
      "Epoch 00013: val_mae did not improve from 0.07169\n",
      "Epoch 14/1000\n",
      "48/48 - 1s - loss: 0.0052 - mae: 0.0534 - val_loss: 0.0100 - val_mae: 0.0733\n",
      "\n",
      "Epoch 00014: val_mae did not improve from 0.07169\n",
      "Epoch 15/1000\n",
      "48/48 - 1s - loss: 0.0050 - mae: 0.0522 - val_loss: 0.0102 - val_mae: 0.0746\n",
      "\n",
      "Epoch 00015: val_mae did not improve from 0.07169\n",
      "Epoch 16/1000\n",
      "48/48 - 1s - loss: 0.0048 - mae: 0.0512 - val_loss: 0.0102 - val_mae: 0.0742\n",
      "\n",
      "Epoch 00016: val_mae did not improve from 0.07169\n",
      "Epoch 17/1000\n",
      "48/48 - 1s - loss: 0.0046 - mae: 0.0502 - val_loss: 0.0106 - val_mae: 0.0766\n",
      "\n",
      "Epoch 00017: val_mae did not improve from 0.07169\n",
      "Epoch 18/1000\n",
      "48/48 - 1s - loss: 0.0046 - mae: 0.0505 - val_loss: 0.0103 - val_mae: 0.0740\n",
      "\n",
      "Epoch 00018: val_mae did not improve from 0.07169\n",
      "Epoch 19/1000\n",
      "48/48 - 1s - loss: 0.0043 - mae: 0.0486 - val_loss: 0.0118 - val_mae: 0.0816\n",
      "\n",
      "Epoch 00019: val_mae did not improve from 0.07169\n",
      "Epoch 20/1000\n",
      "48/48 - 1s - loss: 0.0042 - mae: 0.0483 - val_loss: 0.0114 - val_mae: 0.0786\n",
      "\n",
      "Epoch 00020: val_mae did not improve from 0.07169\n",
      "Epoch 21/1000\n",
      "48/48 - 1s - loss: 0.0041 - mae: 0.0479 - val_loss: 0.0127 - val_mae: 0.0830\n",
      "\n",
      "Epoch 00021: val_mae did not improve from 0.07169\n",
      "Epoch 22/1000\n",
      "48/48 - 1s - loss: 0.0039 - mae: 0.0465 - val_loss: 0.0120 - val_mae: 0.0820\n",
      "\n",
      "Epoch 00022: val_mae did not improve from 0.07169\n",
      "Epoch 23/1000\n",
      "48/48 - 1s - loss: 0.0039 - mae: 0.0465 - val_loss: 0.0126 - val_mae: 0.0831\n",
      "\n",
      "Epoch 00023: val_mae did not improve from 0.07169\n",
      "Epoch 24/1000\n",
      "48/48 - 1s - loss: 0.0039 - mae: 0.0469 - val_loss: 0.0130 - val_mae: 0.0857\n",
      "\n",
      "Epoch 00024: val_mae did not improve from 0.07169\n",
      "Epoch 25/1000\n",
      "48/48 - 1s - loss: 0.0036 - mae: 0.0452 - val_loss: 0.0128 - val_mae: 0.0846\n",
      "\n",
      "Epoch 00025: val_mae did not improve from 0.07169\n",
      "Epoch 26/1000\n",
      "48/48 - 1s - loss: 0.0035 - mae: 0.0443 - val_loss: 0.0136 - val_mae: 0.0870\n",
      "\n",
      "Epoch 00026: val_mae did not improve from 0.07169\n",
      "Epoch 27/1000\n",
      "48/48 - 1s - loss: 0.0034 - mae: 0.0437 - val_loss: 0.0133 - val_mae: 0.0862\n",
      "\n",
      "Epoch 00027: val_mae did not improve from 0.07169\n",
      "Epoch 28/1000\n",
      "48/48 - 1s - loss: 0.0034 - mae: 0.0438 - val_loss: 0.0124 - val_mae: 0.0817\n",
      "\n",
      "Epoch 00028: val_mae did not improve from 0.07169\n",
      "Epoch 29/1000\n",
      "48/48 - 1s - loss: 0.0032 - mae: 0.0424 - val_loss: 0.0137 - val_mae: 0.0869\n",
      "\n",
      "Epoch 00029: val_mae did not improve from 0.07169\n",
      "Epoch 30/1000\n",
      "48/48 - 1s - loss: 0.0032 - mae: 0.0429 - val_loss: 0.0139 - val_mae: 0.0871\n",
      "\n",
      "Epoch 00030: val_mae did not improve from 0.07169\n",
      "Epoch 31/1000\n",
      "48/48 - 1s - loss: 0.0030 - mae: 0.0414 - val_loss: 0.0140 - val_mae: 0.0877\n",
      "\n",
      "Epoch 00031: val_mae did not improve from 0.07169\n",
      "Epoch 32/1000\n",
      "48/48 - 1s - loss: 0.0029 - mae: 0.0409 - val_loss: 0.0141 - val_mae: 0.0886\n",
      "\n",
      "Epoch 00032: val_mae did not improve from 0.07169\n",
      "Epoch 33/1000\n",
      "48/48 - 1s - loss: 0.0028 - mae: 0.0401 - val_loss: 0.0138 - val_mae: 0.0865\n",
      "\n",
      "Epoch 00033: val_mae did not improve from 0.07169\n",
      "Epoch 34/1000\n",
      "48/48 - 1s - loss: 0.0028 - mae: 0.0401 - val_loss: 0.0138 - val_mae: 0.0864\n",
      "\n",
      "Epoch 00034: val_mae did not improve from 0.07169\n",
      "Epoch 35/1000\n",
      "48/48 - 1s - loss: 0.0028 - mae: 0.0401 - val_loss: 0.0138 - val_mae: 0.0871\n",
      "\n",
      "Epoch 00035: val_mae did not improve from 0.07169\n",
      "Epoch 36/1000\n",
      "48/48 - 1s - loss: 0.0027 - mae: 0.0391 - val_loss: 0.0146 - val_mae: 0.0893\n",
      "\n",
      "Epoch 00036: val_mae did not improve from 0.07169\n",
      "Epoch 37/1000\n",
      "48/48 - 1s - loss: 0.0026 - mae: 0.0389 - val_loss: 0.0150 - val_mae: 0.0907\n",
      "\n",
      "Epoch 00037: val_mae did not improve from 0.07169\n",
      "Epoch 38/1000\n",
      "48/48 - 1s - loss: 0.0026 - mae: 0.0388 - val_loss: 0.0155 - val_mae: 0.0920\n",
      "\n",
      "Epoch 00038: val_mae did not improve from 0.07169\n",
      "Epoch 39/1000\n",
      "48/48 - 1s - loss: 0.0025 - mae: 0.0376 - val_loss: 0.0162 - val_mae: 0.0946\n",
      "\n",
      "Epoch 00039: val_mae did not improve from 0.07169\n",
      "Epoch 40/1000\n",
      "48/48 - 1s - loss: 0.0023 - mae: 0.0366 - val_loss: 0.0163 - val_mae: 0.0954\n",
      "\n",
      "Epoch 00040: val_mae did not improve from 0.07169\n",
      "Epoch 41/1000\n",
      "48/48 - 1s - loss: 0.0023 - mae: 0.0366 - val_loss: 0.0161 - val_mae: 0.0942\n",
      "\n",
      "Epoch 00041: val_mae did not improve from 0.07169\n",
      "Epoch 42/1000\n",
      "48/48 - 1s - loss: 0.0022 - mae: 0.0358 - val_loss: 0.0161 - val_mae: 0.0936\n",
      "\n",
      "Epoch 00042: val_mae did not improve from 0.07169\n",
      "Epoch 43/1000\n",
      "48/48 - 1s - loss: 0.0022 - mae: 0.0361 - val_loss: 0.0162 - val_mae: 0.0946\n",
      "\n",
      "Epoch 00043: val_mae did not improve from 0.07169\n",
      "Epoch 44/1000\n",
      "48/48 - 1s - loss: 0.0021 - mae: 0.0353 - val_loss: 0.0176 - val_mae: 0.0990\n",
      "\n",
      "Epoch 00044: val_mae did not improve from 0.07169\n",
      "Epoch 45/1000\n",
      "48/48 - 1s - loss: 0.0022 - mae: 0.0356 - val_loss: 0.0159 - val_mae: 0.0930\n",
      "\n",
      "Epoch 00045: val_mae did not improve from 0.07169\n",
      "Epoch 46/1000\n",
      "48/48 - 1s - loss: 0.0021 - mae: 0.0350 - val_loss: 0.0166 - val_mae: 0.0956\n",
      "\n",
      "Epoch 00046: val_mae did not improve from 0.07169\n",
      "Epoch 47/1000\n",
      "48/48 - 1s - loss: 0.0020 - mae: 0.0342 - val_loss: 0.0171 - val_mae: 0.0972\n",
      "\n",
      "Epoch 00047: val_mae did not improve from 0.07169\n",
      "Epoch 48/1000\n",
      "48/48 - 1s - loss: 0.0019 - mae: 0.0332 - val_loss: 0.0173 - val_mae: 0.0983\n",
      "\n",
      "Epoch 00048: val_mae did not improve from 0.07169\n",
      "Epoch 49/1000\n",
      "48/48 - 1s - loss: 0.0019 - mae: 0.0333 - val_loss: 0.0170 - val_mae: 0.0965\n",
      "\n",
      "Epoch 00049: val_mae did not improve from 0.07169\n",
      "Epoch 50/1000\n",
      "48/48 - 1s - loss: 0.0019 - mae: 0.0336 - val_loss: 0.0174 - val_mae: 0.0981\n",
      "\n",
      "Epoch 00050: val_mae did not improve from 0.07169\n",
      "Epoch 51/1000\n",
      "48/48 - 1s - loss: 0.0018 - mae: 0.0323 - val_loss: 0.0184 - val_mae: 0.0998\n",
      "\n",
      "Epoch 00051: val_mae did not improve from 0.07169\n",
      "Epoch 52/1000\n",
      "48/48 - 1s - loss: 0.0018 - mae: 0.0325 - val_loss: 0.0173 - val_mae: 0.0975\n",
      "\n",
      "Epoch 00052: val_mae did not improve from 0.07169\n",
      "Epoch 53/1000\n",
      "48/48 - 1s - loss: 0.0017 - mae: 0.0319 - val_loss: 0.0197 - val_mae: 0.1053\n",
      "\n",
      "Epoch 00053: val_mae did not improve from 0.07169\n",
      "Epoch 54/1000\n",
      "48/48 - 1s - loss: 0.0018 - mae: 0.0322 - val_loss: 0.0189 - val_mae: 0.1025\n",
      "\n",
      "Epoch 00054: val_mae did not improve from 0.07169\n",
      "Epoch 55/1000\n",
      "48/48 - 1s - loss: 0.0017 - mae: 0.0315 - val_loss: 0.0189 - val_mae: 0.1020\n"
     ]
    },
    {
     "name": "stdout",
     "output_type": "stream",
     "text": [
      "\n",
      "Epoch 00055: val_mae did not improve from 0.07169\n",
      "Epoch 56/1000\n",
      "48/48 - 1s - loss: 0.0016 - mae: 0.0310 - val_loss: 0.0198 - val_mae: 0.1050\n",
      "\n",
      "Epoch 00056: val_mae did not improve from 0.07169\n",
      "Epoch 57/1000\n",
      "48/48 - 1s - loss: 0.0016 - mae: 0.0302 - val_loss: 0.0193 - val_mae: 0.1034\n",
      "\n",
      "Epoch 00057: val_mae did not improve from 0.07169\n",
      "Epoch 58/1000\n",
      "48/48 - 1s - loss: 0.0016 - mae: 0.0307 - val_loss: 0.0198 - val_mae: 0.1052\n",
      "\n",
      "Epoch 00058: val_mae did not improve from 0.07169\n",
      "Epoch 59/1000\n",
      "48/48 - 1s - loss: 0.0015 - mae: 0.0294 - val_loss: 0.0199 - val_mae: 0.1053\n",
      "\n",
      "Epoch 00059: val_mae did not improve from 0.07169\n",
      "Epoch 60/1000\n",
      "48/48 - 1s - loss: 0.0015 - mae: 0.0299 - val_loss: 0.0206 - val_mae: 0.1073\n",
      "\n",
      "Epoch 00060: val_mae did not improve from 0.07169\n",
      "Epoch 61/1000\n",
      "48/48 - 1s - loss: 0.0014 - mae: 0.0290 - val_loss: 0.0210 - val_mae: 0.1085\n",
      "\n",
      "Epoch 00061: val_mae did not improve from 0.07169\n",
      "Epoch 62/1000\n",
      "48/48 - 1s - loss: 0.0014 - mae: 0.0286 - val_loss: 0.0204 - val_mae: 0.1073\n",
      "\n",
      "Epoch 00062: val_mae did not improve from 0.07169\n",
      "Epoch 63/1000\n",
      "48/48 - 1s - loss: 0.0014 - mae: 0.0291 - val_loss: 0.0206 - val_mae: 0.1068\n",
      "\n",
      "Epoch 00063: val_mae did not improve from 0.07169\n",
      "Epoch 64/1000\n",
      "48/48 - 1s - loss: 0.0014 - mae: 0.0288 - val_loss: 0.0207 - val_mae: 0.1074\n",
      "\n",
      "Epoch 00064: val_mae did not improve from 0.07169\n",
      "Epoch 65/1000\n",
      "48/48 - 1s - loss: 0.0013 - mae: 0.0277 - val_loss: 0.0208 - val_mae: 0.1078\n",
      "\n",
      "Epoch 00065: val_mae did not improve from 0.07169\n",
      "Epoch 66/1000\n",
      "48/48 - 1s - loss: 0.0013 - mae: 0.0272 - val_loss: 0.0213 - val_mae: 0.1088\n",
      "\n",
      "Epoch 00066: val_mae did not improve from 0.07169\n",
      "Epoch 67/1000\n",
      "48/48 - 1s - loss: 0.0012 - mae: 0.0270 - val_loss: 0.0217 - val_mae: 0.1101\n",
      "\n",
      "Epoch 00067: val_mae did not improve from 0.07169\n",
      "Epoch 68/1000\n",
      "48/48 - 1s - loss: 0.0013 - mae: 0.0273 - val_loss: 0.0222 - val_mae: 0.1118\n",
      "\n",
      "Epoch 00068: val_mae did not improve from 0.07169\n",
      "Epoch 69/1000\n",
      "48/48 - 1s - loss: 0.0012 - mae: 0.0270 - val_loss: 0.0226 - val_mae: 0.1127\n",
      "\n",
      "Epoch 00069: val_mae did not improve from 0.07169\n",
      "Epoch 70/1000\n",
      "48/48 - 1s - loss: 0.0013 - mae: 0.0271 - val_loss: 0.0224 - val_mae: 0.1128\n",
      "\n",
      "Epoch 00070: val_mae did not improve from 0.07169\n",
      "Epoch 71/1000\n",
      "48/48 - 1s - loss: 0.0012 - mae: 0.0267 - val_loss: 0.0226 - val_mae: 0.1130\n",
      "\n",
      "Epoch 00071: val_mae did not improve from 0.07169\n",
      "Epoch 72/1000\n",
      "48/48 - 1s - loss: 0.0012 - mae: 0.0264 - val_loss: 0.0222 - val_mae: 0.1113\n",
      "\n",
      "Epoch 00072: val_mae did not improve from 0.07169\n",
      "Epoch 73/1000\n",
      "48/48 - 1s - loss: 0.0012 - mae: 0.0262 - val_loss: 0.0224 - val_mae: 0.1119\n",
      "\n",
      "Epoch 00073: val_mae did not improve from 0.07169\n",
      "Epoch 74/1000\n",
      "48/48 - 1s - loss: 0.0012 - mae: 0.0271 - val_loss: 0.0221 - val_mae: 0.1118\n",
      "\n",
      "Epoch 00074: val_mae did not improve from 0.07169\n",
      "Epoch 75/1000\n",
      "48/48 - 1s - loss: 0.0011 - mae: 0.0258 - val_loss: 0.0232 - val_mae: 0.1145\n",
      "\n",
      "Epoch 00075: val_mae did not improve from 0.07169\n",
      "Epoch 76/1000\n",
      "48/48 - 1s - loss: 0.0012 - mae: 0.0266 - val_loss: 0.0222 - val_mae: 0.1118\n",
      "\n",
      "Epoch 00076: val_mae did not improve from 0.07169\n",
      "Epoch 77/1000\n",
      "48/48 - 1s - loss: 0.0011 - mae: 0.0258 - val_loss: 0.0229 - val_mae: 0.1134\n",
      "\n",
      "Epoch 00077: val_mae did not improve from 0.07169\n",
      "Epoch 78/1000\n",
      "48/48 - 1s - loss: 0.0011 - mae: 0.0248 - val_loss: 0.0239 - val_mae: 0.1165\n",
      "\n",
      "Epoch 00078: val_mae did not improve from 0.07169\n",
      "Epoch 79/1000\n",
      "48/48 - 1s - loss: 0.0011 - mae: 0.0249 - val_loss: 0.0237 - val_mae: 0.1156\n",
      "\n",
      "Epoch 00079: val_mae did not improve from 0.07169\n",
      "Epoch 80/1000\n",
      "48/48 - 1s - loss: 0.0011 - mae: 0.0253 - val_loss: 0.0230 - val_mae: 0.1138\n",
      "\n",
      "Epoch 00080: val_mae did not improve from 0.07169\n",
      "Epoch 81/1000\n",
      "48/48 - 1s - loss: 0.0010 - mae: 0.0245 - val_loss: 0.0232 - val_mae: 0.1142\n",
      "\n",
      "Epoch 00081: val_mae did not improve from 0.07169\n",
      "Epoch 82/1000\n",
      "48/48 - 1s - loss: 9.9877e-04 - mae: 0.0242 - val_loss: 0.0238 - val_mae: 0.1156\n",
      "\n",
      "Epoch 00082: val_mae did not improve from 0.07169\n",
      "Epoch 83/1000\n",
      "48/48 - 1s - loss: 0.0012 - mae: 0.0262 - val_loss: 0.0234 - val_mae: 0.1146\n",
      "\n",
      "Epoch 00083: val_mae did not improve from 0.07169\n",
      "Epoch 84/1000\n",
      "48/48 - 1s - loss: 0.0011 - mae: 0.0249 - val_loss: 0.0235 - val_mae: 0.1153\n",
      "\n",
      "Epoch 00084: val_mae did not improve from 0.07169\n",
      "Epoch 85/1000\n",
      "48/48 - 1s - loss: 0.0010 - mae: 0.0244 - val_loss: 0.0239 - val_mae: 0.1161\n",
      "\n",
      "Epoch 00085: val_mae did not improve from 0.07169\n",
      "Epoch 86/1000\n",
      "48/48 - 1s - loss: 9.7863e-04 - mae: 0.0239 - val_loss: 0.0237 - val_mae: 0.1153\n",
      "\n",
      "Epoch 00086: val_mae did not improve from 0.07169\n",
      "Epoch 87/1000\n",
      "48/48 - 1s - loss: 9.6971e-04 - mae: 0.0238 - val_loss: 0.0241 - val_mae: 0.1167\n",
      "\n",
      "Epoch 00087: val_mae did not improve from 0.07169\n",
      "Epoch 88/1000\n",
      "48/48 - 1s - loss: 9.9083e-04 - mae: 0.0241 - val_loss: 0.0248 - val_mae: 0.1186\n",
      "\n",
      "Epoch 00088: val_mae did not improve from 0.07169\n",
      "Epoch 89/1000\n",
      "48/48 - 1s - loss: 0.0010 - mae: 0.0245 - val_loss: 0.0248 - val_mae: 0.1188\n",
      "\n",
      "Epoch 00089: val_mae did not improve from 0.07169\n",
      "Epoch 90/1000\n",
      "48/48 - 1s - loss: 0.0011 - mae: 0.0254 - val_loss: 0.0230 - val_mae: 0.1138\n",
      "\n",
      "Epoch 00090: val_mae did not improve from 0.07169\n",
      "Epoch 91/1000\n",
      "48/48 - 1s - loss: 8.9688e-04 - mae: 0.0229 - val_loss: 0.0243 - val_mae: 0.1176\n",
      "\n",
      "Epoch 00091: val_mae did not improve from 0.07169\n",
      "Epoch 92/1000\n",
      "48/48 - 1s - loss: 9.3524e-04 - mae: 0.0234 - val_loss: 0.0239 - val_mae: 0.1170\n",
      "\n",
      "Epoch 00092: val_mae did not improve from 0.07169\n",
      "Epoch 93/1000\n",
      "48/48 - 1s - loss: 9.3549e-04 - mae: 0.0234 - val_loss: 0.0243 - val_mae: 0.1171\n",
      "\n",
      "Epoch 00093: val_mae did not improve from 0.07169\n",
      "Epoch 94/1000\n",
      "48/48 - 1s - loss: 8.6550e-04 - mae: 0.0224 - val_loss: 0.0241 - val_mae: 0.1169\n",
      "\n",
      "Epoch 00094: val_mae did not improve from 0.07169\n",
      "Epoch 95/1000\n",
      "48/48 - 1s - loss: 9.0783e-04 - mae: 0.0231 - val_loss: 0.0240 - val_mae: 0.1165\n",
      "\n",
      "Epoch 00095: val_mae did not improve from 0.07169\n",
      "Epoch 96/1000\n",
      "48/48 - 1s - loss: 9.4828e-04 - mae: 0.0236 - val_loss: 0.0247 - val_mae: 0.1188\n",
      "\n",
      "Epoch 00096: val_mae did not improve from 0.07169\n",
      "Epoch 97/1000\n",
      "48/48 - 1s - loss: 9.9398e-04 - mae: 0.0242 - val_loss: 0.0234 - val_mae: 0.1155\n",
      "\n",
      "Epoch 00097: val_mae did not improve from 0.07169\n",
      "Epoch 98/1000\n",
      "48/48 - 1s - loss: 8.1611e-04 - mae: 0.0217 - val_loss: 0.0246 - val_mae: 0.1182\n",
      "\n",
      "Epoch 00098: val_mae did not improve from 0.07169\n",
      "Epoch 99/1000\n",
      "48/48 - 1s - loss: 7.9739e-04 - mae: 0.0215 - val_loss: 0.0251 - val_mae: 0.1197\n",
      "\n",
      "Epoch 00099: val_mae did not improve from 0.07169\n",
      "Epoch 100/1000\n",
      "48/48 - 1s - loss: 7.9861e-04 - mae: 0.0215 - val_loss: 0.0239 - val_mae: 0.1162\n",
      "\n",
      "Epoch 00100: val_mae did not improve from 0.07169\n",
      "Epoch 101/1000\n",
      "48/48 - 1s - loss: 8.1060e-04 - mae: 0.0217 - val_loss: 0.0246 - val_mae: 0.1179\n",
      "\n",
      "Epoch 00101: val_mae did not improve from 0.07169\n",
      "Epoch 102/1000\n",
      "48/48 - 1s - loss: 8.3115e-04 - mae: 0.0220 - val_loss: 0.0242 - val_mae: 0.1171\n",
      "\n",
      "Epoch 00102: val_mae did not improve from 0.07169\n",
      "Epoch 103/1000\n",
      "48/48 - 1s - loss: 9.0800e-04 - mae: 0.0232 - val_loss: 0.0243 - val_mae: 0.1179\n",
      "\n",
      "Epoch 00103: val_mae did not improve from 0.07169\n",
      "Epoch 104/1000\n",
      "48/48 - 1s - loss: 8.0917e-04 - mae: 0.0217 - val_loss: 0.0242 - val_mae: 0.1171\n",
      "\n",
      "Epoch 00104: val_mae did not improve from 0.07169\n",
      "Epoch 105/1000\n",
      "48/48 - 1s - loss: 8.0321e-04 - mae: 0.0217 - val_loss: 0.0247 - val_mae: 0.1187\n",
      "\n",
      "Epoch 00105: val_mae did not improve from 0.07169\n",
      "Epoch 106/1000\n",
      "48/48 - 1s - loss: 8.0088e-04 - mae: 0.0216 - val_loss: 0.0247 - val_mae: 0.1186\n",
      "\n",
      "Epoch 00106: val_mae did not improve from 0.07169\n",
      "Epoch 107/1000\n",
      "48/48 - 1s - loss: 7.7481e-04 - mae: 0.0212 - val_loss: 0.0247 - val_mae: 0.1184\n",
      "\n",
      "Epoch 00107: val_mae did not improve from 0.07169\n",
      "Epoch 108/1000\n",
      "48/48 - 1s - loss: 7.8695e-04 - mae: 0.0214 - val_loss: 0.0244 - val_mae: 0.1180\n",
      "\n",
      "Epoch 00108: val_mae did not improve from 0.07169\n",
      "Epoch 109/1000\n",
      "48/48 - 1s - loss: 8.1246e-04 - mae: 0.0218 - val_loss: 0.0252 - val_mae: 0.1197\n",
      "\n",
      "Epoch 00109: val_mae did not improve from 0.07169\n",
      "Epoch 110/1000\n",
      "48/48 - 1s - loss: 7.6590e-04 - mae: 0.0211 - val_loss: 0.0249 - val_mae: 0.1192\n",
      "\n",
      "Epoch 00110: val_mae did not improve from 0.07169\n",
      "Epoch 00110: early stopping\n"
     ]
    },
    {
     "data": {
      "text/plain": [
       "<tensorflow.python.keras.callbacks.History at 0x7f9c2a2120d0>"
      ]
     },
     "execution_count": 17,
     "metadata": {},
     "output_type": "execute_result"
    }
   ],
   "source": [
    "# lr_schedule = keras.optimizers.schedules.ExponentialDecay(initial_learning_rate=learning_rate, \n",
    "#                                                           decay_steps=decay_steps,\n",
    "#                                                           decay_rate=decay_rate)\n",
    "\n",
    "# model.compile(optimizer=Adam(learning_rate=lr_schedule),\n",
    "#               loss='mse',\n",
    "#               metrics=['mae']\n",
    "#              )\n",
    "\n",
    "model.compile(optimizer='adam',\n",
    "              loss='mse',\n",
    "              metrics=['mae']\n",
    "             )\n",
    "\n",
    "\n",
    "es = EarlyStopping(monitor='val_mae', mode='min', verbose=2, patience=PATIENCE)\n",
    "mc = ModelCheckpoint('../../saved_models_mlp/load_all.h5', \n",
    "                     monitor='val_mae', \n",
    "                     mode='min', \n",
    "                     verbose=2, \n",
    "                     save_best_only=True\n",
    "                    )\n",
    "\n",
    "\n",
    "model.fit(train_X, train_y,\n",
    "          validation_data=(val_X, val_y),\n",
    "          epochs=EPOCHS,\n",
    "          batch_size=BATCH,\n",
    "          verbose=2,\n",
    "          shuffle=True,\n",
    "          callbacks=[es, mc]\n",
    "         )"
   ]
  },
  {
   "cell_type": "code",
   "execution_count": null,
   "id": "89f3c6f3",
   "metadata": {},
   "outputs": [],
   "source": []
  },
  {
   "cell_type": "code",
   "execution_count": null,
   "id": "56bf5004",
   "metadata": {},
   "outputs": [],
   "source": []
  },
  {
   "cell_type": "code",
   "execution_count": null,
   "id": "48c7c598",
   "metadata": {},
   "outputs": [],
   "source": []
  }
 ],
 "metadata": {
  "kernelspec": {
   "display_name": "Python 3 (ipykernel)",
   "language": "python",
   "name": "python3"
  },
  "language_info": {
   "codemirror_mode": {
    "name": "ipython",
    "version": 3
   },
   "file_extension": ".py",
   "mimetype": "text/x-python",
   "name": "python",
   "nbconvert_exporter": "python",
   "pygments_lexer": "ipython3",
   "version": "3.8.16"
  }
 },
 "nbformat": 4,
 "nbformat_minor": 5
}
